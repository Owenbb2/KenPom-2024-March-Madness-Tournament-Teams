{
 "cells": [
  {
   "cell_type": "code",
   "execution_count": 1,
   "id": "39df0622",
   "metadata": {},
   "outputs": [],
   "source": [
    "#Allow output from every line and import necessary packages\n",
    "from IPython.core.interactiveshell import InteractiveShell\n",
    "InteractiveShell.ast_node_interactivity = \"all\"\n",
    "import numpy as np\n",
    "import pandas as pd\n",
    "import matplotlib.pyplot as plt\n",
    "%matplotlib notebook\n",
    "import seaborn as sns\n",
    "from matplotlib.offsetbox import OffsetImage, AnnotationBbox\n",
    "import PIL\n",
    "import ipywidgets as widgets\n",
    "from ipywidgets import interact, interact_manual"
   ]
  },
  {
   "cell_type": "code",
   "execution_count": 32,
   "id": "836ae6cd",
   "metadata": {
    "scrolled": true
   },
   "outputs": [
    {
     "data": {
      "text/html": [
       "<div>\n",
       "<style scoped>\n",
       "    .dataframe tbody tr th:only-of-type {\n",
       "        vertical-align: middle;\n",
       "    }\n",
       "\n",
       "    .dataframe tbody tr th {\n",
       "        vertical-align: top;\n",
       "    }\n",
       "\n",
       "    .dataframe thead th {\n",
       "        text-align: right;\n",
       "    }\n",
       "</style>\n",
       "<table border=\"1\" class=\"dataframe\">\n",
       "  <thead>\n",
       "    <tr style=\"text-align: right;\">\n",
       "      <th></th>\n",
       "      <th>Team</th>\n",
       "      <th>Seed</th>\n",
       "      <th>Conf</th>\n",
       "      <th>W-L</th>\n",
       "      <th>AdjEM</th>\n",
       "      <th>AdjEM Rank</th>\n",
       "      <th>AdjO</th>\n",
       "      <th>AdjO Rank</th>\n",
       "      <th>AdjD</th>\n",
       "      <th>AdjD Rank</th>\n",
       "      <th>AdjTempo</th>\n",
       "      <th>AdjT Rank</th>\n",
       "      <th>Luck</th>\n",
       "      <th>Luck Rank</th>\n",
       "    </tr>\n",
       "  </thead>\n",
       "  <tbody>\n",
       "    <tr>\n",
       "      <th>0</th>\n",
       "      <td>Connecticut</td>\n",
       "      <td>1</td>\n",
       "      <td>BE</td>\n",
       "      <td>31-3</td>\n",
       "      <td>32.21</td>\n",
       "      <td>1</td>\n",
       "      <td>126.6</td>\n",
       "      <td>1</td>\n",
       "      <td>94.4</td>\n",
       "      <td>11</td>\n",
       "      <td>64.5</td>\n",
       "      <td>329</td>\n",
       "      <td>0.047</td>\n",
       "      <td>70</td>\n",
       "    </tr>\n",
       "    <tr>\n",
       "      <th>1</th>\n",
       "      <td>Houston</td>\n",
       "      <td>1</td>\n",
       "      <td>B12</td>\n",
       "      <td>30-4</td>\n",
       "      <td>31.72</td>\n",
       "      <td>2</td>\n",
       "      <td>118.9</td>\n",
       "      <td>17</td>\n",
       "      <td>87.1</td>\n",
       "      <td>2</td>\n",
       "      <td>63.3</td>\n",
       "      <td>348</td>\n",
       "      <td>0.053</td>\n",
       "      <td>61</td>\n",
       "    </tr>\n",
       "    <tr>\n",
       "      <th>2</th>\n",
       "      <td>Purdue</td>\n",
       "      <td>1</td>\n",
       "      <td>B10</td>\n",
       "      <td>29-4</td>\n",
       "      <td>29.12</td>\n",
       "      <td>3</td>\n",
       "      <td>125.0</td>\n",
       "      <td>4</td>\n",
       "      <td>95.9</td>\n",
       "      <td>21</td>\n",
       "      <td>67.4</td>\n",
       "      <td>175</td>\n",
       "      <td>0.045</td>\n",
       "      <td>75</td>\n",
       "    </tr>\n",
       "    <tr>\n",
       "      <th>3</th>\n",
       "      <td>North Carolina</td>\n",
       "      <td>1</td>\n",
       "      <td>ACC</td>\n",
       "      <td>27-7</td>\n",
       "      <td>24.65</td>\n",
       "      <td>9</td>\n",
       "      <td>117.8</td>\n",
       "      <td>24</td>\n",
       "      <td>93.2</td>\n",
       "      <td>6</td>\n",
       "      <td>70.4</td>\n",
       "      <td>41</td>\n",
       "      <td>-0.024</td>\n",
       "      <td>249</td>\n",
       "    </tr>\n",
       "    <tr>\n",
       "      <th>4</th>\n",
       "      <td>Iowa St.</td>\n",
       "      <td>2</td>\n",
       "      <td>B12</td>\n",
       "      <td>27-7</td>\n",
       "      <td>26.72</td>\n",
       "      <td>5</td>\n",
       "      <td>113.9</td>\n",
       "      <td>55</td>\n",
       "      <td>87.1</td>\n",
       "      <td>1</td>\n",
       "      <td>67.3</td>\n",
       "      <td>179</td>\n",
       "      <td>0.012</td>\n",
       "      <td>155</td>\n",
       "    </tr>\n",
       "    <tr>\n",
       "      <th>...</th>\n",
       "      <td>...</td>\n",
       "      <td>...</td>\n",
       "      <td>...</td>\n",
       "      <td>...</td>\n",
       "      <td>...</td>\n",
       "      <td>...</td>\n",
       "      <td>...</td>\n",
       "      <td>...</td>\n",
       "      <td>...</td>\n",
       "      <td>...</td>\n",
       "      <td>...</td>\n",
       "      <td>...</td>\n",
       "      <td>...</td>\n",
       "      <td>...</td>\n",
       "    </tr>\n",
       "    <tr>\n",
       "      <th>63</th>\n",
       "      <td>Montana St.</td>\n",
       "      <td>16</td>\n",
       "      <td>BSky</td>\n",
       "      <td>17-17</td>\n",
       "      <td>-3.90</td>\n",
       "      <td>213</td>\n",
       "      <td>103.3</td>\n",
       "      <td>234</td>\n",
       "      <td>107.2</td>\n",
       "      <td>198</td>\n",
       "      <td>68.8</td>\n",
       "      <td>96</td>\n",
       "      <td>0.000</td>\n",
       "      <td>184</td>\n",
       "    </tr>\n",
       "    <tr>\n",
       "      <th>64</th>\n",
       "      <td>Stetson</td>\n",
       "      <td>16</td>\n",
       "      <td>ASun</td>\n",
       "      <td>22-12</td>\n",
       "      <td>-4.10</td>\n",
       "      <td>218</td>\n",
       "      <td>110.3</td>\n",
       "      <td>100</td>\n",
       "      <td>114.4</td>\n",
       "      <td>342</td>\n",
       "      <td>66.2</td>\n",
       "      <td>257</td>\n",
       "      <td>0.137</td>\n",
       "      <td>6</td>\n",
       "    </tr>\n",
       "    <tr>\n",
       "      <th>65</th>\n",
       "      <td>Grambling St.</td>\n",
       "      <td>16</td>\n",
       "      <td>SWAC</td>\n",
       "      <td>20-14</td>\n",
       "      <td>-7.81</td>\n",
       "      <td>267</td>\n",
       "      <td>99.3</td>\n",
       "      <td>297</td>\n",
       "      <td>107.1</td>\n",
       "      <td>197</td>\n",
       "      <td>64.8</td>\n",
       "      <td>314</td>\n",
       "      <td>0.131</td>\n",
       "      <td>8</td>\n",
       "    </tr>\n",
       "    <tr>\n",
       "      <th>66</th>\n",
       "      <td>Howard</td>\n",
       "      <td>16</td>\n",
       "      <td>MEAC</td>\n",
       "      <td>18-16</td>\n",
       "      <td>-8.26</td>\n",
       "      <td>276</td>\n",
       "      <td>105.5</td>\n",
       "      <td>192</td>\n",
       "      <td>113.8</td>\n",
       "      <td>334</td>\n",
       "      <td>67.5</td>\n",
       "      <td>163</td>\n",
       "      <td>0.023</td>\n",
       "      <td>119</td>\n",
       "    </tr>\n",
       "    <tr>\n",
       "      <th>67</th>\n",
       "      <td>Wagner</td>\n",
       "      <td>16</td>\n",
       "      <td>NEC</td>\n",
       "      <td>16-15</td>\n",
       "      <td>-10.09</td>\n",
       "      <td>293</td>\n",
       "      <td>95.8</td>\n",
       "      <td>334</td>\n",
       "      <td>105.9</td>\n",
       "      <td>171</td>\n",
       "      <td>61.3</td>\n",
       "      <td>361</td>\n",
       "      <td>0.022</td>\n",
       "      <td>122</td>\n",
       "    </tr>\n",
       "  </tbody>\n",
       "</table>\n",
       "<p>68 rows × 14 columns</p>\n",
       "</div>"
      ],
      "text/plain": [
       "              Team Seed  Conf    W-L  AdjEM  AdjEM Rank   AdjO  AdjO Rank  \\\n",
       "0      Connecticut    1    BE   31-3  32.21           1  126.6          1   \n",
       "1          Houston    1   B12   30-4  31.72           2  118.9         17   \n",
       "2           Purdue    1   B10   29-4  29.12           3  125.0          4   \n",
       "3   North Carolina    1   ACC   27-7  24.65           9  117.8         24   \n",
       "4         Iowa St.    2   B12   27-7  26.72           5  113.9         55   \n",
       "..             ...  ...   ...    ...    ...         ...    ...        ...   \n",
       "63    Montana St.    16  BSky  17-17  -3.90         213  103.3        234   \n",
       "64        Stetson    16  ASun  22-12  -4.10         218  110.3        100   \n",
       "65  Grambling St.    16  SWAC  20-14  -7.81         267   99.3        297   \n",
       "66         Howard    16  MEAC  18-16  -8.26         276  105.5        192   \n",
       "67         Wagner    16   NEC  16-15 -10.09         293   95.8        334   \n",
       "\n",
       "     AdjD  AdjD Rank  AdjTempo  AdjT Rank   Luck  Luck Rank  \n",
       "0    94.4         11      64.5        329  0.047         70  \n",
       "1    87.1          2      63.3        348  0.053         61  \n",
       "2    95.9         21      67.4        175  0.045         75  \n",
       "3    93.2          6      70.4         41 -0.024        249  \n",
       "4    87.1          1      67.3        179  0.012        155  \n",
       "..    ...        ...       ...        ...    ...        ...  \n",
       "63  107.2        198      68.8         96  0.000        184  \n",
       "64  114.4        342      66.2        257  0.137          6  \n",
       "65  107.1        197      64.8        314  0.131          8  \n",
       "66  113.8        334      67.5        163  0.023        119  \n",
       "67  105.9        171      61.3        361  0.022        122  \n",
       "\n",
       "[68 rows x 14 columns]"
      ]
     },
     "execution_count": 32,
     "metadata": {},
     "output_type": "execute_result"
    }
   ],
   "source": [
    "#Read NCAA college basketball efficiency and tempo data from KenPom\n",
    "KenPom = pd.read_csv(\"data/KenPomTournamentTeams_2024.csv\")\n",
    "KenPom = KenPom.rename(columns = {\"Rk\":\"AdjEM Rank\"})\n",
    "KenPom = KenPom.iloc[:,[1,2,3,4,5,0,6,7,8,9,10,11,12,13]]\n",
    "KenPom\n",
    "#AdjEM = Adjusted Efficiency margin\n",
    "#AdjO = Adjusted Offensive Efficiency (points scored per 100 possessions, weighted by opponent)\n",
    "#AdjD = Adjusted Defensive Efficiency (points allowed per 100 possessions, weighted by opponent)"
   ]
  },
  {
   "cell_type": "code",
   "execution_count": 38,
   "id": "0fbfe413",
   "metadata": {},
   "outputs": [
    {
     "data": {
      "text/plain": [
       "['https://www.sportslogos.net/teams/list_by_league/30/NCAA_Division_I_a-c/NCAA_a-c/logos/',\n",
       " 'https://www.sportslogos.net/teams/list_by_league/31/NCAA_Division_I_d-h/NCAA_d-h/logos/',\n",
       " 'https://www.sportslogos.net/teams/list_by_league/32/NCAA_Division_I_i-m/NCAA_i-m/logos/',\n",
       " 'https://www.sportslogos.net/teams/list_by_league/33/NCAA_Division_I_n-r/NCAA_n-r/logos/',\n",
       " 'https://www.sportslogos.net/teams/list_by_league/34/NCAA_Division_I_s-t/NCAA_s-t/logos/',\n",
       " 'https://www.sportslogos.net/teams/list_by_league/35/NCAA_Division_I_u-z/NCAA_u-z/logos/']"
      ]
     },
     "execution_count": 38,
     "metadata": {},
     "output_type": "execute_result"
    }
   ],
   "source": [
    "#Copy urls from sportslogos.net into an iterable list\n",
    "urls = ['https://www.sportslogos.net/teams/list_by_league/30/NCAA_Division_I_a-c/NCAA_a-c/logos/',\n",
    "        'https://www.sportslogos.net/teams/list_by_league/31/NCAA_Division_I_d-h/NCAA_d-h/logos/',\n",
    "        'https://www.sportslogos.net/teams/list_by_league/32/NCAA_Division_I_i-m/NCAA_i-m/logos/',\n",
    "        'https://www.sportslogos.net/teams/list_by_league/33/NCAA_Division_I_n-r/NCAA_n-r/logos/',\n",
    "        'https://www.sportslogos.net/teams/list_by_league/34/NCAA_Division_I_s-t/NCAA_s-t/logos/',\n",
    "        'https://www.sportslogos.net/teams/list_by_league/35/NCAA_Division_I_u-z/NCAA_u-z/logos/']\n",
    "urls"
   ]
  },
  {
   "cell_type": "code",
   "execution_count": 39,
   "id": "5f7322a4",
   "metadata": {},
   "outputs": [],
   "source": [
    "import requests \n",
    "from bs4 import BeautifulSoup\n",
    "\n",
    "#Initialize empty lists for team logo image addresses and team names\n",
    "team_logos = []\n",
    "team_names = []\n",
    "\n",
    "#Define function to return html data to be used for Beautiful Soup html parser\n",
    "def getdata(url): \n",
    "    r = requests.get(url) \n",
    "    return r.text\n",
    "\n",
    "#Iterate through urls and image items in html data and append to corresponding empty list\n",
    "for url in urls:\n",
    "    htmldata = getdata(url) \n",
    "    soup = BeautifulSoup(htmldata, 'html.parser')\n",
    "    \n",
    "    for item in soup.find_all('img'):\n",
    "        team_logos.append(item['src'])\n",
    "        team_names.append(item.next_element)"
   ]
  },
  {
   "cell_type": "code",
   "execution_count": 50,
   "id": "dc99c30b",
   "metadata": {},
   "outputs": [
    {
     "data": {
      "text/plain": [
       "406"
      ]
     },
     "execution_count": 50,
     "metadata": {},
     "output_type": "execute_result"
    },
    {
     "data": {
      "text/plain": [
       "406"
      ]
     },
     "execution_count": 50,
     "metadata": {},
     "output_type": "execute_result"
    },
    {
     "data": {
      "text/html": [
       "<div>\n",
       "<style scoped>\n",
       "    .dataframe tbody tr th:only-of-type {\n",
       "        vertical-align: middle;\n",
       "    }\n",
       "\n",
       "    .dataframe tbody tr th {\n",
       "        vertical-align: top;\n",
       "    }\n",
       "\n",
       "    .dataframe thead th {\n",
       "        text-align: right;\n",
       "    }\n",
       "</style>\n",
       "<table border=\"1\" class=\"dataframe\">\n",
       "  <thead>\n",
       "    <tr style=\"text-align: right;\">\n",
       "      <th></th>\n",
       "      <th>Team</th>\n",
       "      <th>Seed</th>\n",
       "      <th>Conf</th>\n",
       "      <th>W-L</th>\n",
       "      <th>AdjEM</th>\n",
       "      <th>AdjEM Rank</th>\n",
       "      <th>AdjO</th>\n",
       "      <th>AdjO Rank</th>\n",
       "      <th>AdjD</th>\n",
       "      <th>AdjD Rank</th>\n",
       "      <th>AdjTempo</th>\n",
       "      <th>AdjT Rank</th>\n",
       "      <th>Luck</th>\n",
       "      <th>Luck Rank</th>\n",
       "      <th>Team Mascot</th>\n",
       "    </tr>\n",
       "  </thead>\n",
       "  <tbody>\n",
       "    <tr>\n",
       "      <th>0</th>\n",
       "      <td>Connecticut</td>\n",
       "      <td>1</td>\n",
       "      <td>BE</td>\n",
       "      <td>31-3</td>\n",
       "      <td>32.21</td>\n",
       "      <td>1</td>\n",
       "      <td>126.6</td>\n",
       "      <td>1</td>\n",
       "      <td>94.4</td>\n",
       "      <td>11</td>\n",
       "      <td>64.5</td>\n",
       "      <td>329</td>\n",
       "      <td>0.047</td>\n",
       "      <td>70</td>\n",
       "      <td>UConn Huskies</td>\n",
       "    </tr>\n",
       "    <tr>\n",
       "      <th>1</th>\n",
       "      <td>Houston</td>\n",
       "      <td>1</td>\n",
       "      <td>B12</td>\n",
       "      <td>30-4</td>\n",
       "      <td>31.72</td>\n",
       "      <td>2</td>\n",
       "      <td>118.9</td>\n",
       "      <td>17</td>\n",
       "      <td>87.1</td>\n",
       "      <td>2</td>\n",
       "      <td>63.3</td>\n",
       "      <td>348</td>\n",
       "      <td>0.053</td>\n",
       "      <td>61</td>\n",
       "      <td>Houston Cougars</td>\n",
       "    </tr>\n",
       "    <tr>\n",
       "      <th>2</th>\n",
       "      <td>Purdue</td>\n",
       "      <td>1</td>\n",
       "      <td>B10</td>\n",
       "      <td>29-4</td>\n",
       "      <td>29.12</td>\n",
       "      <td>3</td>\n",
       "      <td>125.0</td>\n",
       "      <td>4</td>\n",
       "      <td>95.9</td>\n",
       "      <td>21</td>\n",
       "      <td>67.4</td>\n",
       "      <td>175</td>\n",
       "      <td>0.045</td>\n",
       "      <td>75</td>\n",
       "      <td>Purdue Boilermakers</td>\n",
       "    </tr>\n",
       "    <tr>\n",
       "      <th>3</th>\n",
       "      <td>North Carolina</td>\n",
       "      <td>1</td>\n",
       "      <td>ACC</td>\n",
       "      <td>27-7</td>\n",
       "      <td>24.65</td>\n",
       "      <td>9</td>\n",
       "      <td>117.8</td>\n",
       "      <td>24</td>\n",
       "      <td>93.2</td>\n",
       "      <td>6</td>\n",
       "      <td>70.4</td>\n",
       "      <td>41</td>\n",
       "      <td>-0.024</td>\n",
       "      <td>249</td>\n",
       "      <td>North Carolina Tar Heels</td>\n",
       "    </tr>\n",
       "    <tr>\n",
       "      <th>4</th>\n",
       "      <td>Iowa St.</td>\n",
       "      <td>2</td>\n",
       "      <td>B12</td>\n",
       "      <td>27-7</td>\n",
       "      <td>26.72</td>\n",
       "      <td>5</td>\n",
       "      <td>113.9</td>\n",
       "      <td>55</td>\n",
       "      <td>87.1</td>\n",
       "      <td>1</td>\n",
       "      <td>67.3</td>\n",
       "      <td>179</td>\n",
       "      <td>0.012</td>\n",
       "      <td>155</td>\n",
       "      <td>Iowa State Cyclones</td>\n",
       "    </tr>\n",
       "    <tr>\n",
       "      <th>...</th>\n",
       "      <td>...</td>\n",
       "      <td>...</td>\n",
       "      <td>...</td>\n",
       "      <td>...</td>\n",
       "      <td>...</td>\n",
       "      <td>...</td>\n",
       "      <td>...</td>\n",
       "      <td>...</td>\n",
       "      <td>...</td>\n",
       "      <td>...</td>\n",
       "      <td>...</td>\n",
       "      <td>...</td>\n",
       "      <td>...</td>\n",
       "      <td>...</td>\n",
       "      <td>...</td>\n",
       "    </tr>\n",
       "    <tr>\n",
       "      <th>63</th>\n",
       "      <td>Montana St.</td>\n",
       "      <td>16</td>\n",
       "      <td>BSky</td>\n",
       "      <td>17-17</td>\n",
       "      <td>-3.90</td>\n",
       "      <td>213</td>\n",
       "      <td>103.3</td>\n",
       "      <td>234</td>\n",
       "      <td>107.2</td>\n",
       "      <td>198</td>\n",
       "      <td>68.8</td>\n",
       "      <td>96</td>\n",
       "      <td>0.000</td>\n",
       "      <td>184</td>\n",
       "      <td>Montana State Bobcats</td>\n",
       "    </tr>\n",
       "    <tr>\n",
       "      <th>64</th>\n",
       "      <td>Stetson</td>\n",
       "      <td>16</td>\n",
       "      <td>ASun</td>\n",
       "      <td>22-12</td>\n",
       "      <td>-4.10</td>\n",
       "      <td>218</td>\n",
       "      <td>110.3</td>\n",
       "      <td>100</td>\n",
       "      <td>114.4</td>\n",
       "      <td>342</td>\n",
       "      <td>66.2</td>\n",
       "      <td>257</td>\n",
       "      <td>0.137</td>\n",
       "      <td>6</td>\n",
       "      <td>Stetson Hatters</td>\n",
       "    </tr>\n",
       "    <tr>\n",
       "      <th>65</th>\n",
       "      <td>Grambling St.</td>\n",
       "      <td>16</td>\n",
       "      <td>SWAC</td>\n",
       "      <td>20-14</td>\n",
       "      <td>-7.81</td>\n",
       "      <td>267</td>\n",
       "      <td>99.3</td>\n",
       "      <td>297</td>\n",
       "      <td>107.1</td>\n",
       "      <td>197</td>\n",
       "      <td>64.8</td>\n",
       "      <td>314</td>\n",
       "      <td>0.131</td>\n",
       "      <td>8</td>\n",
       "      <td>Grambling State Tigers</td>\n",
       "    </tr>\n",
       "    <tr>\n",
       "      <th>66</th>\n",
       "      <td>Howard</td>\n",
       "      <td>16</td>\n",
       "      <td>MEAC</td>\n",
       "      <td>18-16</td>\n",
       "      <td>-8.26</td>\n",
       "      <td>276</td>\n",
       "      <td>105.5</td>\n",
       "      <td>192</td>\n",
       "      <td>113.8</td>\n",
       "      <td>334</td>\n",
       "      <td>67.5</td>\n",
       "      <td>163</td>\n",
       "      <td>0.023</td>\n",
       "      <td>119</td>\n",
       "      <td>Howard Bison</td>\n",
       "    </tr>\n",
       "    <tr>\n",
       "      <th>67</th>\n",
       "      <td>Wagner</td>\n",
       "      <td>16</td>\n",
       "      <td>NEC</td>\n",
       "      <td>16-15</td>\n",
       "      <td>-10.09</td>\n",
       "      <td>293</td>\n",
       "      <td>95.8</td>\n",
       "      <td>334</td>\n",
       "      <td>105.9</td>\n",
       "      <td>171</td>\n",
       "      <td>61.3</td>\n",
       "      <td>361</td>\n",
       "      <td>0.022</td>\n",
       "      <td>122</td>\n",
       "      <td>Wagner Seahawks</td>\n",
       "    </tr>\n",
       "  </tbody>\n",
       "</table>\n",
       "<p>68 rows × 15 columns</p>\n",
       "</div>"
      ],
      "text/plain": [
       "              Team Seed  Conf    W-L  AdjEM  AdjEM Rank   AdjO  AdjO Rank  \\\n",
       "0      Connecticut    1    BE   31-3  32.21           1  126.6          1   \n",
       "1          Houston    1   B12   30-4  31.72           2  118.9         17   \n",
       "2           Purdue    1   B10   29-4  29.12           3  125.0          4   \n",
       "3   North Carolina    1   ACC   27-7  24.65           9  117.8         24   \n",
       "4         Iowa St.    2   B12   27-7  26.72           5  113.9         55   \n",
       "..             ...  ...   ...    ...    ...         ...    ...        ...   \n",
       "63    Montana St.    16  BSky  17-17  -3.90         213  103.3        234   \n",
       "64        Stetson    16  ASun  22-12  -4.10         218  110.3        100   \n",
       "65  Grambling St.    16  SWAC  20-14  -7.81         267   99.3        297   \n",
       "66         Howard    16  MEAC  18-16  -8.26         276  105.5        192   \n",
       "67         Wagner    16   NEC  16-15 -10.09         293   95.8        334   \n",
       "\n",
       "     AdjD  AdjD Rank  AdjTempo  AdjT Rank   Luck  Luck Rank  \\\n",
       "0    94.4         11      64.5        329  0.047         70   \n",
       "1    87.1          2      63.3        348  0.053         61   \n",
       "2    95.9         21      67.4        175  0.045         75   \n",
       "3    93.2          6      70.4         41 -0.024        249   \n",
       "4    87.1          1      67.3        179  0.012        155   \n",
       "..    ...        ...       ...        ...    ...        ...   \n",
       "63  107.2        198      68.8         96  0.000        184   \n",
       "64  114.4        342      66.2        257  0.137          6   \n",
       "65  107.1        197      64.8        314  0.131          8   \n",
       "66  113.8        334      67.5        163  0.023        119   \n",
       "67  105.9        171      61.3        361  0.022        122   \n",
       "\n",
       "                 Team Mascot  \n",
       "0              UConn Huskies  \n",
       "1            Houston Cougars  \n",
       "2        Purdue Boilermakers  \n",
       "3   North Carolina Tar Heels  \n",
       "4        Iowa State Cyclones  \n",
       "..                       ...  \n",
       "63     Montana State Bobcats  \n",
       "64           Stetson Hatters  \n",
       "65    Grambling State Tigers  \n",
       "66              Howard Bison  \n",
       "67           Wagner Seahawks  \n",
       "\n",
       "[68 rows x 15 columns]"
      ]
     },
     "execution_count": 50,
     "metadata": {},
     "output_type": "execute_result"
    }
   ],
   "source": [
    "#List comprehension for only gif types (we want only the team logos and not other images on webpage)\n",
    "team_logos = [x for x in team_logos if 'gif' in x]\n",
    "len(team_logos) #check length to compare for final parsed team names (in order to create dictionary)\n",
    "\n",
    "#Begin parsing team names list to remove html nonsense\n",
    "#Initialize empty list to work with\n",
    "team_names_split = []\n",
    "\n",
    "#Split by \\t and create list of lists\n",
    "for i in range(len(team_names)):\n",
    "    team_names_split.append(team_names[i].split(\"\\t\"))\n",
    "\n",
    "#Initialize final list and remove everything other than team name strings\n",
    "team_names_final = []\n",
    "\n",
    "for i in range(len(team_names_split)):\n",
    "    for j in range(len(team_names_split[i])):\n",
    "        if len(team_names_split[i][j]) > 6:\n",
    "            team_names_final.append(team_names_split[i][j])\n",
    "\n",
    "len(team_names_final) #check length of team names equals length of team logos\n",
    "\n",
    "#Create team logos DataFrame to merge to KenPom DataFrame\n",
    "NCAA_team_logos = pd.DataFrame()\n",
    "NCAA_team_logos[\"Team Mascot\"] = team_names_final\n",
    "NCAA_team_logos[\"Path\"] = team_logos \n",
    "\n",
    "team_merge = [\"Akron Zips\",\n",
    "              \"Alabama Crimson Tide\", \n",
    "              \"Arizona Wildcats\",\n",
    "              \"Auburn Tigers\",\n",
    "              \"Brigham Young Cougars\",\n",
    "              \"Baylor Bears\",\n",
    "              \"Boise State Broncos\",\n",
    "              \"College of Charleston Cougars\",\n",
    "              \"Clemson Tigers\",\n",
    "              \"Colgate Raiders\",\n",
    "              \"Colorado Buffaloes\",\n",
    "              \"Colorado State Rams\",\n",
    "              \"UConn Huskies\",\n",
    "              \"Creighton Bluejays\",\n",
    "              \"Dayton Flyers\",\n",
    "              \"Drake Bulldogs\",\n",
    "              \"Duke Blue Devils\",\n",
    "              \"Duquesne Dukes\",\n",
    "              \"Florida Gators\",\n",
    "              \"Florida Atlantic Owls\",\n",
    "              \"Gonzaga Bulldogs\",\n",
    "              \"Grambling State Tigers\",\n",
    "              \"Grand Canyon Antelopes\",\n",
    "              \"Houston Cougars\",\n",
    "              \"Howard Bison\",\n",
    "              \"Illinois Fighting Illini\",\n",
    "              \"Iowa State Cyclones\",\n",
    "              \"James Madison Dukes\",\n",
    "              \"Kansas Jayhawks\",\n",
    "              \"Kentucky Wildcats\",\n",
    "              \"Long Beach State 49ers\",\n",
    "              \"Longwood Lancers\",\n",
    "              \"Marquette Golden Eagles\",\n",
    "              \"McNeese State Cowboys\",\n",
    "              \"Michigan State Spartans\",\n",
    "              \"Mississippi State Bulldogs\",\n",
    "              \"Montana State Bobcats\",\n",
    "              \"Morehead State Eagles\",\n",
    "              \"North Carolina State Wolfpack\",\n",
    "              \"Nebraska Cornhuskers\",\n",
    "              \"Nevada Wolf Pack\",\n",
    "              \"New Mexico Lobos\",\n",
    "              \"North Carolina Tar Heels\",\n",
    "              \"Northwestern Wildcats\",\n",
    "              \"Oakland Golden Grizzlies\",\n",
    "              \"Oregon Ducks\",\n",
    "              \"Purdue Boilermakers\",\n",
    "              \"Saint Marys Gaels\",\n",
    "              \"Saint Peters Peacocks\",\n",
    "              \"Samford Bulldogs\",\n",
    "              \"San Diego State Aztecs\",            \n",
    "              \"South Carolina Gamecocks\",              \n",
    "              \"South Dakota State Jackrabbits\",\n",
    "              \"Stetson Hatters\",\n",
    "              \"TCU Horned Frogs\",              \n",
    "              \"Tennessee Volunteers\",              \n",
    "              \"Texas Longhorns\",              \n",
    "              \"Texas A&M Aggies\",              \n",
    "              \"Texas Tech Red Raiders\",             \n",
    "              \"UAB Blazers\",\n",
    "              \"Utah State Aggies\",\n",
    "              \"Vermont Catamounts\",              \n",
    "              \"Virginia Cavaliers\",              \n",
    "              \"Wagner Seahawks\",              \n",
    "              \"Washington State Cougars\",\n",
    "              \"Western Kentucky Hilltoppers\",\n",
    "              \"Wisconsin Badgers\",              \n",
    "              \"Yale Bulldogs\"]\n",
    "\n",
    "KenPom = KenPom.sort_values(\"Team\")\n",
    "KenPom[\"Team Mascot\"] = team_merge\n",
    "KenPom = KenPom.sort_index()\n",
    "KenPom"
   ]
  },
  {
   "cell_type": "code",
   "execution_count": 51,
   "id": "ac8ff2fa",
   "metadata": {},
   "outputs": [
    {
     "data": {
      "text/html": [
       "<div>\n",
       "<style scoped>\n",
       "    .dataframe tbody tr th:only-of-type {\n",
       "        vertical-align: middle;\n",
       "    }\n",
       "\n",
       "    .dataframe tbody tr th {\n",
       "        vertical-align: top;\n",
       "    }\n",
       "\n",
       "    .dataframe thead th {\n",
       "        text-align: right;\n",
       "    }\n",
       "</style>\n",
       "<table border=\"1\" class=\"dataframe\">\n",
       "  <thead>\n",
       "    <tr style=\"text-align: right;\">\n",
       "      <th></th>\n",
       "      <th>Team</th>\n",
       "      <th>Seed</th>\n",
       "      <th>Conf</th>\n",
       "      <th>W-L</th>\n",
       "      <th>AdjEM</th>\n",
       "      <th>AdjEM Rank</th>\n",
       "      <th>AdjO</th>\n",
       "      <th>AdjO Rank</th>\n",
       "      <th>AdjD</th>\n",
       "      <th>AdjD Rank</th>\n",
       "      <th>AdjTempo</th>\n",
       "      <th>AdjT Rank</th>\n",
       "      <th>Luck</th>\n",
       "      <th>Luck Rank</th>\n",
       "      <th>Team Mascot</th>\n",
       "      <th>Path</th>\n",
       "    </tr>\n",
       "  </thead>\n",
       "  <tbody>\n",
       "    <tr>\n",
       "      <th>0</th>\n",
       "      <td>Connecticut</td>\n",
       "      <td>1</td>\n",
       "      <td>BE</td>\n",
       "      <td>31-3</td>\n",
       "      <td>32.21</td>\n",
       "      <td>1</td>\n",
       "      <td>126.6</td>\n",
       "      <td>1</td>\n",
       "      <td>94.4</td>\n",
       "      <td>11</td>\n",
       "      <td>64.5</td>\n",
       "      <td>329</td>\n",
       "      <td>0.047</td>\n",
       "      <td>70</td>\n",
       "      <td>UConn Huskies</td>\n",
       "      <td>https://content.sportslogos.net/logos/35/884/t...</td>\n",
       "    </tr>\n",
       "    <tr>\n",
       "      <th>1</th>\n",
       "      <td>Houston</td>\n",
       "      <td>1</td>\n",
       "      <td>B12</td>\n",
       "      <td>30-4</td>\n",
       "      <td>31.72</td>\n",
       "      <td>2</td>\n",
       "      <td>118.9</td>\n",
       "      <td>17</td>\n",
       "      <td>87.1</td>\n",
       "      <td>2</td>\n",
       "      <td>63.3</td>\n",
       "      <td>348</td>\n",
       "      <td>0.053</td>\n",
       "      <td>61</td>\n",
       "      <td>Houston Cougars</td>\n",
       "      <td>https://content.sportslogos.net/logos/31/700/t...</td>\n",
       "    </tr>\n",
       "    <tr>\n",
       "      <th>2</th>\n",
       "      <td>Purdue</td>\n",
       "      <td>1</td>\n",
       "      <td>B10</td>\n",
       "      <td>29-4</td>\n",
       "      <td>29.12</td>\n",
       "      <td>3</td>\n",
       "      <td>125.0</td>\n",
       "      <td>4</td>\n",
       "      <td>95.9</td>\n",
       "      <td>21</td>\n",
       "      <td>67.4</td>\n",
       "      <td>175</td>\n",
       "      <td>0.045</td>\n",
       "      <td>75</td>\n",
       "      <td>Purdue Boilermakers</td>\n",
       "      <td>https://content.sportslogos.net/logos/33/809/t...</td>\n",
       "    </tr>\n",
       "    <tr>\n",
       "      <th>3</th>\n",
       "      <td>North Carolina</td>\n",
       "      <td>1</td>\n",
       "      <td>ACC</td>\n",
       "      <td>27-7</td>\n",
       "      <td>24.65</td>\n",
       "      <td>9</td>\n",
       "      <td>117.8</td>\n",
       "      <td>24</td>\n",
       "      <td>93.2</td>\n",
       "      <td>6</td>\n",
       "      <td>70.4</td>\n",
       "      <td>41</td>\n",
       "      <td>-0.024</td>\n",
       "      <td>249</td>\n",
       "      <td>North Carolina Tar Heels</td>\n",
       "      <td>https://content.sportslogos.net/logos/33/775/t...</td>\n",
       "    </tr>\n",
       "    <tr>\n",
       "      <th>4</th>\n",
       "      <td>Iowa St.</td>\n",
       "      <td>2</td>\n",
       "      <td>B12</td>\n",
       "      <td>27-7</td>\n",
       "      <td>26.72</td>\n",
       "      <td>5</td>\n",
       "      <td>113.9</td>\n",
       "      <td>55</td>\n",
       "      <td>87.1</td>\n",
       "      <td>1</td>\n",
       "      <td>67.3</td>\n",
       "      <td>179</td>\n",
       "      <td>0.012</td>\n",
       "      <td>155</td>\n",
       "      <td>Iowa State Cyclones</td>\n",
       "      <td>https://content.sportslogos.net/logos/32/713/t...</td>\n",
       "    </tr>\n",
       "    <tr>\n",
       "      <th>...</th>\n",
       "      <td>...</td>\n",
       "      <td>...</td>\n",
       "      <td>...</td>\n",
       "      <td>...</td>\n",
       "      <td>...</td>\n",
       "      <td>...</td>\n",
       "      <td>...</td>\n",
       "      <td>...</td>\n",
       "      <td>...</td>\n",
       "      <td>...</td>\n",
       "      <td>...</td>\n",
       "      <td>...</td>\n",
       "      <td>...</td>\n",
       "      <td>...</td>\n",
       "      <td>...</td>\n",
       "      <td>...</td>\n",
       "    </tr>\n",
       "    <tr>\n",
       "      <th>63</th>\n",
       "      <td>Montana St.</td>\n",
       "      <td>16</td>\n",
       "      <td>BSky</td>\n",
       "      <td>17-17</td>\n",
       "      <td>-3.90</td>\n",
       "      <td>213</td>\n",
       "      <td>103.3</td>\n",
       "      <td>234</td>\n",
       "      <td>107.2</td>\n",
       "      <td>198</td>\n",
       "      <td>68.8</td>\n",
       "      <td>96</td>\n",
       "      <td>0.000</td>\n",
       "      <td>184</td>\n",
       "      <td>Montana State Bobcats</td>\n",
       "      <td>https://content.sportslogos.net/logos/32/760/t...</td>\n",
       "    </tr>\n",
       "    <tr>\n",
       "      <th>64</th>\n",
       "      <td>Stetson</td>\n",
       "      <td>16</td>\n",
       "      <td>ASun</td>\n",
       "      <td>22-12</td>\n",
       "      <td>-4.10</td>\n",
       "      <td>218</td>\n",
       "      <td>110.3</td>\n",
       "      <td>100</td>\n",
       "      <td>114.4</td>\n",
       "      <td>342</td>\n",
       "      <td>66.2</td>\n",
       "      <td>257</td>\n",
       "      <td>0.137</td>\n",
       "      <td>6</td>\n",
       "      <td>Stetson Hatters</td>\n",
       "      <td>https://content.sportslogos.net/logos/34/857/t...</td>\n",
       "    </tr>\n",
       "    <tr>\n",
       "      <th>65</th>\n",
       "      <td>Grambling St.</td>\n",
       "      <td>16</td>\n",
       "      <td>SWAC</td>\n",
       "      <td>20-14</td>\n",
       "      <td>-7.81</td>\n",
       "      <td>267</td>\n",
       "      <td>99.3</td>\n",
       "      <td>297</td>\n",
       "      <td>107.1</td>\n",
       "      <td>197</td>\n",
       "      <td>64.8</td>\n",
       "      <td>314</td>\n",
       "      <td>0.131</td>\n",
       "      <td>8</td>\n",
       "      <td>Grambling State Tigers</td>\n",
       "      <td>https://content.sportslogos.net/logos/31/692/t...</td>\n",
       "    </tr>\n",
       "    <tr>\n",
       "      <th>66</th>\n",
       "      <td>Howard</td>\n",
       "      <td>16</td>\n",
       "      <td>MEAC</td>\n",
       "      <td>18-16</td>\n",
       "      <td>-8.26</td>\n",
       "      <td>276</td>\n",
       "      <td>105.5</td>\n",
       "      <td>192</td>\n",
       "      <td>113.8</td>\n",
       "      <td>334</td>\n",
       "      <td>67.5</td>\n",
       "      <td>163</td>\n",
       "      <td>0.023</td>\n",
       "      <td>119</td>\n",
       "      <td>Howard Bison</td>\n",
       "      <td>https://content.sportslogos.net/logos/31/701/t...</td>\n",
       "    </tr>\n",
       "    <tr>\n",
       "      <th>67</th>\n",
       "      <td>Wagner</td>\n",
       "      <td>16</td>\n",
       "      <td>NEC</td>\n",
       "      <td>16-15</td>\n",
       "      <td>-10.09</td>\n",
       "      <td>293</td>\n",
       "      <td>95.8</td>\n",
       "      <td>334</td>\n",
       "      <td>105.9</td>\n",
       "      <td>171</td>\n",
       "      <td>61.3</td>\n",
       "      <td>361</td>\n",
       "      <td>0.022</td>\n",
       "      <td>122</td>\n",
       "      <td>Wagner Seahawks</td>\n",
       "      <td>https://content.sportslogos.net/logos/35/902/t...</td>\n",
       "    </tr>\n",
       "  </tbody>\n",
       "</table>\n",
       "<p>68 rows × 16 columns</p>\n",
       "</div>"
      ],
      "text/plain": [
       "              Team Seed  Conf    W-L  AdjEM  AdjEM Rank   AdjO  AdjO Rank  \\\n",
       "0      Connecticut    1    BE   31-3  32.21           1  126.6          1   \n",
       "1          Houston    1   B12   30-4  31.72           2  118.9         17   \n",
       "2           Purdue    1   B10   29-4  29.12           3  125.0          4   \n",
       "3   North Carolina    1   ACC   27-7  24.65           9  117.8         24   \n",
       "4         Iowa St.    2   B12   27-7  26.72           5  113.9         55   \n",
       "..             ...  ...   ...    ...    ...         ...    ...        ...   \n",
       "63    Montana St.    16  BSky  17-17  -3.90         213  103.3        234   \n",
       "64        Stetson    16  ASun  22-12  -4.10         218  110.3        100   \n",
       "65  Grambling St.    16  SWAC  20-14  -7.81         267   99.3        297   \n",
       "66         Howard    16  MEAC  18-16  -8.26         276  105.5        192   \n",
       "67         Wagner    16   NEC  16-15 -10.09         293   95.8        334   \n",
       "\n",
       "     AdjD  AdjD Rank  AdjTempo  AdjT Rank   Luck  Luck Rank  \\\n",
       "0    94.4         11      64.5        329  0.047         70   \n",
       "1    87.1          2      63.3        348  0.053         61   \n",
       "2    95.9         21      67.4        175  0.045         75   \n",
       "3    93.2          6      70.4         41 -0.024        249   \n",
       "4    87.1          1      67.3        179  0.012        155   \n",
       "..    ...        ...       ...        ...    ...        ...   \n",
       "63  107.2        198      68.8         96  0.000        184   \n",
       "64  114.4        342      66.2        257  0.137          6   \n",
       "65  107.1        197      64.8        314  0.131          8   \n",
       "66  113.8        334      67.5        163  0.023        119   \n",
       "67  105.9        171      61.3        361  0.022        122   \n",
       "\n",
       "                 Team Mascot  \\\n",
       "0              UConn Huskies   \n",
       "1            Houston Cougars   \n",
       "2        Purdue Boilermakers   \n",
       "3   North Carolina Tar Heels   \n",
       "4        Iowa State Cyclones   \n",
       "..                       ...   \n",
       "63     Montana State Bobcats   \n",
       "64           Stetson Hatters   \n",
       "65    Grambling State Tigers   \n",
       "66              Howard Bison   \n",
       "67           Wagner Seahawks   \n",
       "\n",
       "                                                 Path  \n",
       "0   https://content.sportslogos.net/logos/35/884/t...  \n",
       "1   https://content.sportslogos.net/logos/31/700/t...  \n",
       "2   https://content.sportslogos.net/logos/33/809/t...  \n",
       "3   https://content.sportslogos.net/logos/33/775/t...  \n",
       "4   https://content.sportslogos.net/logos/32/713/t...  \n",
       "..                                                ...  \n",
       "63  https://content.sportslogos.net/logos/32/760/t...  \n",
       "64  https://content.sportslogos.net/logos/34/857/t...  \n",
       "65  https://content.sportslogos.net/logos/31/692/t...  \n",
       "66  https://content.sportslogos.net/logos/31/701/t...  \n",
       "67  https://content.sportslogos.net/logos/35/902/t...  \n",
       "\n",
       "[68 rows x 16 columns]"
      ]
     },
     "execution_count": 51,
     "metadata": {},
     "output_type": "execute_result"
    }
   ],
   "source": [
    "#Left join logos DataFrame to KenPom data\n",
    "KenPom = pd.merge(KenPom, NCAA_team_logos, how=\"left\", on=\"Team Mascot\")\n",
    "KenPom"
   ]
  },
  {
   "cell_type": "code",
   "execution_count": 52,
   "id": "d8031f97",
   "metadata": {
    "scrolled": true
   },
   "outputs": [
    {
     "data": {
      "text/plain": [
       "('C:\\\\Users\\\\owenb\\\\OneDrive\\\\Python Sport Analytics\\\\Module 8 Final Project\\\\Logo_Connecticut.JPG',\n",
       " <http.client.HTTPMessage at 0x225f05d5fd0>)"
      ]
     },
     "execution_count": 52,
     "metadata": {},
     "output_type": "execute_result"
    },
    {
     "data": {
      "text/plain": [
       "('C:\\\\Users\\\\owenb\\\\OneDrive\\\\Python Sport Analytics\\\\Module 8 Final Project\\\\Logo_Houston.JPG',\n",
       " <http.client.HTTPMessage at 0x225ef49f710>)"
      ]
     },
     "execution_count": 52,
     "metadata": {},
     "output_type": "execute_result"
    },
    {
     "data": {
      "text/plain": [
       "('C:\\\\Users\\\\owenb\\\\OneDrive\\\\Python Sport Analytics\\\\Module 8 Final Project\\\\Logo_Purdue.JPG',\n",
       " <http.client.HTTPMessage at 0x225ef4b4410>)"
      ]
     },
     "execution_count": 52,
     "metadata": {},
     "output_type": "execute_result"
    },
    {
     "data": {
      "text/plain": [
       "('C:\\\\Users\\\\owenb\\\\OneDrive\\\\Python Sport Analytics\\\\Module 8 Final Project\\\\Logo_North Carolina.JPG',\n",
       " <http.client.HTTPMessage at 0x225ef489f90>)"
      ]
     },
     "execution_count": 52,
     "metadata": {},
     "output_type": "execute_result"
    },
    {
     "data": {
      "text/plain": [
       "('C:\\\\Users\\\\owenb\\\\OneDrive\\\\Python Sport Analytics\\\\Module 8 Final Project\\\\Logo_Iowa St..JPG',\n",
       " <http.client.HTTPMessage at 0x225ef4885d0>)"
      ]
     },
     "execution_count": 52,
     "metadata": {},
     "output_type": "execute_result"
    },
    {
     "data": {
      "text/plain": [
       "('C:\\\\Users\\\\owenb\\\\OneDrive\\\\Python Sport Analytics\\\\Module 8 Final Project\\\\Logo_Arizona.JPG',\n",
       " <http.client.HTTPMessage at 0x225ef18ea10>)"
      ]
     },
     "execution_count": 52,
     "metadata": {},
     "output_type": "execute_result"
    },
    {
     "data": {
      "text/plain": [
       "('C:\\\\Users\\\\owenb\\\\OneDrive\\\\Python Sport Analytics\\\\Module 8 Final Project\\\\Logo_Tennessee.JPG',\n",
       " <http.client.HTTPMessage at 0x225ef488390>)"
      ]
     },
     "execution_count": 52,
     "metadata": {},
     "output_type": "execute_result"
    },
    {
     "data": {
      "text/plain": [
       "('C:\\\\Users\\\\owenb\\\\OneDrive\\\\Python Sport Analytics\\\\Module 8 Final Project\\\\Logo_Marquette.JPG',\n",
       " <http.client.HTTPMessage at 0x225ef489b10>)"
      ]
     },
     "execution_count": 52,
     "metadata": {},
     "output_type": "execute_result"
    },
    {
     "data": {
      "text/plain": [
       "('C:\\\\Users\\\\owenb\\\\OneDrive\\\\Python Sport Analytics\\\\Module 8 Final Project\\\\Logo_Illinois.JPG',\n",
       " <http.client.HTTPMessage at 0x225ef48ae10>)"
      ]
     },
     "execution_count": 52,
     "metadata": {},
     "output_type": "execute_result"
    },
    {
     "data": {
      "text/plain": [
       "('C:\\\\Users\\\\owenb\\\\OneDrive\\\\Python Sport Analytics\\\\Module 8 Final Project\\\\Logo_Creighton.JPG',\n",
       " <http.client.HTTPMessage at 0x225ef489850>)"
      ]
     },
     "execution_count": 52,
     "metadata": {},
     "output_type": "execute_result"
    },
    {
     "data": {
      "text/plain": [
       "('C:\\\\Users\\\\owenb\\\\OneDrive\\\\Python Sport Analytics\\\\Module 8 Final Project\\\\Logo_Baylor.JPG',\n",
       " <http.client.HTTPMessage at 0x225ef488850>)"
      ]
     },
     "execution_count": 52,
     "metadata": {},
     "output_type": "execute_result"
    },
    {
     "data": {
      "text/plain": [
       "('C:\\\\Users\\\\owenb\\\\OneDrive\\\\Python Sport Analytics\\\\Module 8 Final Project\\\\Logo_Kentucky.JPG',\n",
       " <http.client.HTTPMessage at 0x225ef48ad10>)"
      ]
     },
     "execution_count": 52,
     "metadata": {},
     "output_type": "execute_result"
    },
    {
     "data": {
      "text/plain": [
       "('C:\\\\Users\\\\owenb\\\\OneDrive\\\\Python Sport Analytics\\\\Module 8 Final Project\\\\Logo_Auburn.JPG',\n",
       " <http.client.HTTPMessage at 0x225ef182650>)"
      ]
     },
     "execution_count": 52,
     "metadata": {},
     "output_type": "execute_result"
    },
    {
     "data": {
      "text/plain": [
       "('C:\\\\Users\\\\owenb\\\\OneDrive\\\\Python Sport Analytics\\\\Module 8 Final Project\\\\Logo_Duke.JPG',\n",
       " <http.client.HTTPMessage at 0x225ef1813d0>)"
      ]
     },
     "execution_count": 52,
     "metadata": {},
     "output_type": "execute_result"
    },
    {
     "data": {
      "text/plain": [
       "('C:\\\\Users\\\\owenb\\\\OneDrive\\\\Python Sport Analytics\\\\Module 8 Final Project\\\\Logo_Alabama.JPG',\n",
       " <http.client.HTTPMessage at 0x225ef183b50>)"
      ]
     },
     "execution_count": 52,
     "metadata": {},
     "output_type": "execute_result"
    },
    {
     "data": {
      "text/plain": [
       "('C:\\\\Users\\\\owenb\\\\OneDrive\\\\Python Sport Analytics\\\\Module 8 Final Project\\\\Logo_Kansas.JPG',\n",
       " <http.client.HTTPMessage at 0x225ef181a10>)"
      ]
     },
     "execution_count": 52,
     "metadata": {},
     "output_type": "execute_result"
    },
    {
     "data": {
      "text/plain": [
       "('C:\\\\Users\\\\owenb\\\\OneDrive\\\\Python Sport Analytics\\\\Module 8 Final Project\\\\Logo_Gonzaga.JPG',\n",
       " <http.client.HTTPMessage at 0x225ef1834d0>)"
      ]
     },
     "execution_count": 52,
     "metadata": {},
     "output_type": "execute_result"
    },
    {
     "data": {
      "text/plain": [
       "('C:\\\\Users\\\\owenb\\\\OneDrive\\\\Python Sport Analytics\\\\Module 8 Final Project\\\\Logo_Wisconsin.JPG',\n",
       " <http.client.HTTPMessage at 0x225ef183710>)"
      ]
     },
     "execution_count": 52,
     "metadata": {},
     "output_type": "execute_result"
    },
    {
     "data": {
      "text/plain": [
       "(\"C:\\\\Users\\\\owenb\\\\OneDrive\\\\Python Sport Analytics\\\\Module 8 Final Project\\\\Logo_Saint Mary's.JPG\",\n",
       " <http.client.HTTPMessage at 0x225ef182350>)"
      ]
     },
     "execution_count": 52,
     "metadata": {},
     "output_type": "execute_result"
    },
    {
     "data": {
      "text/plain": [
       "('C:\\\\Users\\\\owenb\\\\OneDrive\\\\Python Sport Analytics\\\\Module 8 Final Project\\\\Logo_San Diego St..JPG',\n",
       " <http.client.HTTPMessage at 0x225ef180610>)"
      ]
     },
     "execution_count": 52,
     "metadata": {},
     "output_type": "execute_result"
    },
    {
     "data": {
      "text/plain": [
       "('C:\\\\Users\\\\owenb\\\\OneDrive\\\\Python Sport Analytics\\\\Module 8 Final Project\\\\Logo_BYU.JPG',\n",
       " <http.client.HTTPMessage at 0x225ef182590>)"
      ]
     },
     "execution_count": 52,
     "metadata": {},
     "output_type": "execute_result"
    },
    {
     "data": {
      "text/plain": [
       "('C:\\\\Users\\\\owenb\\\\OneDrive\\\\Python Sport Analytics\\\\Module 8 Final Project\\\\Logo_Texas Tech.JPG',\n",
       " <http.client.HTTPMessage at 0x225ef180e90>)"
      ]
     },
     "execution_count": 52,
     "metadata": {},
     "output_type": "execute_result"
    },
    {
     "data": {
      "text/plain": [
       "('C:\\\\Users\\\\owenb\\\\OneDrive\\\\Python Sport Analytics\\\\Module 8 Final Project\\\\Logo_Clemson.JPG',\n",
       " <http.client.HTTPMessage at 0x225ef182b10>)"
      ]
     },
     "execution_count": 52,
     "metadata": {},
     "output_type": "execute_result"
    },
    {
     "data": {
      "text/plain": [
       "('C:\\\\Users\\\\owenb\\\\OneDrive\\\\Python Sport Analytics\\\\Module 8 Final Project\\\\Logo_South Carolina.JPG',\n",
       " <http.client.HTTPMessage at 0x225ef181790>)"
      ]
     },
     "execution_count": 52,
     "metadata": {},
     "output_type": "execute_result"
    },
    {
     "data": {
      "text/plain": [
       "('C:\\\\Users\\\\owenb\\\\OneDrive\\\\Python Sport Analytics\\\\Module 8 Final Project\\\\Logo_Texas.JPG',\n",
       " <http.client.HTTPMessage at 0x225ef181890>)"
      ]
     },
     "execution_count": 52,
     "metadata": {},
     "output_type": "execute_result"
    },
    {
     "data": {
      "text/plain": [
       "('C:\\\\Users\\\\owenb\\\\OneDrive\\\\Python Sport Analytics\\\\Module 8 Final Project\\\\Logo_Florida.JPG',\n",
       " <http.client.HTTPMessage at 0x225ef183cd0>)"
      ]
     },
     "execution_count": 52,
     "metadata": {},
     "output_type": "execute_result"
    },
    {
     "data": {
      "text/plain": [
       "('C:\\\\Users\\\\owenb\\\\OneDrive\\\\Python Sport Analytics\\\\Module 8 Final Project\\\\Logo_Dayton.JPG',\n",
       " <http.client.HTTPMessage at 0x225ef189f90>)"
      ]
     },
     "execution_count": 52,
     "metadata": {},
     "output_type": "execute_result"
    },
    {
     "data": {
      "text/plain": [
       "('C:\\\\Users\\\\owenb\\\\OneDrive\\\\Python Sport Analytics\\\\Module 8 Final Project\\\\Logo_Washington St..JPG',\n",
       " <http.client.HTTPMessage at 0x225ef18b750>)"
      ]
     },
     "execution_count": 52,
     "metadata": {},
     "output_type": "execute_result"
    },
    {
     "data": {
      "text/plain": [
       "('C:\\\\Users\\\\owenb\\\\OneDrive\\\\Python Sport Analytics\\\\Module 8 Final Project\\\\Logo_Nebraska.JPG',\n",
       " <http.client.HTTPMessage at 0x225ef18aed0>)"
      ]
     },
     "execution_count": 52,
     "metadata": {},
     "output_type": "execute_result"
    },
    {
     "data": {
      "text/plain": [
       "('C:\\\\Users\\\\owenb\\\\OneDrive\\\\Python Sport Analytics\\\\Module 8 Final Project\\\\Logo_Mississippi St..JPG',\n",
       " <http.client.HTTPMessage at 0x225ef18af10>)"
      ]
     },
     "execution_count": 52,
     "metadata": {},
     "output_type": "execute_result"
    },
    {
     "data": {
      "text/plain": [
       "('C:\\\\Users\\\\owenb\\\\OneDrive\\\\Python Sport Analytics\\\\Module 8 Final Project\\\\Logo_Florida Atlantic.JPG',\n",
       " <http.client.HTTPMessage at 0x225ef18a410>)"
      ]
     },
     "execution_count": 52,
     "metadata": {},
     "output_type": "execute_result"
    },
    {
     "data": {
      "text/plain": [
       "('C:\\\\Users\\\\owenb\\\\OneDrive\\\\Python Sport Analytics\\\\Module 8 Final Project\\\\Logo_Utah St..JPG',\n",
       " <http.client.HTTPMessage at 0x225ef18a390>)"
      ]
     },
     "execution_count": 52,
     "metadata": {},
     "output_type": "execute_result"
    },
    {
     "data": {
      "text/plain": [
       "('C:\\\\Users\\\\owenb\\\\OneDrive\\\\Python Sport Analytics\\\\Module 8 Final Project\\\\Logo_Michigan St..JPG',\n",
       " <http.client.HTTPMessage at 0x225ef189a50>)"
      ]
     },
     "execution_count": 52,
     "metadata": {},
     "output_type": "execute_result"
    },
    {
     "data": {
      "text/plain": [
       "('C:\\\\Users\\\\owenb\\\\OneDrive\\\\Python Sport Analytics\\\\Module 8 Final Project\\\\Logo_TCU.JPG',\n",
       " <http.client.HTTPMessage at 0x225ef18bb90>)"
      ]
     },
     "execution_count": 52,
     "metadata": {},
     "output_type": "execute_result"
    },
    {
     "data": {
      "text/plain": [
       "('C:\\\\Users\\\\owenb\\\\OneDrive\\\\Python Sport Analytics\\\\Module 8 Final Project\\\\Logo_Texas A&M.JPG',\n",
       " <http.client.HTTPMessage at 0x225ef18b110>)"
      ]
     },
     "execution_count": 52,
     "metadata": {},
     "output_type": "execute_result"
    },
    {
     "data": {
      "text/plain": [
       "('C:\\\\Users\\\\owenb\\\\OneDrive\\\\Python Sport Analytics\\\\Module 8 Final Project\\\\Logo_Northwestern.JPG',\n",
       " <http.client.HTTPMessage at 0x225ef188bd0>)"
      ]
     },
     "execution_count": 52,
     "metadata": {},
     "output_type": "execute_result"
    },
    {
     "data": {
      "text/plain": [
       "('C:\\\\Users\\\\owenb\\\\OneDrive\\\\Python Sport Analytics\\\\Module 8 Final Project\\\\Logo_Colorado\\xa0.JPG',\n",
       " <http.client.HTTPMessage at 0x225ef189e10>)"
      ]
     },
     "execution_count": 52,
     "metadata": {},
     "output_type": "execute_result"
    },
    {
     "data": {
      "text/plain": [
       "('C:\\\\Users\\\\owenb\\\\OneDrive\\\\Python Sport Analytics\\\\Module 8 Final Project\\\\Logo_Nevada\\xa0.JPG',\n",
       " <http.client.HTTPMessage at 0x225ef18a010>)"
      ]
     },
     "execution_count": 52,
     "metadata": {},
     "output_type": "execute_result"
    },
    {
     "data": {
      "text/plain": [
       "('C:\\\\Users\\\\owenb\\\\OneDrive\\\\Python Sport Analytics\\\\Module 8 Final Project\\\\Logo_Colorado St.\\xa0.JPG',\n",
       " <http.client.HTTPMessage at 0x225ef18a950>)"
      ]
     },
     "execution_count": 52,
     "metadata": {},
     "output_type": "execute_result"
    },
    {
     "data": {
      "text/plain": [
       "('C:\\\\Users\\\\owenb\\\\OneDrive\\\\Python Sport Analytics\\\\Module 8 Final Project\\\\Logo_Boise St.\\xa0.JPG',\n",
       " <http.client.HTTPMessage at 0x225ef18bed0>)"
      ]
     },
     "execution_count": 52,
     "metadata": {},
     "output_type": "execute_result"
    },
    {
     "data": {
      "text/plain": [
       "('C:\\\\Users\\\\owenb\\\\OneDrive\\\\Python Sport Analytics\\\\Module 8 Final Project\\\\Logo_Drake\\xa0.JPG',\n",
       " <http.client.HTTPMessage at 0x225ef188090>)"
      ]
     },
     "execution_count": 52,
     "metadata": {},
     "output_type": "execute_result"
    },
    {
     "data": {
      "text/plain": [
       "('C:\\\\Users\\\\owenb\\\\OneDrive\\\\Python Sport Analytics\\\\Module 8 Final Project\\\\Logo_Virginia\\xa0.JPG',\n",
       " <http.client.HTTPMessage at 0x225ef1892d0>)"
      ]
     },
     "execution_count": 52,
     "metadata": {},
     "output_type": "execute_result"
    },
    {
     "data": {
      "text/plain": [
       "('C:\\\\Users\\\\owenb\\\\OneDrive\\\\Python Sport Analytics\\\\Module 8 Final Project\\\\Logo_New Mexico\\xa0.JPG',\n",
       " <http.client.HTTPMessage at 0x225ef189090>)"
      ]
     },
     "execution_count": 52,
     "metadata": {},
     "output_type": "execute_result"
    },
    {
     "data": {
      "text/plain": [
       "('C:\\\\Users\\\\owenb\\\\OneDrive\\\\Python Sport Analytics\\\\Module 8 Final Project\\\\Logo_Oregon\\xa0.JPG',\n",
       " <http.client.HTTPMessage at 0x225ef286c10>)"
      ]
     },
     "execution_count": 52,
     "metadata": {},
     "output_type": "execute_result"
    },
    {
     "data": {
      "text/plain": [
       "('C:\\\\Users\\\\owenb\\\\OneDrive\\\\Python Sport Analytics\\\\Module 8 Final Project\\\\Logo_N.C. State\\xa0.JPG',\n",
       " <http.client.HTTPMessage at 0x225ef287fd0>)"
      ]
     },
     "execution_count": 52,
     "metadata": {},
     "output_type": "execute_result"
    },
    {
     "data": {
      "text/plain": [
       "('C:\\\\Users\\\\owenb\\\\OneDrive\\\\Python Sport Analytics\\\\Module 8 Final Project\\\\Logo_Duquesne\\xa0.JPG',\n",
       " <http.client.HTTPMessage at 0x225ef286a10>)"
      ]
     },
     "execution_count": 52,
     "metadata": {},
     "output_type": "execute_result"
    },
    {
     "data": {
      "text/plain": [
       "('C:\\\\Users\\\\owenb\\\\OneDrive\\\\Python Sport Analytics\\\\Module 8 Final Project\\\\Logo_Grand Canyon\\xa0.JPG',\n",
       " <http.client.HTTPMessage at 0x225ef284d90>)"
      ]
     },
     "execution_count": 52,
     "metadata": {},
     "output_type": "execute_result"
    },
    {
     "data": {
      "text/plain": [
       "('C:\\\\Users\\\\owenb\\\\OneDrive\\\\Python Sport Analytics\\\\Module 8 Final Project\\\\Logo_James Madison\\xa0.JPG',\n",
       " <http.client.HTTPMessage at 0x225ef287b90>)"
      ]
     },
     "execution_count": 52,
     "metadata": {},
     "output_type": "execute_result"
    },
    {
     "data": {
      "text/plain": [
       "('C:\\\\Users\\\\owenb\\\\OneDrive\\\\Python Sport Analytics\\\\Module 8 Final Project\\\\Logo_McNeese St.\\xa0.JPG',\n",
       " <http.client.HTTPMessage at 0x225ef286c10>)"
      ]
     },
     "execution_count": 52,
     "metadata": {},
     "output_type": "execute_result"
    },
    {
     "data": {
      "text/plain": [
       "('C:\\\\Users\\\\owenb\\\\OneDrive\\\\Python Sport Analytics\\\\Module 8 Final Project\\\\Logo_UAB\\xa0.JPG',\n",
       " <http.client.HTTPMessage at 0x225ef287990>)"
      ]
     },
     "execution_count": 52,
     "metadata": {},
     "output_type": "execute_result"
    },
    {
     "data": {
      "text/plain": [
       "('C:\\\\Users\\\\owenb\\\\OneDrive\\\\Python Sport Analytics\\\\Module 8 Final Project\\\\Logo_Samford\\xa0.JPG',\n",
       " <http.client.HTTPMessage at 0x225ef287fd0>)"
      ]
     },
     "execution_count": 52,
     "metadata": {},
     "output_type": "execute_result"
    },
    {
     "data": {
      "text/plain": [
       "('C:\\\\Users\\\\owenb\\\\OneDrive\\\\Python Sport Analytics\\\\Module 8 Final Project\\\\Logo_Yale\\xa0.JPG',\n",
       " <http.client.HTTPMessage at 0x225ef2846d0>)"
      ]
     },
     "execution_count": 52,
     "metadata": {},
     "output_type": "execute_result"
    },
    {
     "data": {
      "text/plain": [
       "('C:\\\\Users\\\\owenb\\\\OneDrive\\\\Python Sport Analytics\\\\Module 8 Final Project\\\\Logo_Charleston\\xa0.JPG',\n",
       " <http.client.HTTPMessage at 0x225ef286e10>)"
      ]
     },
     "execution_count": 52,
     "metadata": {},
     "output_type": "execute_result"
    },
    {
     "data": {
      "text/plain": [
       "('C:\\\\Users\\\\owenb\\\\OneDrive\\\\Python Sport Analytics\\\\Module 8 Final Project\\\\Logo_Vermont\\xa0.JPG',\n",
       " <http.client.HTTPMessage at 0x225ef287790>)"
      ]
     },
     "execution_count": 52,
     "metadata": {},
     "output_type": "execute_result"
    },
    {
     "data": {
      "text/plain": [
       "('C:\\\\Users\\\\owenb\\\\OneDrive\\\\Python Sport Analytics\\\\Module 8 Final Project\\\\Logo_Morehead St.\\xa0.JPG',\n",
       " <http.client.HTTPMessage at 0x225ef285490>)"
      ]
     },
     "execution_count": 52,
     "metadata": {},
     "output_type": "execute_result"
    },
    {
     "data": {
      "text/plain": [
       "('C:\\\\Users\\\\owenb\\\\OneDrive\\\\Python Sport Analytics\\\\Module 8 Final Project\\\\Logo_Akron\\xa0.JPG',\n",
       " <http.client.HTTPMessage at 0x225ef284090>)"
      ]
     },
     "execution_count": 52,
     "metadata": {},
     "output_type": "execute_result"
    },
    {
     "data": {
      "text/plain": [
       "('C:\\\\Users\\\\owenb\\\\OneDrive\\\\Python Sport Analytics\\\\Module 8 Final Project\\\\Logo_Oakland\\xa0.JPG',\n",
       " <http.client.HTTPMessage at 0x225ef286350>)"
      ]
     },
     "execution_count": 52,
     "metadata": {},
     "output_type": "execute_result"
    },
    {
     "data": {
      "text/plain": [
       "('C:\\\\Users\\\\owenb\\\\OneDrive\\\\Python Sport Analytics\\\\Module 8 Final Project\\\\Logo_Colgate\\xa0.JPG',\n",
       " <http.client.HTTPMessage at 0x225ef2e7950>)"
      ]
     },
     "execution_count": 52,
     "metadata": {},
     "output_type": "execute_result"
    },
    {
     "data": {
      "text/plain": [
       "('C:\\\\Users\\\\owenb\\\\OneDrive\\\\Python Sport Analytics\\\\Module 8 Final Project\\\\Logo_Western Kentucky\\xa0.JPG',\n",
       " <http.client.HTTPMessage at 0x225ef2e6410>)"
      ]
     },
     "execution_count": 52,
     "metadata": {},
     "output_type": "execute_result"
    },
    {
     "data": {
      "text/plain": [
       "('C:\\\\Users\\\\owenb\\\\OneDrive\\\\Python Sport Analytics\\\\Module 8 Final Project\\\\Logo_South Dakota St.\\xa0.JPG',\n",
       " <http.client.HTTPMessage at 0x225ef287550>)"
      ]
     },
     "execution_count": 52,
     "metadata": {},
     "output_type": "execute_result"
    },
    {
     "data": {
      "text/plain": [
       "('C:\\\\Users\\\\owenb\\\\OneDrive\\\\Python Sport Analytics\\\\Module 8 Final Project\\\\Logo_Long Beach St.\\xa0.JPG',\n",
       " <http.client.HTTPMessage at 0x225ef2e5010>)"
      ]
     },
     "execution_count": 52,
     "metadata": {},
     "output_type": "execute_result"
    },
    {
     "data": {
      "text/plain": [
       "(\"C:\\\\Users\\\\owenb\\\\OneDrive\\\\Python Sport Analytics\\\\Module 8 Final Project\\\\Logo_Saint Peter's\\xa0.JPG\",\n",
       " <http.client.HTTPMessage at 0x225ef2e4650>)"
      ]
     },
     "execution_count": 52,
     "metadata": {},
     "output_type": "execute_result"
    },
    {
     "data": {
      "text/plain": [
       "('C:\\\\Users\\\\owenb\\\\OneDrive\\\\Python Sport Analytics\\\\Module 8 Final Project\\\\Logo_Longwood\\xa0.JPG',\n",
       " <http.client.HTTPMessage at 0x225ef2e7950>)"
      ]
     },
     "execution_count": 52,
     "metadata": {},
     "output_type": "execute_result"
    },
    {
     "data": {
      "text/plain": [
       "('C:\\\\Users\\\\owenb\\\\OneDrive\\\\Python Sport Analytics\\\\Module 8 Final Project\\\\Logo_Montana St.\\xa0.JPG',\n",
       " <http.client.HTTPMessage at 0x225ef2e46d0>)"
      ]
     },
     "execution_count": 52,
     "metadata": {},
     "output_type": "execute_result"
    },
    {
     "data": {
      "text/plain": [
       "('C:\\\\Users\\\\owenb\\\\OneDrive\\\\Python Sport Analytics\\\\Module 8 Final Project\\\\Logo_Stetson\\xa0.JPG',\n",
       " <http.client.HTTPMessage at 0x225ef2e4910>)"
      ]
     },
     "execution_count": 52,
     "metadata": {},
     "output_type": "execute_result"
    },
    {
     "data": {
      "text/plain": [
       "('C:\\\\Users\\\\owenb\\\\OneDrive\\\\Python Sport Analytics\\\\Module 8 Final Project\\\\Logo_Grambling St.\\xa0.JPG',\n",
       " <http.client.HTTPMessage at 0x225ef2e6350>)"
      ]
     },
     "execution_count": 52,
     "metadata": {},
     "output_type": "execute_result"
    },
    {
     "data": {
      "text/plain": [
       "('C:\\\\Users\\\\owenb\\\\OneDrive\\\\Python Sport Analytics\\\\Module 8 Final Project\\\\Logo_Howard\\xa0.JPG',\n",
       " <http.client.HTTPMessage at 0x225ef2e5c10>)"
      ]
     },
     "execution_count": 52,
     "metadata": {},
     "output_type": "execute_result"
    },
    {
     "data": {
      "text/plain": [
       "('C:\\\\Users\\\\owenb\\\\OneDrive\\\\Python Sport Analytics\\\\Module 8 Final Project\\\\Logo_Wagner\\xa0.JPG',\n",
       " <http.client.HTTPMessage at 0x225ef2e6d90>)"
      ]
     },
     "execution_count": 52,
     "metadata": {},
     "output_type": "execute_result"
    },
    {
     "data": {
      "text/plain": [
       "'C:\\\\Users\\\\owenb\\\\OneDrive\\\\Python Sport Analytics\\\\Module 8 Final Project\\\\Logo_Connecticut.JPG'"
      ]
     },
     "execution_count": 52,
     "metadata": {},
     "output_type": "execute_result"
    },
    {
     "data": {
      "text/plain": [
       "'C:\\\\Users\\\\owenb\\\\OneDrive\\\\Python Sport Analytics\\\\Module 8 Final Project\\\\Logo_Wagner\\xa0.JPG'"
      ]
     },
     "execution_count": 52,
     "metadata": {},
     "output_type": "execute_result"
    }
   ],
   "source": [
    "#Create new column from reading gif address and save image as jpg file in working directory\n",
    "import urllib\n",
    "pd.options.mode.chained_assignment = None\n",
    "\n",
    "KenPom[\"New Path\"] = \"None\"*len(KenPom)\n",
    "\n",
    "for i in range(len(KenPom)):\n",
    "    KenPom[\"New Path\"][i] = r\"C:\\Users\\owenb\\OneDrive\\Python Sport Analytics\\Module 8 Final Project\\Logo_\" + KenPom[\"Team\"][i] + \".JPG\"\n",
    "    urllib.request.urlretrieve(KenPom[\"Path\"][i], KenPom[\"New Path\"][i])\n",
    "    \n",
    "KenPom[\"New Path\"][0]\n",
    "KenPom[\"New Path\"][67]"
   ]
  },
  {
   "cell_type": "code",
   "execution_count": 53,
   "id": "81d612a4",
   "metadata": {},
   "outputs": [
    {
     "data": {
      "application/javascript": [
       "/* Put everything inside the global mpl namespace */\n",
       "/* global mpl */\n",
       "window.mpl = {};\n",
       "\n",
       "mpl.get_websocket_type = function () {\n",
       "    if (typeof WebSocket !== 'undefined') {\n",
       "        return WebSocket;\n",
       "    } else if (typeof MozWebSocket !== 'undefined') {\n",
       "        return MozWebSocket;\n",
       "    } else {\n",
       "        alert(\n",
       "            'Your browser does not have WebSocket support. ' +\n",
       "                'Please try Chrome, Safari or Firefox ≥ 6. ' +\n",
       "                'Firefox 4 and 5 are also supported but you ' +\n",
       "                'have to enable WebSockets in about:config.'\n",
       "        );\n",
       "    }\n",
       "};\n",
       "\n",
       "mpl.figure = function (figure_id, websocket, ondownload, parent_element) {\n",
       "    this.id = figure_id;\n",
       "\n",
       "    this.ws = websocket;\n",
       "\n",
       "    this.supports_binary = this.ws.binaryType !== undefined;\n",
       "\n",
       "    if (!this.supports_binary) {\n",
       "        var warnings = document.getElementById('mpl-warnings');\n",
       "        if (warnings) {\n",
       "            warnings.style.display = 'block';\n",
       "            warnings.textContent =\n",
       "                'This browser does not support binary websocket messages. ' +\n",
       "                'Performance may be slow.';\n",
       "        }\n",
       "    }\n",
       "\n",
       "    this.imageObj = new Image();\n",
       "\n",
       "    this.context = undefined;\n",
       "    this.message = undefined;\n",
       "    this.canvas = undefined;\n",
       "    this.rubberband_canvas = undefined;\n",
       "    this.rubberband_context = undefined;\n",
       "    this.format_dropdown = undefined;\n",
       "\n",
       "    this.image_mode = 'full';\n",
       "\n",
       "    this.root = document.createElement('div');\n",
       "    this.root.setAttribute('style', 'display: inline-block');\n",
       "    this._root_extra_style(this.root);\n",
       "\n",
       "    parent_element.appendChild(this.root);\n",
       "\n",
       "    this._init_header(this);\n",
       "    this._init_canvas(this);\n",
       "    this._init_toolbar(this);\n",
       "\n",
       "    var fig = this;\n",
       "\n",
       "    this.waiting = false;\n",
       "\n",
       "    this.ws.onopen = function () {\n",
       "        fig.send_message('supports_binary', { value: fig.supports_binary });\n",
       "        fig.send_message('send_image_mode', {});\n",
       "        if (fig.ratio !== 1) {\n",
       "            fig.send_message('set_device_pixel_ratio', {\n",
       "                device_pixel_ratio: fig.ratio,\n",
       "            });\n",
       "        }\n",
       "        fig.send_message('refresh', {});\n",
       "    };\n",
       "\n",
       "    this.imageObj.onload = function () {\n",
       "        if (fig.image_mode === 'full') {\n",
       "            // Full images could contain transparency (where diff images\n",
       "            // almost always do), so we need to clear the canvas so that\n",
       "            // there is no ghosting.\n",
       "            fig.context.clearRect(0, 0, fig.canvas.width, fig.canvas.height);\n",
       "        }\n",
       "        fig.context.drawImage(fig.imageObj, 0, 0);\n",
       "    };\n",
       "\n",
       "    this.imageObj.onunload = function () {\n",
       "        fig.ws.close();\n",
       "    };\n",
       "\n",
       "    this.ws.onmessage = this._make_on_message_function(this);\n",
       "\n",
       "    this.ondownload = ondownload;\n",
       "};\n",
       "\n",
       "mpl.figure.prototype._init_header = function () {\n",
       "    var titlebar = document.createElement('div');\n",
       "    titlebar.classList =\n",
       "        'ui-dialog-titlebar ui-widget-header ui-corner-all ui-helper-clearfix';\n",
       "    var titletext = document.createElement('div');\n",
       "    titletext.classList = 'ui-dialog-title';\n",
       "    titletext.setAttribute(\n",
       "        'style',\n",
       "        'width: 100%; text-align: center; padding: 3px;'\n",
       "    );\n",
       "    titlebar.appendChild(titletext);\n",
       "    this.root.appendChild(titlebar);\n",
       "    this.header = titletext;\n",
       "};\n",
       "\n",
       "mpl.figure.prototype._canvas_extra_style = function (_canvas_div) {};\n",
       "\n",
       "mpl.figure.prototype._root_extra_style = function (_canvas_div) {};\n",
       "\n",
       "mpl.figure.prototype._init_canvas = function () {\n",
       "    var fig = this;\n",
       "\n",
       "    var canvas_div = (this.canvas_div = document.createElement('div'));\n",
       "    canvas_div.setAttribute('tabindex', '0');\n",
       "    canvas_div.setAttribute(\n",
       "        'style',\n",
       "        'border: 1px solid #ddd;' +\n",
       "            'box-sizing: content-box;' +\n",
       "            'clear: both;' +\n",
       "            'min-height: 1px;' +\n",
       "            'min-width: 1px;' +\n",
       "            'outline: 0;' +\n",
       "            'overflow: hidden;' +\n",
       "            'position: relative;' +\n",
       "            'resize: both;' +\n",
       "            'z-index: 2;'\n",
       "    );\n",
       "\n",
       "    function on_keyboard_event_closure(name) {\n",
       "        return function (event) {\n",
       "            return fig.key_event(event, name);\n",
       "        };\n",
       "    }\n",
       "\n",
       "    canvas_div.addEventListener(\n",
       "        'keydown',\n",
       "        on_keyboard_event_closure('key_press')\n",
       "    );\n",
       "    canvas_div.addEventListener(\n",
       "        'keyup',\n",
       "        on_keyboard_event_closure('key_release')\n",
       "    );\n",
       "\n",
       "    this._canvas_extra_style(canvas_div);\n",
       "    this.root.appendChild(canvas_div);\n",
       "\n",
       "    var canvas = (this.canvas = document.createElement('canvas'));\n",
       "    canvas.classList.add('mpl-canvas');\n",
       "    canvas.setAttribute(\n",
       "        'style',\n",
       "        'box-sizing: content-box;' +\n",
       "            'pointer-events: none;' +\n",
       "            'position: relative;' +\n",
       "            'z-index: 0;'\n",
       "    );\n",
       "\n",
       "    this.context = canvas.getContext('2d');\n",
       "\n",
       "    var backingStore =\n",
       "        this.context.backingStorePixelRatio ||\n",
       "        this.context.webkitBackingStorePixelRatio ||\n",
       "        this.context.mozBackingStorePixelRatio ||\n",
       "        this.context.msBackingStorePixelRatio ||\n",
       "        this.context.oBackingStorePixelRatio ||\n",
       "        this.context.backingStorePixelRatio ||\n",
       "        1;\n",
       "\n",
       "    this.ratio = (window.devicePixelRatio || 1) / backingStore;\n",
       "\n",
       "    var rubberband_canvas = (this.rubberband_canvas = document.createElement(\n",
       "        'canvas'\n",
       "    ));\n",
       "    rubberband_canvas.setAttribute(\n",
       "        'style',\n",
       "        'box-sizing: content-box;' +\n",
       "            'left: 0;' +\n",
       "            'pointer-events: none;' +\n",
       "            'position: absolute;' +\n",
       "            'top: 0;' +\n",
       "            'z-index: 1;'\n",
       "    );\n",
       "\n",
       "    // Apply a ponyfill if ResizeObserver is not implemented by browser.\n",
       "    if (this.ResizeObserver === undefined) {\n",
       "        if (window.ResizeObserver !== undefined) {\n",
       "            this.ResizeObserver = window.ResizeObserver;\n",
       "        } else {\n",
       "            var obs = _JSXTOOLS_RESIZE_OBSERVER({});\n",
       "            this.ResizeObserver = obs.ResizeObserver;\n",
       "        }\n",
       "    }\n",
       "\n",
       "    this.resizeObserverInstance = new this.ResizeObserver(function (entries) {\n",
       "        var nentries = entries.length;\n",
       "        for (var i = 0; i < nentries; i++) {\n",
       "            var entry = entries[i];\n",
       "            var width, height;\n",
       "            if (entry.contentBoxSize) {\n",
       "                if (entry.contentBoxSize instanceof Array) {\n",
       "                    // Chrome 84 implements new version of spec.\n",
       "                    width = entry.contentBoxSize[0].inlineSize;\n",
       "                    height = entry.contentBoxSize[0].blockSize;\n",
       "                } else {\n",
       "                    // Firefox implements old version of spec.\n",
       "                    width = entry.contentBoxSize.inlineSize;\n",
       "                    height = entry.contentBoxSize.blockSize;\n",
       "                }\n",
       "            } else {\n",
       "                // Chrome <84 implements even older version of spec.\n",
       "                width = entry.contentRect.width;\n",
       "                height = entry.contentRect.height;\n",
       "            }\n",
       "\n",
       "            // Keep the size of the canvas and rubber band canvas in sync with\n",
       "            // the canvas container.\n",
       "            if (entry.devicePixelContentBoxSize) {\n",
       "                // Chrome 84 implements new version of spec.\n",
       "                canvas.setAttribute(\n",
       "                    'width',\n",
       "                    entry.devicePixelContentBoxSize[0].inlineSize\n",
       "                );\n",
       "                canvas.setAttribute(\n",
       "                    'height',\n",
       "                    entry.devicePixelContentBoxSize[0].blockSize\n",
       "                );\n",
       "            } else {\n",
       "                canvas.setAttribute('width', width * fig.ratio);\n",
       "                canvas.setAttribute('height', height * fig.ratio);\n",
       "            }\n",
       "            /* This rescales the canvas back to display pixels, so that it\n",
       "             * appears correct on HiDPI screens. */\n",
       "            canvas.style.width = width + 'px';\n",
       "            canvas.style.height = height + 'px';\n",
       "\n",
       "            rubberband_canvas.setAttribute('width', width);\n",
       "            rubberband_canvas.setAttribute('height', height);\n",
       "\n",
       "            // And update the size in Python. We ignore the initial 0/0 size\n",
       "            // that occurs as the element is placed into the DOM, which should\n",
       "            // otherwise not happen due to the minimum size styling.\n",
       "            if (fig.ws.readyState == 1 && width != 0 && height != 0) {\n",
       "                fig.request_resize(width, height);\n",
       "            }\n",
       "        }\n",
       "    });\n",
       "    this.resizeObserverInstance.observe(canvas_div);\n",
       "\n",
       "    function on_mouse_event_closure(name) {\n",
       "        /* User Agent sniffing is bad, but WebKit is busted:\n",
       "         * https://bugs.webkit.org/show_bug.cgi?id=144526\n",
       "         * https://bugs.webkit.org/show_bug.cgi?id=181818\n",
       "         * The worst that happens here is that they get an extra browser\n",
       "         * selection when dragging, if this check fails to catch them.\n",
       "         */\n",
       "        var UA = navigator.userAgent;\n",
       "        var isWebKit = /AppleWebKit/.test(UA) && !/Chrome/.test(UA);\n",
       "        if(isWebKit) {\n",
       "            return function (event) {\n",
       "                /* This prevents the web browser from automatically changing to\n",
       "                 * the text insertion cursor when the button is pressed. We\n",
       "                 * want to control all of the cursor setting manually through\n",
       "                 * the 'cursor' event from matplotlib */\n",
       "                event.preventDefault()\n",
       "                return fig.mouse_event(event, name);\n",
       "            };\n",
       "        } else {\n",
       "            return function (event) {\n",
       "                return fig.mouse_event(event, name);\n",
       "            };\n",
       "        }\n",
       "    }\n",
       "\n",
       "    canvas_div.addEventListener(\n",
       "        'mousedown',\n",
       "        on_mouse_event_closure('button_press')\n",
       "    );\n",
       "    canvas_div.addEventListener(\n",
       "        'mouseup',\n",
       "        on_mouse_event_closure('button_release')\n",
       "    );\n",
       "    canvas_div.addEventListener(\n",
       "        'dblclick',\n",
       "        on_mouse_event_closure('dblclick')\n",
       "    );\n",
       "    // Throttle sequential mouse events to 1 every 20ms.\n",
       "    canvas_div.addEventListener(\n",
       "        'mousemove',\n",
       "        on_mouse_event_closure('motion_notify')\n",
       "    );\n",
       "\n",
       "    canvas_div.addEventListener(\n",
       "        'mouseenter',\n",
       "        on_mouse_event_closure('figure_enter')\n",
       "    );\n",
       "    canvas_div.addEventListener(\n",
       "        'mouseleave',\n",
       "        on_mouse_event_closure('figure_leave')\n",
       "    );\n",
       "\n",
       "    canvas_div.addEventListener('wheel', function (event) {\n",
       "        if (event.deltaY < 0) {\n",
       "            event.step = 1;\n",
       "        } else {\n",
       "            event.step = -1;\n",
       "        }\n",
       "        on_mouse_event_closure('scroll')(event);\n",
       "    });\n",
       "\n",
       "    canvas_div.appendChild(canvas);\n",
       "    canvas_div.appendChild(rubberband_canvas);\n",
       "\n",
       "    this.rubberband_context = rubberband_canvas.getContext('2d');\n",
       "    this.rubberband_context.strokeStyle = '#000000';\n",
       "\n",
       "    this._resize_canvas = function (width, height, forward) {\n",
       "        if (forward) {\n",
       "            canvas_div.style.width = width + 'px';\n",
       "            canvas_div.style.height = height + 'px';\n",
       "        }\n",
       "    };\n",
       "\n",
       "    // Disable right mouse context menu.\n",
       "    canvas_div.addEventListener('contextmenu', function (_e) {\n",
       "        event.preventDefault();\n",
       "        return false;\n",
       "    });\n",
       "\n",
       "    function set_focus() {\n",
       "        canvas.focus();\n",
       "        canvas_div.focus();\n",
       "    }\n",
       "\n",
       "    window.setTimeout(set_focus, 100);\n",
       "};\n",
       "\n",
       "mpl.figure.prototype._init_toolbar = function () {\n",
       "    var fig = this;\n",
       "\n",
       "    var toolbar = document.createElement('div');\n",
       "    toolbar.classList = 'mpl-toolbar';\n",
       "    this.root.appendChild(toolbar);\n",
       "\n",
       "    function on_click_closure(name) {\n",
       "        return function (_event) {\n",
       "            return fig.toolbar_button_onclick(name);\n",
       "        };\n",
       "    }\n",
       "\n",
       "    function on_mouseover_closure(tooltip) {\n",
       "        return function (event) {\n",
       "            if (!event.currentTarget.disabled) {\n",
       "                return fig.toolbar_button_onmouseover(tooltip);\n",
       "            }\n",
       "        };\n",
       "    }\n",
       "\n",
       "    fig.buttons = {};\n",
       "    var buttonGroup = document.createElement('div');\n",
       "    buttonGroup.classList = 'mpl-button-group';\n",
       "    for (var toolbar_ind in mpl.toolbar_items) {\n",
       "        var name = mpl.toolbar_items[toolbar_ind][0];\n",
       "        var tooltip = mpl.toolbar_items[toolbar_ind][1];\n",
       "        var image = mpl.toolbar_items[toolbar_ind][2];\n",
       "        var method_name = mpl.toolbar_items[toolbar_ind][3];\n",
       "\n",
       "        if (!name) {\n",
       "            /* Instead of a spacer, we start a new button group. */\n",
       "            if (buttonGroup.hasChildNodes()) {\n",
       "                toolbar.appendChild(buttonGroup);\n",
       "            }\n",
       "            buttonGroup = document.createElement('div');\n",
       "            buttonGroup.classList = 'mpl-button-group';\n",
       "            continue;\n",
       "        }\n",
       "\n",
       "        var button = (fig.buttons[name] = document.createElement('button'));\n",
       "        button.classList = 'mpl-widget';\n",
       "        button.setAttribute('role', 'button');\n",
       "        button.setAttribute('aria-disabled', 'false');\n",
       "        button.addEventListener('click', on_click_closure(method_name));\n",
       "        button.addEventListener('mouseover', on_mouseover_closure(tooltip));\n",
       "\n",
       "        var icon_img = document.createElement('img');\n",
       "        icon_img.src = '_images/' + image + '.png';\n",
       "        icon_img.srcset = '_images/' + image + '_large.png 2x';\n",
       "        icon_img.alt = tooltip;\n",
       "        button.appendChild(icon_img);\n",
       "\n",
       "        buttonGroup.appendChild(button);\n",
       "    }\n",
       "\n",
       "    if (buttonGroup.hasChildNodes()) {\n",
       "        toolbar.appendChild(buttonGroup);\n",
       "    }\n",
       "\n",
       "    var fmt_picker = document.createElement('select');\n",
       "    fmt_picker.classList = 'mpl-widget';\n",
       "    toolbar.appendChild(fmt_picker);\n",
       "    this.format_dropdown = fmt_picker;\n",
       "\n",
       "    for (var ind in mpl.extensions) {\n",
       "        var fmt = mpl.extensions[ind];\n",
       "        var option = document.createElement('option');\n",
       "        option.selected = fmt === mpl.default_extension;\n",
       "        option.innerHTML = fmt;\n",
       "        fmt_picker.appendChild(option);\n",
       "    }\n",
       "\n",
       "    var status_bar = document.createElement('span');\n",
       "    status_bar.classList = 'mpl-message';\n",
       "    toolbar.appendChild(status_bar);\n",
       "    this.message = status_bar;\n",
       "};\n",
       "\n",
       "mpl.figure.prototype.request_resize = function (x_pixels, y_pixels) {\n",
       "    // Request matplotlib to resize the figure. Matplotlib will then trigger a resize in the client,\n",
       "    // which will in turn request a refresh of the image.\n",
       "    this.send_message('resize', { width: x_pixels, height: y_pixels });\n",
       "};\n",
       "\n",
       "mpl.figure.prototype.send_message = function (type, properties) {\n",
       "    properties['type'] = type;\n",
       "    properties['figure_id'] = this.id;\n",
       "    this.ws.send(JSON.stringify(properties));\n",
       "};\n",
       "\n",
       "mpl.figure.prototype.send_draw_message = function () {\n",
       "    if (!this.waiting) {\n",
       "        this.waiting = true;\n",
       "        this.ws.send(JSON.stringify({ type: 'draw', figure_id: this.id }));\n",
       "    }\n",
       "};\n",
       "\n",
       "mpl.figure.prototype.handle_save = function (fig, _msg) {\n",
       "    var format_dropdown = fig.format_dropdown;\n",
       "    var format = format_dropdown.options[format_dropdown.selectedIndex].value;\n",
       "    fig.ondownload(fig, format);\n",
       "};\n",
       "\n",
       "mpl.figure.prototype.handle_resize = function (fig, msg) {\n",
       "    var size = msg['size'];\n",
       "    if (size[0] !== fig.canvas.width || size[1] !== fig.canvas.height) {\n",
       "        fig._resize_canvas(size[0], size[1], msg['forward']);\n",
       "        fig.send_message('refresh', {});\n",
       "    }\n",
       "};\n",
       "\n",
       "mpl.figure.prototype.handle_rubberband = function (fig, msg) {\n",
       "    var x0 = msg['x0'] / fig.ratio;\n",
       "    var y0 = (fig.canvas.height - msg['y0']) / fig.ratio;\n",
       "    var x1 = msg['x1'] / fig.ratio;\n",
       "    var y1 = (fig.canvas.height - msg['y1']) / fig.ratio;\n",
       "    x0 = Math.floor(x0) + 0.5;\n",
       "    y0 = Math.floor(y0) + 0.5;\n",
       "    x1 = Math.floor(x1) + 0.5;\n",
       "    y1 = Math.floor(y1) + 0.5;\n",
       "    var min_x = Math.min(x0, x1);\n",
       "    var min_y = Math.min(y0, y1);\n",
       "    var width = Math.abs(x1 - x0);\n",
       "    var height = Math.abs(y1 - y0);\n",
       "\n",
       "    fig.rubberband_context.clearRect(\n",
       "        0,\n",
       "        0,\n",
       "        fig.canvas.width / fig.ratio,\n",
       "        fig.canvas.height / fig.ratio\n",
       "    );\n",
       "\n",
       "    fig.rubberband_context.strokeRect(min_x, min_y, width, height);\n",
       "};\n",
       "\n",
       "mpl.figure.prototype.handle_figure_label = function (fig, msg) {\n",
       "    // Updates the figure title.\n",
       "    fig.header.textContent = msg['label'];\n",
       "};\n",
       "\n",
       "mpl.figure.prototype.handle_cursor = function (fig, msg) {\n",
       "    fig.canvas_div.style.cursor = msg['cursor'];\n",
       "};\n",
       "\n",
       "mpl.figure.prototype.handle_message = function (fig, msg) {\n",
       "    fig.message.textContent = msg['message'];\n",
       "};\n",
       "\n",
       "mpl.figure.prototype.handle_draw = function (fig, _msg) {\n",
       "    // Request the server to send over a new figure.\n",
       "    fig.send_draw_message();\n",
       "};\n",
       "\n",
       "mpl.figure.prototype.handle_image_mode = function (fig, msg) {\n",
       "    fig.image_mode = msg['mode'];\n",
       "};\n",
       "\n",
       "mpl.figure.prototype.handle_history_buttons = function (fig, msg) {\n",
       "    for (var key in msg) {\n",
       "        if (!(key in fig.buttons)) {\n",
       "            continue;\n",
       "        }\n",
       "        fig.buttons[key].disabled = !msg[key];\n",
       "        fig.buttons[key].setAttribute('aria-disabled', !msg[key]);\n",
       "    }\n",
       "};\n",
       "\n",
       "mpl.figure.prototype.handle_navigate_mode = function (fig, msg) {\n",
       "    if (msg['mode'] === 'PAN') {\n",
       "        fig.buttons['Pan'].classList.add('active');\n",
       "        fig.buttons['Zoom'].classList.remove('active');\n",
       "    } else if (msg['mode'] === 'ZOOM') {\n",
       "        fig.buttons['Pan'].classList.remove('active');\n",
       "        fig.buttons['Zoom'].classList.add('active');\n",
       "    } else {\n",
       "        fig.buttons['Pan'].classList.remove('active');\n",
       "        fig.buttons['Zoom'].classList.remove('active');\n",
       "    }\n",
       "};\n",
       "\n",
       "mpl.figure.prototype.updated_canvas_event = function () {\n",
       "    // Called whenever the canvas gets updated.\n",
       "    this.send_message('ack', {});\n",
       "};\n",
       "\n",
       "// A function to construct a web socket function for onmessage handling.\n",
       "// Called in the figure constructor.\n",
       "mpl.figure.prototype._make_on_message_function = function (fig) {\n",
       "    return function socket_on_message(evt) {\n",
       "        if (evt.data instanceof Blob) {\n",
       "            var img = evt.data;\n",
       "            if (img.type !== 'image/png') {\n",
       "                /* FIXME: We get \"Resource interpreted as Image but\n",
       "                 * transferred with MIME type text/plain:\" errors on\n",
       "                 * Chrome.  But how to set the MIME type?  It doesn't seem\n",
       "                 * to be part of the websocket stream */\n",
       "                img.type = 'image/png';\n",
       "            }\n",
       "\n",
       "            /* Free the memory for the previous frames */\n",
       "            if (fig.imageObj.src) {\n",
       "                (window.URL || window.webkitURL).revokeObjectURL(\n",
       "                    fig.imageObj.src\n",
       "                );\n",
       "            }\n",
       "\n",
       "            fig.imageObj.src = (window.URL || window.webkitURL).createObjectURL(\n",
       "                img\n",
       "            );\n",
       "            fig.updated_canvas_event();\n",
       "            fig.waiting = false;\n",
       "            return;\n",
       "        } else if (\n",
       "            typeof evt.data === 'string' &&\n",
       "            evt.data.slice(0, 21) === 'data:image/png;base64'\n",
       "        ) {\n",
       "            fig.imageObj.src = evt.data;\n",
       "            fig.updated_canvas_event();\n",
       "            fig.waiting = false;\n",
       "            return;\n",
       "        }\n",
       "\n",
       "        var msg = JSON.parse(evt.data);\n",
       "        var msg_type = msg['type'];\n",
       "\n",
       "        // Call the  \"handle_{type}\" callback, which takes\n",
       "        // the figure and JSON message as its only arguments.\n",
       "        try {\n",
       "            var callback = fig['handle_' + msg_type];\n",
       "        } catch (e) {\n",
       "            console.log(\n",
       "                \"No handler for the '\" + msg_type + \"' message type: \",\n",
       "                msg\n",
       "            );\n",
       "            return;\n",
       "        }\n",
       "\n",
       "        if (callback) {\n",
       "            try {\n",
       "                // console.log(\"Handling '\" + msg_type + \"' message: \", msg);\n",
       "                callback(fig, msg);\n",
       "            } catch (e) {\n",
       "                console.log(\n",
       "                    \"Exception inside the 'handler_\" + msg_type + \"' callback:\",\n",
       "                    e,\n",
       "                    e.stack,\n",
       "                    msg\n",
       "                );\n",
       "            }\n",
       "        }\n",
       "    };\n",
       "};\n",
       "\n",
       "function getModifiers(event) {\n",
       "    var mods = [];\n",
       "    if (event.ctrlKey) {\n",
       "        mods.push('ctrl');\n",
       "    }\n",
       "    if (event.altKey) {\n",
       "        mods.push('alt');\n",
       "    }\n",
       "    if (event.shiftKey) {\n",
       "        mods.push('shift');\n",
       "    }\n",
       "    if (event.metaKey) {\n",
       "        mods.push('meta');\n",
       "    }\n",
       "    return mods;\n",
       "}\n",
       "\n",
       "/*\n",
       " * return a copy of an object with only non-object keys\n",
       " * we need this to avoid circular references\n",
       " * https://stackoverflow.com/a/24161582/3208463\n",
       " */\n",
       "function simpleKeys(original) {\n",
       "    return Object.keys(original).reduce(function (obj, key) {\n",
       "        if (typeof original[key] !== 'object') {\n",
       "            obj[key] = original[key];\n",
       "        }\n",
       "        return obj;\n",
       "    }, {});\n",
       "}\n",
       "\n",
       "mpl.figure.prototype.mouse_event = function (event, name) {\n",
       "    if (name === 'button_press') {\n",
       "        this.canvas.focus();\n",
       "        this.canvas_div.focus();\n",
       "    }\n",
       "\n",
       "    // from https://stackoverflow.com/q/1114465\n",
       "    var boundingRect = this.canvas.getBoundingClientRect();\n",
       "    var x = (event.clientX - boundingRect.left) * this.ratio;\n",
       "    var y = (event.clientY - boundingRect.top) * this.ratio;\n",
       "\n",
       "    this.send_message(name, {\n",
       "        x: x,\n",
       "        y: y,\n",
       "        button: event.button,\n",
       "        step: event.step,\n",
       "        modifiers: getModifiers(event),\n",
       "        guiEvent: simpleKeys(event),\n",
       "    });\n",
       "\n",
       "    return false;\n",
       "};\n",
       "\n",
       "mpl.figure.prototype._key_event_extra = function (_event, _name) {\n",
       "    // Handle any extra behaviour associated with a key event\n",
       "};\n",
       "\n",
       "mpl.figure.prototype.key_event = function (event, name) {\n",
       "    // Prevent repeat events\n",
       "    if (name === 'key_press') {\n",
       "        if (event.key === this._key) {\n",
       "            return;\n",
       "        } else {\n",
       "            this._key = event.key;\n",
       "        }\n",
       "    }\n",
       "    if (name === 'key_release') {\n",
       "        this._key = null;\n",
       "    }\n",
       "\n",
       "    var value = '';\n",
       "    if (event.ctrlKey && event.key !== 'Control') {\n",
       "        value += 'ctrl+';\n",
       "    }\n",
       "    else if (event.altKey && event.key !== 'Alt') {\n",
       "        value += 'alt+';\n",
       "    }\n",
       "    else if (event.shiftKey && event.key !== 'Shift') {\n",
       "        value += 'shift+';\n",
       "    }\n",
       "\n",
       "    value += 'k' + event.key;\n",
       "\n",
       "    this._key_event_extra(event, name);\n",
       "\n",
       "    this.send_message(name, { key: value, guiEvent: simpleKeys(event) });\n",
       "    return false;\n",
       "};\n",
       "\n",
       "mpl.figure.prototype.toolbar_button_onclick = function (name) {\n",
       "    if (name === 'download') {\n",
       "        this.handle_save(this, null);\n",
       "    } else {\n",
       "        this.send_message('toolbar_button', { name: name });\n",
       "    }\n",
       "};\n",
       "\n",
       "mpl.figure.prototype.toolbar_button_onmouseover = function (tooltip) {\n",
       "    this.message.textContent = tooltip;\n",
       "};\n",
       "\n",
       "///////////////// REMAINING CONTENT GENERATED BY embed_js.py /////////////////\n",
       "// prettier-ignore\n",
       "var _JSXTOOLS_RESIZE_OBSERVER=function(A){var t,i=new WeakMap,n=new WeakMap,a=new WeakMap,r=new WeakMap,o=new Set;function s(e){if(!(this instanceof s))throw new TypeError(\"Constructor requires 'new' operator\");i.set(this,e)}function h(){throw new TypeError(\"Function is not a constructor\")}function c(e,t,i,n){e=0 in arguments?Number(arguments[0]):0,t=1 in arguments?Number(arguments[1]):0,i=2 in arguments?Number(arguments[2]):0,n=3 in arguments?Number(arguments[3]):0,this.right=(this.x=this.left=e)+(this.width=i),this.bottom=(this.y=this.top=t)+(this.height=n),Object.freeze(this)}function d(){t=requestAnimationFrame(d);var s=new WeakMap,p=new Set;o.forEach((function(t){r.get(t).forEach((function(i){var r=t instanceof window.SVGElement,o=a.get(t),d=r?0:parseFloat(o.paddingTop),f=r?0:parseFloat(o.paddingRight),l=r?0:parseFloat(o.paddingBottom),u=r?0:parseFloat(o.paddingLeft),g=r?0:parseFloat(o.borderTopWidth),m=r?0:parseFloat(o.borderRightWidth),w=r?0:parseFloat(o.borderBottomWidth),b=u+f,F=d+l,v=(r?0:parseFloat(o.borderLeftWidth))+m,W=g+w,y=r?0:t.offsetHeight-W-t.clientHeight,E=r?0:t.offsetWidth-v-t.clientWidth,R=b+v,z=F+W,M=r?t.width:parseFloat(o.width)-R-E,O=r?t.height:parseFloat(o.height)-z-y;if(n.has(t)){var k=n.get(t);if(k[0]===M&&k[1]===O)return}n.set(t,[M,O]);var S=Object.create(h.prototype);S.target=t,S.contentRect=new c(u,d,M,O),s.has(i)||(s.set(i,[]),p.add(i)),s.get(i).push(S)}))})),p.forEach((function(e){i.get(e).call(e,s.get(e),e)}))}return s.prototype.observe=function(i){if(i instanceof window.Element){r.has(i)||(r.set(i,new Set),o.add(i),a.set(i,window.getComputedStyle(i)));var n=r.get(i);n.has(this)||n.add(this),cancelAnimationFrame(t),t=requestAnimationFrame(d)}},s.prototype.unobserve=function(i){if(i instanceof window.Element&&r.has(i)){var n=r.get(i);n.has(this)&&(n.delete(this),n.size||(r.delete(i),o.delete(i))),n.size||r.delete(i),o.size||cancelAnimationFrame(t)}},A.DOMRectReadOnly=c,A.ResizeObserver=s,A.ResizeObserverEntry=h,A}; // eslint-disable-line\n",
       "mpl.toolbar_items = [[\"Home\", \"Reset original view\", \"fa fa-home\", \"home\"], [\"Back\", \"Back to previous view\", \"fa fa-arrow-left\", \"back\"], [\"Forward\", \"Forward to next view\", \"fa fa-arrow-right\", \"forward\"], [\"\", \"\", \"\", \"\"], [\"Pan\", \"Left button pans, Right button zooms\\nx/y fixes axis, CTRL fixes aspect\", \"fa fa-arrows\", \"pan\"], [\"Zoom\", \"Zoom to rectangle\\nx/y fixes axis\", \"fa fa-square-o\", \"zoom\"], [\"\", \"\", \"\", \"\"], [\"Download\", \"Download plot\", \"fa fa-floppy-o\", \"download\"]];\n",
       "\n",
       "mpl.extensions = [\"eps\", \"jpeg\", \"pgf\", \"pdf\", \"png\", \"ps\", \"raw\", \"svg\", \"tif\", \"webp\"];\n",
       "\n",
       "mpl.default_extension = \"png\";/* global mpl */\n",
       "\n",
       "var comm_websocket_adapter = function (comm) {\n",
       "    // Create a \"websocket\"-like object which calls the given IPython comm\n",
       "    // object with the appropriate methods. Currently this is a non binary\n",
       "    // socket, so there is still some room for performance tuning.\n",
       "    var ws = {};\n",
       "\n",
       "    ws.binaryType = comm.kernel.ws.binaryType;\n",
       "    ws.readyState = comm.kernel.ws.readyState;\n",
       "    function updateReadyState(_event) {\n",
       "        if (comm.kernel.ws) {\n",
       "            ws.readyState = comm.kernel.ws.readyState;\n",
       "        } else {\n",
       "            ws.readyState = 3; // Closed state.\n",
       "        }\n",
       "    }\n",
       "    comm.kernel.ws.addEventListener('open', updateReadyState);\n",
       "    comm.kernel.ws.addEventListener('close', updateReadyState);\n",
       "    comm.kernel.ws.addEventListener('error', updateReadyState);\n",
       "\n",
       "    ws.close = function () {\n",
       "        comm.close();\n",
       "    };\n",
       "    ws.send = function (m) {\n",
       "        //console.log('sending', m);\n",
       "        comm.send(m);\n",
       "    };\n",
       "    // Register the callback with on_msg.\n",
       "    comm.on_msg(function (msg) {\n",
       "        //console.log('receiving', msg['content']['data'], msg);\n",
       "        var data = msg['content']['data'];\n",
       "        if (data['blob'] !== undefined) {\n",
       "            data = {\n",
       "                data: new Blob(msg['buffers'], { type: data['blob'] }),\n",
       "            };\n",
       "        }\n",
       "        // Pass the mpl event to the overridden (by mpl) onmessage function.\n",
       "        ws.onmessage(data);\n",
       "    });\n",
       "    return ws;\n",
       "};\n",
       "\n",
       "mpl.mpl_figure_comm = function (comm, msg) {\n",
       "    // This is the function which gets called when the mpl process\n",
       "    // starts-up an IPython Comm through the \"matplotlib\" channel.\n",
       "\n",
       "    var id = msg.content.data.id;\n",
       "    // Get hold of the div created by the display call when the Comm\n",
       "    // socket was opened in Python.\n",
       "    var element = document.getElementById(id);\n",
       "    var ws_proxy = comm_websocket_adapter(comm);\n",
       "\n",
       "    function ondownload(figure, _format) {\n",
       "        window.open(figure.canvas.toDataURL());\n",
       "    }\n",
       "\n",
       "    var fig = new mpl.figure(id, ws_proxy, ondownload, element);\n",
       "\n",
       "    // Call onopen now - mpl needs it, as it is assuming we've passed it a real\n",
       "    // web socket which is closed, not our websocket->open comm proxy.\n",
       "    ws_proxy.onopen();\n",
       "\n",
       "    fig.parent_element = element;\n",
       "    fig.cell_info = mpl.find_output_cell(\"<div id='\" + id + \"'></div>\");\n",
       "    if (!fig.cell_info) {\n",
       "        console.error('Failed to find cell for figure', id, fig);\n",
       "        return;\n",
       "    }\n",
       "    fig.cell_info[0].output_area.element.on(\n",
       "        'cleared',\n",
       "        { fig: fig },\n",
       "        fig._remove_fig_handler\n",
       "    );\n",
       "};\n",
       "\n",
       "mpl.figure.prototype.handle_close = function (fig, msg) {\n",
       "    var width = fig.canvas.width / fig.ratio;\n",
       "    fig.cell_info[0].output_area.element.off(\n",
       "        'cleared',\n",
       "        fig._remove_fig_handler\n",
       "    );\n",
       "    fig.resizeObserverInstance.unobserve(fig.canvas_div);\n",
       "\n",
       "    // Update the output cell to use the data from the current canvas.\n",
       "    fig.push_to_output();\n",
       "    var dataURL = fig.canvas.toDataURL();\n",
       "    // Re-enable the keyboard manager in IPython - without this line, in FF,\n",
       "    // the notebook keyboard shortcuts fail.\n",
       "    IPython.keyboard_manager.enable();\n",
       "    fig.parent_element.innerHTML =\n",
       "        '<img src=\"' + dataURL + '\" width=\"' + width + '\">';\n",
       "    fig.close_ws(fig, msg);\n",
       "};\n",
       "\n",
       "mpl.figure.prototype.close_ws = function (fig, msg) {\n",
       "    fig.send_message('closing', msg);\n",
       "    // fig.ws.close()\n",
       "};\n",
       "\n",
       "mpl.figure.prototype.push_to_output = function (_remove_interactive) {\n",
       "    // Turn the data on the canvas into data in the output cell.\n",
       "    var width = this.canvas.width / this.ratio;\n",
       "    var dataURL = this.canvas.toDataURL();\n",
       "    this.cell_info[1]['text/html'] =\n",
       "        '<img src=\"' + dataURL + '\" width=\"' + width + '\">';\n",
       "};\n",
       "\n",
       "mpl.figure.prototype.updated_canvas_event = function () {\n",
       "    // Tell IPython that the notebook contents must change.\n",
       "    IPython.notebook.set_dirty(true);\n",
       "    this.send_message('ack', {});\n",
       "    var fig = this;\n",
       "    // Wait a second, then push the new image to the DOM so\n",
       "    // that it is saved nicely (might be nice to debounce this).\n",
       "    setTimeout(function () {\n",
       "        fig.push_to_output();\n",
       "    }, 1000);\n",
       "};\n",
       "\n",
       "mpl.figure.prototype._init_toolbar = function () {\n",
       "    var fig = this;\n",
       "\n",
       "    var toolbar = document.createElement('div');\n",
       "    toolbar.classList = 'btn-toolbar';\n",
       "    this.root.appendChild(toolbar);\n",
       "\n",
       "    function on_click_closure(name) {\n",
       "        return function (_event) {\n",
       "            return fig.toolbar_button_onclick(name);\n",
       "        };\n",
       "    }\n",
       "\n",
       "    function on_mouseover_closure(tooltip) {\n",
       "        return function (event) {\n",
       "            if (!event.currentTarget.disabled) {\n",
       "                return fig.toolbar_button_onmouseover(tooltip);\n",
       "            }\n",
       "        };\n",
       "    }\n",
       "\n",
       "    fig.buttons = {};\n",
       "    var buttonGroup = document.createElement('div');\n",
       "    buttonGroup.classList = 'btn-group';\n",
       "    var button;\n",
       "    for (var toolbar_ind in mpl.toolbar_items) {\n",
       "        var name = mpl.toolbar_items[toolbar_ind][0];\n",
       "        var tooltip = mpl.toolbar_items[toolbar_ind][1];\n",
       "        var image = mpl.toolbar_items[toolbar_ind][2];\n",
       "        var method_name = mpl.toolbar_items[toolbar_ind][3];\n",
       "\n",
       "        if (!name) {\n",
       "            /* Instead of a spacer, we start a new button group. */\n",
       "            if (buttonGroup.hasChildNodes()) {\n",
       "                toolbar.appendChild(buttonGroup);\n",
       "            }\n",
       "            buttonGroup = document.createElement('div');\n",
       "            buttonGroup.classList = 'btn-group';\n",
       "            continue;\n",
       "        }\n",
       "\n",
       "        button = fig.buttons[name] = document.createElement('button');\n",
       "        button.classList = 'btn btn-default';\n",
       "        button.href = '#';\n",
       "        button.title = name;\n",
       "        button.innerHTML = '<i class=\"fa ' + image + ' fa-lg\"></i>';\n",
       "        button.addEventListener('click', on_click_closure(method_name));\n",
       "        button.addEventListener('mouseover', on_mouseover_closure(tooltip));\n",
       "        buttonGroup.appendChild(button);\n",
       "    }\n",
       "\n",
       "    if (buttonGroup.hasChildNodes()) {\n",
       "        toolbar.appendChild(buttonGroup);\n",
       "    }\n",
       "\n",
       "    // Add the status bar.\n",
       "    var status_bar = document.createElement('span');\n",
       "    status_bar.classList = 'mpl-message pull-right';\n",
       "    toolbar.appendChild(status_bar);\n",
       "    this.message = status_bar;\n",
       "\n",
       "    // Add the close button to the window.\n",
       "    var buttongrp = document.createElement('div');\n",
       "    buttongrp.classList = 'btn-group inline pull-right';\n",
       "    button = document.createElement('button');\n",
       "    button.classList = 'btn btn-mini btn-primary';\n",
       "    button.href = '#';\n",
       "    button.title = 'Stop Interaction';\n",
       "    button.innerHTML = '<i class=\"fa fa-power-off icon-remove icon-large\"></i>';\n",
       "    button.addEventListener('click', function (_evt) {\n",
       "        fig.handle_close(fig, {});\n",
       "    });\n",
       "    button.addEventListener(\n",
       "        'mouseover',\n",
       "        on_mouseover_closure('Stop Interaction')\n",
       "    );\n",
       "    buttongrp.appendChild(button);\n",
       "    var titlebar = this.root.querySelector('.ui-dialog-titlebar');\n",
       "    titlebar.insertBefore(buttongrp, titlebar.firstChild);\n",
       "};\n",
       "\n",
       "mpl.figure.prototype._remove_fig_handler = function (event) {\n",
       "    var fig = event.data.fig;\n",
       "    if (event.target !== this) {\n",
       "        // Ignore bubbled events from children.\n",
       "        return;\n",
       "    }\n",
       "    fig.close_ws(fig, {});\n",
       "};\n",
       "\n",
       "mpl.figure.prototype._root_extra_style = function (el) {\n",
       "    el.style.boxSizing = 'content-box'; // override notebook setting of border-box.\n",
       "};\n",
       "\n",
       "mpl.figure.prototype._canvas_extra_style = function (el) {\n",
       "    // this is important to make the div 'focusable\n",
       "    el.setAttribute('tabindex', 0);\n",
       "    // reach out to IPython and tell the keyboard manager to turn it's self\n",
       "    // off when our div gets focus\n",
       "\n",
       "    // location in version 3\n",
       "    if (IPython.notebook.keyboard_manager) {\n",
       "        IPython.notebook.keyboard_manager.register_events(el);\n",
       "    } else {\n",
       "        // location in version 2\n",
       "        IPython.keyboard_manager.register_events(el);\n",
       "    }\n",
       "};\n",
       "\n",
       "mpl.figure.prototype._key_event_extra = function (event, _name) {\n",
       "    // Check for shift+enter\n",
       "    if (event.shiftKey && event.which === 13) {\n",
       "        this.canvas_div.blur();\n",
       "        // select the cell after this one\n",
       "        var index = IPython.notebook.find_cell_index(this.cell_info[0]);\n",
       "        IPython.notebook.select(index + 1);\n",
       "    }\n",
       "};\n",
       "\n",
       "mpl.figure.prototype.handle_save = function (fig, _msg) {\n",
       "    fig.ondownload(fig, null);\n",
       "};\n",
       "\n",
       "mpl.find_output_cell = function (html_output) {\n",
       "    // Return the cell and output element which can be found *uniquely* in the notebook.\n",
       "    // Note - this is a bit hacky, but it is done because the \"notebook_saving.Notebook\"\n",
       "    // IPython event is triggered only after the cells have been serialised, which for\n",
       "    // our purposes (turning an active figure into a static one), is too late.\n",
       "    var cells = IPython.notebook.get_cells();\n",
       "    var ncells = cells.length;\n",
       "    for (var i = 0; i < ncells; i++) {\n",
       "        var cell = cells[i];\n",
       "        if (cell.cell_type === 'code') {\n",
       "            for (var j = 0; j < cell.output_area.outputs.length; j++) {\n",
       "                var data = cell.output_area.outputs[j];\n",
       "                if (data.data) {\n",
       "                    // IPython >= 3 moved mimebundle to data attribute of output\n",
       "                    data = data.data;\n",
       "                }\n",
       "                if (data['text/html'] === html_output) {\n",
       "                    return [cell, data, j];\n",
       "                }\n",
       "            }\n",
       "        }\n",
       "    }\n",
       "};\n",
       "\n",
       "// Register the function which deals with the matplotlib target/channel.\n",
       "// The kernel may be null if the page has been refreshed.\n",
       "if (IPython.notebook.kernel !== null) {\n",
       "    IPython.notebook.kernel.comm_manager.register_target(\n",
       "        'matplotlib',\n",
       "        mpl.mpl_figure_comm\n",
       "    );\n",
       "}\n"
      ],
      "text/plain": [
       "<IPython.core.display.Javascript object>"
      ]
     },
     "metadata": {},
     "output_type": "display_data"
    },
    {
     "data": {
      "text/html": [
       "<img src=\"data:image/png;base64,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\" width=\"800\">"
      ],
      "text/plain": [
       "<IPython.core.display.HTML object>"
      ]
     },
     "metadata": {},
     "output_type": "display_data"
    },
    {
     "data": {
      "text/plain": [
       "<Axes: title={'center': 'March Madness Tournament Teams by Conference'}, xlabel='Count of Teams in March Madness', ylabel='Conference'>"
      ]
     },
     "execution_count": 53,
     "metadata": {},
     "output_type": "execute_result"
    }
   ],
   "source": [
    "#Top 80 KenPom teams conference distribution\n",
    "fig, ax = plt.subplots(figsize=(8,6))\n",
    "\n",
    "KenPom.groupby(\"Conf\").count().Team.sort_values().plot.barh(ax=ax,\n",
    "                                                            ylabel=\"Conference\", \n",
    "                                                            xlabel=\"Count of Teams in March Madness\", \n",
    "                                                            title = \"March Madness Tournament Teams by Conference\")"
   ]
  },
  {
   "cell_type": "code",
   "execution_count": 57,
   "id": "c5957a74",
   "metadata": {
    "scrolled": true
   },
   "outputs": [
    {
     "data": {
      "application/javascript": [
       "/* Put everything inside the global mpl namespace */\n",
       "/* global mpl */\n",
       "window.mpl = {};\n",
       "\n",
       "mpl.get_websocket_type = function () {\n",
       "    if (typeof WebSocket !== 'undefined') {\n",
       "        return WebSocket;\n",
       "    } else if (typeof MozWebSocket !== 'undefined') {\n",
       "        return MozWebSocket;\n",
       "    } else {\n",
       "        alert(\n",
       "            'Your browser does not have WebSocket support. ' +\n",
       "                'Please try Chrome, Safari or Firefox ≥ 6. ' +\n",
       "                'Firefox 4 and 5 are also supported but you ' +\n",
       "                'have to enable WebSockets in about:config.'\n",
       "        );\n",
       "    }\n",
       "};\n",
       "\n",
       "mpl.figure = function (figure_id, websocket, ondownload, parent_element) {\n",
       "    this.id = figure_id;\n",
       "\n",
       "    this.ws = websocket;\n",
       "\n",
       "    this.supports_binary = this.ws.binaryType !== undefined;\n",
       "\n",
       "    if (!this.supports_binary) {\n",
       "        var warnings = document.getElementById('mpl-warnings');\n",
       "        if (warnings) {\n",
       "            warnings.style.display = 'block';\n",
       "            warnings.textContent =\n",
       "                'This browser does not support binary websocket messages. ' +\n",
       "                'Performance may be slow.';\n",
       "        }\n",
       "    }\n",
       "\n",
       "    this.imageObj = new Image();\n",
       "\n",
       "    this.context = undefined;\n",
       "    this.message = undefined;\n",
       "    this.canvas = undefined;\n",
       "    this.rubberband_canvas = undefined;\n",
       "    this.rubberband_context = undefined;\n",
       "    this.format_dropdown = undefined;\n",
       "\n",
       "    this.image_mode = 'full';\n",
       "\n",
       "    this.root = document.createElement('div');\n",
       "    this.root.setAttribute('style', 'display: inline-block');\n",
       "    this._root_extra_style(this.root);\n",
       "\n",
       "    parent_element.appendChild(this.root);\n",
       "\n",
       "    this._init_header(this);\n",
       "    this._init_canvas(this);\n",
       "    this._init_toolbar(this);\n",
       "\n",
       "    var fig = this;\n",
       "\n",
       "    this.waiting = false;\n",
       "\n",
       "    this.ws.onopen = function () {\n",
       "        fig.send_message('supports_binary', { value: fig.supports_binary });\n",
       "        fig.send_message('send_image_mode', {});\n",
       "        if (fig.ratio !== 1) {\n",
       "            fig.send_message('set_device_pixel_ratio', {\n",
       "                device_pixel_ratio: fig.ratio,\n",
       "            });\n",
       "        }\n",
       "        fig.send_message('refresh', {});\n",
       "    };\n",
       "\n",
       "    this.imageObj.onload = function () {\n",
       "        if (fig.image_mode === 'full') {\n",
       "            // Full images could contain transparency (where diff images\n",
       "            // almost always do), so we need to clear the canvas so that\n",
       "            // there is no ghosting.\n",
       "            fig.context.clearRect(0, 0, fig.canvas.width, fig.canvas.height);\n",
       "        }\n",
       "        fig.context.drawImage(fig.imageObj, 0, 0);\n",
       "    };\n",
       "\n",
       "    this.imageObj.onunload = function () {\n",
       "        fig.ws.close();\n",
       "    };\n",
       "\n",
       "    this.ws.onmessage = this._make_on_message_function(this);\n",
       "\n",
       "    this.ondownload = ondownload;\n",
       "};\n",
       "\n",
       "mpl.figure.prototype._init_header = function () {\n",
       "    var titlebar = document.createElement('div');\n",
       "    titlebar.classList =\n",
       "        'ui-dialog-titlebar ui-widget-header ui-corner-all ui-helper-clearfix';\n",
       "    var titletext = document.createElement('div');\n",
       "    titletext.classList = 'ui-dialog-title';\n",
       "    titletext.setAttribute(\n",
       "        'style',\n",
       "        'width: 100%; text-align: center; padding: 3px;'\n",
       "    );\n",
       "    titlebar.appendChild(titletext);\n",
       "    this.root.appendChild(titlebar);\n",
       "    this.header = titletext;\n",
       "};\n",
       "\n",
       "mpl.figure.prototype._canvas_extra_style = function (_canvas_div) {};\n",
       "\n",
       "mpl.figure.prototype._root_extra_style = function (_canvas_div) {};\n",
       "\n",
       "mpl.figure.prototype._init_canvas = function () {\n",
       "    var fig = this;\n",
       "\n",
       "    var canvas_div = (this.canvas_div = document.createElement('div'));\n",
       "    canvas_div.setAttribute('tabindex', '0');\n",
       "    canvas_div.setAttribute(\n",
       "        'style',\n",
       "        'border: 1px solid #ddd;' +\n",
       "            'box-sizing: content-box;' +\n",
       "            'clear: both;' +\n",
       "            'min-height: 1px;' +\n",
       "            'min-width: 1px;' +\n",
       "            'outline: 0;' +\n",
       "            'overflow: hidden;' +\n",
       "            'position: relative;' +\n",
       "            'resize: both;' +\n",
       "            'z-index: 2;'\n",
       "    );\n",
       "\n",
       "    function on_keyboard_event_closure(name) {\n",
       "        return function (event) {\n",
       "            return fig.key_event(event, name);\n",
       "        };\n",
       "    }\n",
       "\n",
       "    canvas_div.addEventListener(\n",
       "        'keydown',\n",
       "        on_keyboard_event_closure('key_press')\n",
       "    );\n",
       "    canvas_div.addEventListener(\n",
       "        'keyup',\n",
       "        on_keyboard_event_closure('key_release')\n",
       "    );\n",
       "\n",
       "    this._canvas_extra_style(canvas_div);\n",
       "    this.root.appendChild(canvas_div);\n",
       "\n",
       "    var canvas = (this.canvas = document.createElement('canvas'));\n",
       "    canvas.classList.add('mpl-canvas');\n",
       "    canvas.setAttribute(\n",
       "        'style',\n",
       "        'box-sizing: content-box;' +\n",
       "            'pointer-events: none;' +\n",
       "            'position: relative;' +\n",
       "            'z-index: 0;'\n",
       "    );\n",
       "\n",
       "    this.context = canvas.getContext('2d');\n",
       "\n",
       "    var backingStore =\n",
       "        this.context.backingStorePixelRatio ||\n",
       "        this.context.webkitBackingStorePixelRatio ||\n",
       "        this.context.mozBackingStorePixelRatio ||\n",
       "        this.context.msBackingStorePixelRatio ||\n",
       "        this.context.oBackingStorePixelRatio ||\n",
       "        this.context.backingStorePixelRatio ||\n",
       "        1;\n",
       "\n",
       "    this.ratio = (window.devicePixelRatio || 1) / backingStore;\n",
       "\n",
       "    var rubberband_canvas = (this.rubberband_canvas = document.createElement(\n",
       "        'canvas'\n",
       "    ));\n",
       "    rubberband_canvas.setAttribute(\n",
       "        'style',\n",
       "        'box-sizing: content-box;' +\n",
       "            'left: 0;' +\n",
       "            'pointer-events: none;' +\n",
       "            'position: absolute;' +\n",
       "            'top: 0;' +\n",
       "            'z-index: 1;'\n",
       "    );\n",
       "\n",
       "    // Apply a ponyfill if ResizeObserver is not implemented by browser.\n",
       "    if (this.ResizeObserver === undefined) {\n",
       "        if (window.ResizeObserver !== undefined) {\n",
       "            this.ResizeObserver = window.ResizeObserver;\n",
       "        } else {\n",
       "            var obs = _JSXTOOLS_RESIZE_OBSERVER({});\n",
       "            this.ResizeObserver = obs.ResizeObserver;\n",
       "        }\n",
       "    }\n",
       "\n",
       "    this.resizeObserverInstance = new this.ResizeObserver(function (entries) {\n",
       "        var nentries = entries.length;\n",
       "        for (var i = 0; i < nentries; i++) {\n",
       "            var entry = entries[i];\n",
       "            var width, height;\n",
       "            if (entry.contentBoxSize) {\n",
       "                if (entry.contentBoxSize instanceof Array) {\n",
       "                    // Chrome 84 implements new version of spec.\n",
       "                    width = entry.contentBoxSize[0].inlineSize;\n",
       "                    height = entry.contentBoxSize[0].blockSize;\n",
       "                } else {\n",
       "                    // Firefox implements old version of spec.\n",
       "                    width = entry.contentBoxSize.inlineSize;\n",
       "                    height = entry.contentBoxSize.blockSize;\n",
       "                }\n",
       "            } else {\n",
       "                // Chrome <84 implements even older version of spec.\n",
       "                width = entry.contentRect.width;\n",
       "                height = entry.contentRect.height;\n",
       "            }\n",
       "\n",
       "            // Keep the size of the canvas and rubber band canvas in sync with\n",
       "            // the canvas container.\n",
       "            if (entry.devicePixelContentBoxSize) {\n",
       "                // Chrome 84 implements new version of spec.\n",
       "                canvas.setAttribute(\n",
       "                    'width',\n",
       "                    entry.devicePixelContentBoxSize[0].inlineSize\n",
       "                );\n",
       "                canvas.setAttribute(\n",
       "                    'height',\n",
       "                    entry.devicePixelContentBoxSize[0].blockSize\n",
       "                );\n",
       "            } else {\n",
       "                canvas.setAttribute('width', width * fig.ratio);\n",
       "                canvas.setAttribute('height', height * fig.ratio);\n",
       "            }\n",
       "            /* This rescales the canvas back to display pixels, so that it\n",
       "             * appears correct on HiDPI screens. */\n",
       "            canvas.style.width = width + 'px';\n",
       "            canvas.style.height = height + 'px';\n",
       "\n",
       "            rubberband_canvas.setAttribute('width', width);\n",
       "            rubberband_canvas.setAttribute('height', height);\n",
       "\n",
       "            // And update the size in Python. We ignore the initial 0/0 size\n",
       "            // that occurs as the element is placed into the DOM, which should\n",
       "            // otherwise not happen due to the minimum size styling.\n",
       "            if (fig.ws.readyState == 1 && width != 0 && height != 0) {\n",
       "                fig.request_resize(width, height);\n",
       "            }\n",
       "        }\n",
       "    });\n",
       "    this.resizeObserverInstance.observe(canvas_div);\n",
       "\n",
       "    function on_mouse_event_closure(name) {\n",
       "        /* User Agent sniffing is bad, but WebKit is busted:\n",
       "         * https://bugs.webkit.org/show_bug.cgi?id=144526\n",
       "         * https://bugs.webkit.org/show_bug.cgi?id=181818\n",
       "         * The worst that happens here is that they get an extra browser\n",
       "         * selection when dragging, if this check fails to catch them.\n",
       "         */\n",
       "        var UA = navigator.userAgent;\n",
       "        var isWebKit = /AppleWebKit/.test(UA) && !/Chrome/.test(UA);\n",
       "        if(isWebKit) {\n",
       "            return function (event) {\n",
       "                /* This prevents the web browser from automatically changing to\n",
       "                 * the text insertion cursor when the button is pressed. We\n",
       "                 * want to control all of the cursor setting manually through\n",
       "                 * the 'cursor' event from matplotlib */\n",
       "                event.preventDefault()\n",
       "                return fig.mouse_event(event, name);\n",
       "            };\n",
       "        } else {\n",
       "            return function (event) {\n",
       "                return fig.mouse_event(event, name);\n",
       "            };\n",
       "        }\n",
       "    }\n",
       "\n",
       "    canvas_div.addEventListener(\n",
       "        'mousedown',\n",
       "        on_mouse_event_closure('button_press')\n",
       "    );\n",
       "    canvas_div.addEventListener(\n",
       "        'mouseup',\n",
       "        on_mouse_event_closure('button_release')\n",
       "    );\n",
       "    canvas_div.addEventListener(\n",
       "        'dblclick',\n",
       "        on_mouse_event_closure('dblclick')\n",
       "    );\n",
       "    // Throttle sequential mouse events to 1 every 20ms.\n",
       "    canvas_div.addEventListener(\n",
       "        'mousemove',\n",
       "        on_mouse_event_closure('motion_notify')\n",
       "    );\n",
       "\n",
       "    canvas_div.addEventListener(\n",
       "        'mouseenter',\n",
       "        on_mouse_event_closure('figure_enter')\n",
       "    );\n",
       "    canvas_div.addEventListener(\n",
       "        'mouseleave',\n",
       "        on_mouse_event_closure('figure_leave')\n",
       "    );\n",
       "\n",
       "    canvas_div.addEventListener('wheel', function (event) {\n",
       "        if (event.deltaY < 0) {\n",
       "            event.step = 1;\n",
       "        } else {\n",
       "            event.step = -1;\n",
       "        }\n",
       "        on_mouse_event_closure('scroll')(event);\n",
       "    });\n",
       "\n",
       "    canvas_div.appendChild(canvas);\n",
       "    canvas_div.appendChild(rubberband_canvas);\n",
       "\n",
       "    this.rubberband_context = rubberband_canvas.getContext('2d');\n",
       "    this.rubberband_context.strokeStyle = '#000000';\n",
       "\n",
       "    this._resize_canvas = function (width, height, forward) {\n",
       "        if (forward) {\n",
       "            canvas_div.style.width = width + 'px';\n",
       "            canvas_div.style.height = height + 'px';\n",
       "        }\n",
       "    };\n",
       "\n",
       "    // Disable right mouse context menu.\n",
       "    canvas_div.addEventListener('contextmenu', function (_e) {\n",
       "        event.preventDefault();\n",
       "        return false;\n",
       "    });\n",
       "\n",
       "    function set_focus() {\n",
       "        canvas.focus();\n",
       "        canvas_div.focus();\n",
       "    }\n",
       "\n",
       "    window.setTimeout(set_focus, 100);\n",
       "};\n",
       "\n",
       "mpl.figure.prototype._init_toolbar = function () {\n",
       "    var fig = this;\n",
       "\n",
       "    var toolbar = document.createElement('div');\n",
       "    toolbar.classList = 'mpl-toolbar';\n",
       "    this.root.appendChild(toolbar);\n",
       "\n",
       "    function on_click_closure(name) {\n",
       "        return function (_event) {\n",
       "            return fig.toolbar_button_onclick(name);\n",
       "        };\n",
       "    }\n",
       "\n",
       "    function on_mouseover_closure(tooltip) {\n",
       "        return function (event) {\n",
       "            if (!event.currentTarget.disabled) {\n",
       "                return fig.toolbar_button_onmouseover(tooltip);\n",
       "            }\n",
       "        };\n",
       "    }\n",
       "\n",
       "    fig.buttons = {};\n",
       "    var buttonGroup = document.createElement('div');\n",
       "    buttonGroup.classList = 'mpl-button-group';\n",
       "    for (var toolbar_ind in mpl.toolbar_items) {\n",
       "        var name = mpl.toolbar_items[toolbar_ind][0];\n",
       "        var tooltip = mpl.toolbar_items[toolbar_ind][1];\n",
       "        var image = mpl.toolbar_items[toolbar_ind][2];\n",
       "        var method_name = mpl.toolbar_items[toolbar_ind][3];\n",
       "\n",
       "        if (!name) {\n",
       "            /* Instead of a spacer, we start a new button group. */\n",
       "            if (buttonGroup.hasChildNodes()) {\n",
       "                toolbar.appendChild(buttonGroup);\n",
       "            }\n",
       "            buttonGroup = document.createElement('div');\n",
       "            buttonGroup.classList = 'mpl-button-group';\n",
       "            continue;\n",
       "        }\n",
       "\n",
       "        var button = (fig.buttons[name] = document.createElement('button'));\n",
       "        button.classList = 'mpl-widget';\n",
       "        button.setAttribute('role', 'button');\n",
       "        button.setAttribute('aria-disabled', 'false');\n",
       "        button.addEventListener('click', on_click_closure(method_name));\n",
       "        button.addEventListener('mouseover', on_mouseover_closure(tooltip));\n",
       "\n",
       "        var icon_img = document.createElement('img');\n",
       "        icon_img.src = '_images/' + image + '.png';\n",
       "        icon_img.srcset = '_images/' + image + '_large.png 2x';\n",
       "        icon_img.alt = tooltip;\n",
       "        button.appendChild(icon_img);\n",
       "\n",
       "        buttonGroup.appendChild(button);\n",
       "    }\n",
       "\n",
       "    if (buttonGroup.hasChildNodes()) {\n",
       "        toolbar.appendChild(buttonGroup);\n",
       "    }\n",
       "\n",
       "    var fmt_picker = document.createElement('select');\n",
       "    fmt_picker.classList = 'mpl-widget';\n",
       "    toolbar.appendChild(fmt_picker);\n",
       "    this.format_dropdown = fmt_picker;\n",
       "\n",
       "    for (var ind in mpl.extensions) {\n",
       "        var fmt = mpl.extensions[ind];\n",
       "        var option = document.createElement('option');\n",
       "        option.selected = fmt === mpl.default_extension;\n",
       "        option.innerHTML = fmt;\n",
       "        fmt_picker.appendChild(option);\n",
       "    }\n",
       "\n",
       "    var status_bar = document.createElement('span');\n",
       "    status_bar.classList = 'mpl-message';\n",
       "    toolbar.appendChild(status_bar);\n",
       "    this.message = status_bar;\n",
       "};\n",
       "\n",
       "mpl.figure.prototype.request_resize = function (x_pixels, y_pixels) {\n",
       "    // Request matplotlib to resize the figure. Matplotlib will then trigger a resize in the client,\n",
       "    // which will in turn request a refresh of the image.\n",
       "    this.send_message('resize', { width: x_pixels, height: y_pixels });\n",
       "};\n",
       "\n",
       "mpl.figure.prototype.send_message = function (type, properties) {\n",
       "    properties['type'] = type;\n",
       "    properties['figure_id'] = this.id;\n",
       "    this.ws.send(JSON.stringify(properties));\n",
       "};\n",
       "\n",
       "mpl.figure.prototype.send_draw_message = function () {\n",
       "    if (!this.waiting) {\n",
       "        this.waiting = true;\n",
       "        this.ws.send(JSON.stringify({ type: 'draw', figure_id: this.id }));\n",
       "    }\n",
       "};\n",
       "\n",
       "mpl.figure.prototype.handle_save = function (fig, _msg) {\n",
       "    var format_dropdown = fig.format_dropdown;\n",
       "    var format = format_dropdown.options[format_dropdown.selectedIndex].value;\n",
       "    fig.ondownload(fig, format);\n",
       "};\n",
       "\n",
       "mpl.figure.prototype.handle_resize = function (fig, msg) {\n",
       "    var size = msg['size'];\n",
       "    if (size[0] !== fig.canvas.width || size[1] !== fig.canvas.height) {\n",
       "        fig._resize_canvas(size[0], size[1], msg['forward']);\n",
       "        fig.send_message('refresh', {});\n",
       "    }\n",
       "};\n",
       "\n",
       "mpl.figure.prototype.handle_rubberband = function (fig, msg) {\n",
       "    var x0 = msg['x0'] / fig.ratio;\n",
       "    var y0 = (fig.canvas.height - msg['y0']) / fig.ratio;\n",
       "    var x1 = msg['x1'] / fig.ratio;\n",
       "    var y1 = (fig.canvas.height - msg['y1']) / fig.ratio;\n",
       "    x0 = Math.floor(x0) + 0.5;\n",
       "    y0 = Math.floor(y0) + 0.5;\n",
       "    x1 = Math.floor(x1) + 0.5;\n",
       "    y1 = Math.floor(y1) + 0.5;\n",
       "    var min_x = Math.min(x0, x1);\n",
       "    var min_y = Math.min(y0, y1);\n",
       "    var width = Math.abs(x1 - x0);\n",
       "    var height = Math.abs(y1 - y0);\n",
       "\n",
       "    fig.rubberband_context.clearRect(\n",
       "        0,\n",
       "        0,\n",
       "        fig.canvas.width / fig.ratio,\n",
       "        fig.canvas.height / fig.ratio\n",
       "    );\n",
       "\n",
       "    fig.rubberband_context.strokeRect(min_x, min_y, width, height);\n",
       "};\n",
       "\n",
       "mpl.figure.prototype.handle_figure_label = function (fig, msg) {\n",
       "    // Updates the figure title.\n",
       "    fig.header.textContent = msg['label'];\n",
       "};\n",
       "\n",
       "mpl.figure.prototype.handle_cursor = function (fig, msg) {\n",
       "    fig.canvas_div.style.cursor = msg['cursor'];\n",
       "};\n",
       "\n",
       "mpl.figure.prototype.handle_message = function (fig, msg) {\n",
       "    fig.message.textContent = msg['message'];\n",
       "};\n",
       "\n",
       "mpl.figure.prototype.handle_draw = function (fig, _msg) {\n",
       "    // Request the server to send over a new figure.\n",
       "    fig.send_draw_message();\n",
       "};\n",
       "\n",
       "mpl.figure.prototype.handle_image_mode = function (fig, msg) {\n",
       "    fig.image_mode = msg['mode'];\n",
       "};\n",
       "\n",
       "mpl.figure.prototype.handle_history_buttons = function (fig, msg) {\n",
       "    for (var key in msg) {\n",
       "        if (!(key in fig.buttons)) {\n",
       "            continue;\n",
       "        }\n",
       "        fig.buttons[key].disabled = !msg[key];\n",
       "        fig.buttons[key].setAttribute('aria-disabled', !msg[key]);\n",
       "    }\n",
       "};\n",
       "\n",
       "mpl.figure.prototype.handle_navigate_mode = function (fig, msg) {\n",
       "    if (msg['mode'] === 'PAN') {\n",
       "        fig.buttons['Pan'].classList.add('active');\n",
       "        fig.buttons['Zoom'].classList.remove('active');\n",
       "    } else if (msg['mode'] === 'ZOOM') {\n",
       "        fig.buttons['Pan'].classList.remove('active');\n",
       "        fig.buttons['Zoom'].classList.add('active');\n",
       "    } else {\n",
       "        fig.buttons['Pan'].classList.remove('active');\n",
       "        fig.buttons['Zoom'].classList.remove('active');\n",
       "    }\n",
       "};\n",
       "\n",
       "mpl.figure.prototype.updated_canvas_event = function () {\n",
       "    // Called whenever the canvas gets updated.\n",
       "    this.send_message('ack', {});\n",
       "};\n",
       "\n",
       "// A function to construct a web socket function for onmessage handling.\n",
       "// Called in the figure constructor.\n",
       "mpl.figure.prototype._make_on_message_function = function (fig) {\n",
       "    return function socket_on_message(evt) {\n",
       "        if (evt.data instanceof Blob) {\n",
       "            var img = evt.data;\n",
       "            if (img.type !== 'image/png') {\n",
       "                /* FIXME: We get \"Resource interpreted as Image but\n",
       "                 * transferred with MIME type text/plain:\" errors on\n",
       "                 * Chrome.  But how to set the MIME type?  It doesn't seem\n",
       "                 * to be part of the websocket stream */\n",
       "                img.type = 'image/png';\n",
       "            }\n",
       "\n",
       "            /* Free the memory for the previous frames */\n",
       "            if (fig.imageObj.src) {\n",
       "                (window.URL || window.webkitURL).revokeObjectURL(\n",
       "                    fig.imageObj.src\n",
       "                );\n",
       "            }\n",
       "\n",
       "            fig.imageObj.src = (window.URL || window.webkitURL).createObjectURL(\n",
       "                img\n",
       "            );\n",
       "            fig.updated_canvas_event();\n",
       "            fig.waiting = false;\n",
       "            return;\n",
       "        } else if (\n",
       "            typeof evt.data === 'string' &&\n",
       "            evt.data.slice(0, 21) === 'data:image/png;base64'\n",
       "        ) {\n",
       "            fig.imageObj.src = evt.data;\n",
       "            fig.updated_canvas_event();\n",
       "            fig.waiting = false;\n",
       "            return;\n",
       "        }\n",
       "\n",
       "        var msg = JSON.parse(evt.data);\n",
       "        var msg_type = msg['type'];\n",
       "\n",
       "        // Call the  \"handle_{type}\" callback, which takes\n",
       "        // the figure and JSON message as its only arguments.\n",
       "        try {\n",
       "            var callback = fig['handle_' + msg_type];\n",
       "        } catch (e) {\n",
       "            console.log(\n",
       "                \"No handler for the '\" + msg_type + \"' message type: \",\n",
       "                msg\n",
       "            );\n",
       "            return;\n",
       "        }\n",
       "\n",
       "        if (callback) {\n",
       "            try {\n",
       "                // console.log(\"Handling '\" + msg_type + \"' message: \", msg);\n",
       "                callback(fig, msg);\n",
       "            } catch (e) {\n",
       "                console.log(\n",
       "                    \"Exception inside the 'handler_\" + msg_type + \"' callback:\",\n",
       "                    e,\n",
       "                    e.stack,\n",
       "                    msg\n",
       "                );\n",
       "            }\n",
       "        }\n",
       "    };\n",
       "};\n",
       "\n",
       "function getModifiers(event) {\n",
       "    var mods = [];\n",
       "    if (event.ctrlKey) {\n",
       "        mods.push('ctrl');\n",
       "    }\n",
       "    if (event.altKey) {\n",
       "        mods.push('alt');\n",
       "    }\n",
       "    if (event.shiftKey) {\n",
       "        mods.push('shift');\n",
       "    }\n",
       "    if (event.metaKey) {\n",
       "        mods.push('meta');\n",
       "    }\n",
       "    return mods;\n",
       "}\n",
       "\n",
       "/*\n",
       " * return a copy of an object with only non-object keys\n",
       " * we need this to avoid circular references\n",
       " * https://stackoverflow.com/a/24161582/3208463\n",
       " */\n",
       "function simpleKeys(original) {\n",
       "    return Object.keys(original).reduce(function (obj, key) {\n",
       "        if (typeof original[key] !== 'object') {\n",
       "            obj[key] = original[key];\n",
       "        }\n",
       "        return obj;\n",
       "    }, {});\n",
       "}\n",
       "\n",
       "mpl.figure.prototype.mouse_event = function (event, name) {\n",
       "    if (name === 'button_press') {\n",
       "        this.canvas.focus();\n",
       "        this.canvas_div.focus();\n",
       "    }\n",
       "\n",
       "    // from https://stackoverflow.com/q/1114465\n",
       "    var boundingRect = this.canvas.getBoundingClientRect();\n",
       "    var x = (event.clientX - boundingRect.left) * this.ratio;\n",
       "    var y = (event.clientY - boundingRect.top) * this.ratio;\n",
       "\n",
       "    this.send_message(name, {\n",
       "        x: x,\n",
       "        y: y,\n",
       "        button: event.button,\n",
       "        step: event.step,\n",
       "        modifiers: getModifiers(event),\n",
       "        guiEvent: simpleKeys(event),\n",
       "    });\n",
       "\n",
       "    return false;\n",
       "};\n",
       "\n",
       "mpl.figure.prototype._key_event_extra = function (_event, _name) {\n",
       "    // Handle any extra behaviour associated with a key event\n",
       "};\n",
       "\n",
       "mpl.figure.prototype.key_event = function (event, name) {\n",
       "    // Prevent repeat events\n",
       "    if (name === 'key_press') {\n",
       "        if (event.key === this._key) {\n",
       "            return;\n",
       "        } else {\n",
       "            this._key = event.key;\n",
       "        }\n",
       "    }\n",
       "    if (name === 'key_release') {\n",
       "        this._key = null;\n",
       "    }\n",
       "\n",
       "    var value = '';\n",
       "    if (event.ctrlKey && event.key !== 'Control') {\n",
       "        value += 'ctrl+';\n",
       "    }\n",
       "    else if (event.altKey && event.key !== 'Alt') {\n",
       "        value += 'alt+';\n",
       "    }\n",
       "    else if (event.shiftKey && event.key !== 'Shift') {\n",
       "        value += 'shift+';\n",
       "    }\n",
       "\n",
       "    value += 'k' + event.key;\n",
       "\n",
       "    this._key_event_extra(event, name);\n",
       "\n",
       "    this.send_message(name, { key: value, guiEvent: simpleKeys(event) });\n",
       "    return false;\n",
       "};\n",
       "\n",
       "mpl.figure.prototype.toolbar_button_onclick = function (name) {\n",
       "    if (name === 'download') {\n",
       "        this.handle_save(this, null);\n",
       "    } else {\n",
       "        this.send_message('toolbar_button', { name: name });\n",
       "    }\n",
       "};\n",
       "\n",
       "mpl.figure.prototype.toolbar_button_onmouseover = function (tooltip) {\n",
       "    this.message.textContent = tooltip;\n",
       "};\n",
       "\n",
       "///////////////// REMAINING CONTENT GENERATED BY embed_js.py /////////////////\n",
       "// prettier-ignore\n",
       "var _JSXTOOLS_RESIZE_OBSERVER=function(A){var t,i=new WeakMap,n=new WeakMap,a=new WeakMap,r=new WeakMap,o=new Set;function s(e){if(!(this instanceof s))throw new TypeError(\"Constructor requires 'new' operator\");i.set(this,e)}function h(){throw new TypeError(\"Function is not a constructor\")}function c(e,t,i,n){e=0 in arguments?Number(arguments[0]):0,t=1 in arguments?Number(arguments[1]):0,i=2 in arguments?Number(arguments[2]):0,n=3 in arguments?Number(arguments[3]):0,this.right=(this.x=this.left=e)+(this.width=i),this.bottom=(this.y=this.top=t)+(this.height=n),Object.freeze(this)}function d(){t=requestAnimationFrame(d);var s=new WeakMap,p=new Set;o.forEach((function(t){r.get(t).forEach((function(i){var r=t instanceof window.SVGElement,o=a.get(t),d=r?0:parseFloat(o.paddingTop),f=r?0:parseFloat(o.paddingRight),l=r?0:parseFloat(o.paddingBottom),u=r?0:parseFloat(o.paddingLeft),g=r?0:parseFloat(o.borderTopWidth),m=r?0:parseFloat(o.borderRightWidth),w=r?0:parseFloat(o.borderBottomWidth),b=u+f,F=d+l,v=(r?0:parseFloat(o.borderLeftWidth))+m,W=g+w,y=r?0:t.offsetHeight-W-t.clientHeight,E=r?0:t.offsetWidth-v-t.clientWidth,R=b+v,z=F+W,M=r?t.width:parseFloat(o.width)-R-E,O=r?t.height:parseFloat(o.height)-z-y;if(n.has(t)){var k=n.get(t);if(k[0]===M&&k[1]===O)return}n.set(t,[M,O]);var S=Object.create(h.prototype);S.target=t,S.contentRect=new c(u,d,M,O),s.has(i)||(s.set(i,[]),p.add(i)),s.get(i).push(S)}))})),p.forEach((function(e){i.get(e).call(e,s.get(e),e)}))}return s.prototype.observe=function(i){if(i instanceof window.Element){r.has(i)||(r.set(i,new Set),o.add(i),a.set(i,window.getComputedStyle(i)));var n=r.get(i);n.has(this)||n.add(this),cancelAnimationFrame(t),t=requestAnimationFrame(d)}},s.prototype.unobserve=function(i){if(i instanceof window.Element&&r.has(i)){var n=r.get(i);n.has(this)&&(n.delete(this),n.size||(r.delete(i),o.delete(i))),n.size||r.delete(i),o.size||cancelAnimationFrame(t)}},A.DOMRectReadOnly=c,A.ResizeObserver=s,A.ResizeObserverEntry=h,A}; // eslint-disable-line\n",
       "mpl.toolbar_items = [[\"Home\", \"Reset original view\", \"fa fa-home\", \"home\"], [\"Back\", \"Back to previous view\", \"fa fa-arrow-left\", \"back\"], [\"Forward\", \"Forward to next view\", \"fa fa-arrow-right\", \"forward\"], [\"\", \"\", \"\", \"\"], [\"Pan\", \"Left button pans, Right button zooms\\nx/y fixes axis, CTRL fixes aspect\", \"fa fa-arrows\", \"pan\"], [\"Zoom\", \"Zoom to rectangle\\nx/y fixes axis\", \"fa fa-square-o\", \"zoom\"], [\"\", \"\", \"\", \"\"], [\"Download\", \"Download plot\", \"fa fa-floppy-o\", \"download\"]];\n",
       "\n",
       "mpl.extensions = [\"eps\", \"jpeg\", \"pgf\", \"pdf\", \"png\", \"ps\", \"raw\", \"svg\", \"tif\", \"webp\"];\n",
       "\n",
       "mpl.default_extension = \"png\";/* global mpl */\n",
       "\n",
       "var comm_websocket_adapter = function (comm) {\n",
       "    // Create a \"websocket\"-like object which calls the given IPython comm\n",
       "    // object with the appropriate methods. Currently this is a non binary\n",
       "    // socket, so there is still some room for performance tuning.\n",
       "    var ws = {};\n",
       "\n",
       "    ws.binaryType = comm.kernel.ws.binaryType;\n",
       "    ws.readyState = comm.kernel.ws.readyState;\n",
       "    function updateReadyState(_event) {\n",
       "        if (comm.kernel.ws) {\n",
       "            ws.readyState = comm.kernel.ws.readyState;\n",
       "        } else {\n",
       "            ws.readyState = 3; // Closed state.\n",
       "        }\n",
       "    }\n",
       "    comm.kernel.ws.addEventListener('open', updateReadyState);\n",
       "    comm.kernel.ws.addEventListener('close', updateReadyState);\n",
       "    comm.kernel.ws.addEventListener('error', updateReadyState);\n",
       "\n",
       "    ws.close = function () {\n",
       "        comm.close();\n",
       "    };\n",
       "    ws.send = function (m) {\n",
       "        //console.log('sending', m);\n",
       "        comm.send(m);\n",
       "    };\n",
       "    // Register the callback with on_msg.\n",
       "    comm.on_msg(function (msg) {\n",
       "        //console.log('receiving', msg['content']['data'], msg);\n",
       "        var data = msg['content']['data'];\n",
       "        if (data['blob'] !== undefined) {\n",
       "            data = {\n",
       "                data: new Blob(msg['buffers'], { type: data['blob'] }),\n",
       "            };\n",
       "        }\n",
       "        // Pass the mpl event to the overridden (by mpl) onmessage function.\n",
       "        ws.onmessage(data);\n",
       "    });\n",
       "    return ws;\n",
       "};\n",
       "\n",
       "mpl.mpl_figure_comm = function (comm, msg) {\n",
       "    // This is the function which gets called when the mpl process\n",
       "    // starts-up an IPython Comm through the \"matplotlib\" channel.\n",
       "\n",
       "    var id = msg.content.data.id;\n",
       "    // Get hold of the div created by the display call when the Comm\n",
       "    // socket was opened in Python.\n",
       "    var element = document.getElementById(id);\n",
       "    var ws_proxy = comm_websocket_adapter(comm);\n",
       "\n",
       "    function ondownload(figure, _format) {\n",
       "        window.open(figure.canvas.toDataURL());\n",
       "    }\n",
       "\n",
       "    var fig = new mpl.figure(id, ws_proxy, ondownload, element);\n",
       "\n",
       "    // Call onopen now - mpl needs it, as it is assuming we've passed it a real\n",
       "    // web socket which is closed, not our websocket->open comm proxy.\n",
       "    ws_proxy.onopen();\n",
       "\n",
       "    fig.parent_element = element;\n",
       "    fig.cell_info = mpl.find_output_cell(\"<div id='\" + id + \"'></div>\");\n",
       "    if (!fig.cell_info) {\n",
       "        console.error('Failed to find cell for figure', id, fig);\n",
       "        return;\n",
       "    }\n",
       "    fig.cell_info[0].output_area.element.on(\n",
       "        'cleared',\n",
       "        { fig: fig },\n",
       "        fig._remove_fig_handler\n",
       "    );\n",
       "};\n",
       "\n",
       "mpl.figure.prototype.handle_close = function (fig, msg) {\n",
       "    var width = fig.canvas.width / fig.ratio;\n",
       "    fig.cell_info[0].output_area.element.off(\n",
       "        'cleared',\n",
       "        fig._remove_fig_handler\n",
       "    );\n",
       "    fig.resizeObserverInstance.unobserve(fig.canvas_div);\n",
       "\n",
       "    // Update the output cell to use the data from the current canvas.\n",
       "    fig.push_to_output();\n",
       "    var dataURL = fig.canvas.toDataURL();\n",
       "    // Re-enable the keyboard manager in IPython - without this line, in FF,\n",
       "    // the notebook keyboard shortcuts fail.\n",
       "    IPython.keyboard_manager.enable();\n",
       "    fig.parent_element.innerHTML =\n",
       "        '<img src=\"' + dataURL + '\" width=\"' + width + '\">';\n",
       "    fig.close_ws(fig, msg);\n",
       "};\n",
       "\n",
       "mpl.figure.prototype.close_ws = function (fig, msg) {\n",
       "    fig.send_message('closing', msg);\n",
       "    // fig.ws.close()\n",
       "};\n",
       "\n",
       "mpl.figure.prototype.push_to_output = function (_remove_interactive) {\n",
       "    // Turn the data on the canvas into data in the output cell.\n",
       "    var width = this.canvas.width / this.ratio;\n",
       "    var dataURL = this.canvas.toDataURL();\n",
       "    this.cell_info[1]['text/html'] =\n",
       "        '<img src=\"' + dataURL + '\" width=\"' + width + '\">';\n",
       "};\n",
       "\n",
       "mpl.figure.prototype.updated_canvas_event = function () {\n",
       "    // Tell IPython that the notebook contents must change.\n",
       "    IPython.notebook.set_dirty(true);\n",
       "    this.send_message('ack', {});\n",
       "    var fig = this;\n",
       "    // Wait a second, then push the new image to the DOM so\n",
       "    // that it is saved nicely (might be nice to debounce this).\n",
       "    setTimeout(function () {\n",
       "        fig.push_to_output();\n",
       "    }, 1000);\n",
       "};\n",
       "\n",
       "mpl.figure.prototype._init_toolbar = function () {\n",
       "    var fig = this;\n",
       "\n",
       "    var toolbar = document.createElement('div');\n",
       "    toolbar.classList = 'btn-toolbar';\n",
       "    this.root.appendChild(toolbar);\n",
       "\n",
       "    function on_click_closure(name) {\n",
       "        return function (_event) {\n",
       "            return fig.toolbar_button_onclick(name);\n",
       "        };\n",
       "    }\n",
       "\n",
       "    function on_mouseover_closure(tooltip) {\n",
       "        return function (event) {\n",
       "            if (!event.currentTarget.disabled) {\n",
       "                return fig.toolbar_button_onmouseover(tooltip);\n",
       "            }\n",
       "        };\n",
       "    }\n",
       "\n",
       "    fig.buttons = {};\n",
       "    var buttonGroup = document.createElement('div');\n",
       "    buttonGroup.classList = 'btn-group';\n",
       "    var button;\n",
       "    for (var toolbar_ind in mpl.toolbar_items) {\n",
       "        var name = mpl.toolbar_items[toolbar_ind][0];\n",
       "        var tooltip = mpl.toolbar_items[toolbar_ind][1];\n",
       "        var image = mpl.toolbar_items[toolbar_ind][2];\n",
       "        var method_name = mpl.toolbar_items[toolbar_ind][3];\n",
       "\n",
       "        if (!name) {\n",
       "            /* Instead of a spacer, we start a new button group. */\n",
       "            if (buttonGroup.hasChildNodes()) {\n",
       "                toolbar.appendChild(buttonGroup);\n",
       "            }\n",
       "            buttonGroup = document.createElement('div');\n",
       "            buttonGroup.classList = 'btn-group';\n",
       "            continue;\n",
       "        }\n",
       "\n",
       "        button = fig.buttons[name] = document.createElement('button');\n",
       "        button.classList = 'btn btn-default';\n",
       "        button.href = '#';\n",
       "        button.title = name;\n",
       "        button.innerHTML = '<i class=\"fa ' + image + ' fa-lg\"></i>';\n",
       "        button.addEventListener('click', on_click_closure(method_name));\n",
       "        button.addEventListener('mouseover', on_mouseover_closure(tooltip));\n",
       "        buttonGroup.appendChild(button);\n",
       "    }\n",
       "\n",
       "    if (buttonGroup.hasChildNodes()) {\n",
       "        toolbar.appendChild(buttonGroup);\n",
       "    }\n",
       "\n",
       "    // Add the status bar.\n",
       "    var status_bar = document.createElement('span');\n",
       "    status_bar.classList = 'mpl-message pull-right';\n",
       "    toolbar.appendChild(status_bar);\n",
       "    this.message = status_bar;\n",
       "\n",
       "    // Add the close button to the window.\n",
       "    var buttongrp = document.createElement('div');\n",
       "    buttongrp.classList = 'btn-group inline pull-right';\n",
       "    button = document.createElement('button');\n",
       "    button.classList = 'btn btn-mini btn-primary';\n",
       "    button.href = '#';\n",
       "    button.title = 'Stop Interaction';\n",
       "    button.innerHTML = '<i class=\"fa fa-power-off icon-remove icon-large\"></i>';\n",
       "    button.addEventListener('click', function (_evt) {\n",
       "        fig.handle_close(fig, {});\n",
       "    });\n",
       "    button.addEventListener(\n",
       "        'mouseover',\n",
       "        on_mouseover_closure('Stop Interaction')\n",
       "    );\n",
       "    buttongrp.appendChild(button);\n",
       "    var titlebar = this.root.querySelector('.ui-dialog-titlebar');\n",
       "    titlebar.insertBefore(buttongrp, titlebar.firstChild);\n",
       "};\n",
       "\n",
       "mpl.figure.prototype._remove_fig_handler = function (event) {\n",
       "    var fig = event.data.fig;\n",
       "    if (event.target !== this) {\n",
       "        // Ignore bubbled events from children.\n",
       "        return;\n",
       "    }\n",
       "    fig.close_ws(fig, {});\n",
       "};\n",
       "\n",
       "mpl.figure.prototype._root_extra_style = function (el) {\n",
       "    el.style.boxSizing = 'content-box'; // override notebook setting of border-box.\n",
       "};\n",
       "\n",
       "mpl.figure.prototype._canvas_extra_style = function (el) {\n",
       "    // this is important to make the div 'focusable\n",
       "    el.setAttribute('tabindex', 0);\n",
       "    // reach out to IPython and tell the keyboard manager to turn it's self\n",
       "    // off when our div gets focus\n",
       "\n",
       "    // location in version 3\n",
       "    if (IPython.notebook.keyboard_manager) {\n",
       "        IPython.notebook.keyboard_manager.register_events(el);\n",
       "    } else {\n",
       "        // location in version 2\n",
       "        IPython.keyboard_manager.register_events(el);\n",
       "    }\n",
       "};\n",
       "\n",
       "mpl.figure.prototype._key_event_extra = function (event, _name) {\n",
       "    // Check for shift+enter\n",
       "    if (event.shiftKey && event.which === 13) {\n",
       "        this.canvas_div.blur();\n",
       "        // select the cell after this one\n",
       "        var index = IPython.notebook.find_cell_index(this.cell_info[0]);\n",
       "        IPython.notebook.select(index + 1);\n",
       "    }\n",
       "};\n",
       "\n",
       "mpl.figure.prototype.handle_save = function (fig, _msg) {\n",
       "    fig.ondownload(fig, null);\n",
       "};\n",
       "\n",
       "mpl.find_output_cell = function (html_output) {\n",
       "    // Return the cell and output element which can be found *uniquely* in the notebook.\n",
       "    // Note - this is a bit hacky, but it is done because the \"notebook_saving.Notebook\"\n",
       "    // IPython event is triggered only after the cells have been serialised, which for\n",
       "    // our purposes (turning an active figure into a static one), is too late.\n",
       "    var cells = IPython.notebook.get_cells();\n",
       "    var ncells = cells.length;\n",
       "    for (var i = 0; i < ncells; i++) {\n",
       "        var cell = cells[i];\n",
       "        if (cell.cell_type === 'code') {\n",
       "            for (var j = 0; j < cell.output_area.outputs.length; j++) {\n",
       "                var data = cell.output_area.outputs[j];\n",
       "                if (data.data) {\n",
       "                    // IPython >= 3 moved mimebundle to data attribute of output\n",
       "                    data = data.data;\n",
       "                }\n",
       "                if (data['text/html'] === html_output) {\n",
       "                    return [cell, data, j];\n",
       "                }\n",
       "            }\n",
       "        }\n",
       "    }\n",
       "};\n",
       "\n",
       "// Register the function which deals with the matplotlib target/channel.\n",
       "// The kernel may be null if the page has been refreshed.\n",
       "if (IPython.notebook.kernel !== null) {\n",
       "    IPython.notebook.kernel.comm_manager.register_target(\n",
       "        'matplotlib',\n",
       "        mpl.mpl_figure_comm\n",
       "    );\n",
       "}\n"
      ],
      "text/plain": [
       "<IPython.core.display.Javascript object>"
      ]
     },
     "metadata": {},
     "output_type": "display_data"
    },
    {
     "data": {
      "text/html": [
       "<img src=\"data:image/png;base64,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\" width=\"960\">"
      ],
      "text/plain": [
       "<IPython.core.display.HTML object>"
      ]
     },
     "metadata": {},
     "output_type": "display_data"
    },
    {
     "data": {
      "text/plain": [
       "<Axes: title={'center': 'March Madness KenPom Adjusted Efficiency Scatterplot'}, xlabel='Adjusted Offensive Efficiency', ylabel='Adjusted Defensive Efficiency'>"
      ]
     },
     "execution_count": 57,
     "metadata": {},
     "output_type": "execute_result"
    },
    {
     "data": {
      "text/plain": [
       "<matplotlib.collections.LineCollection at 0x225f22611d0>"
      ]
     },
     "execution_count": 57,
     "metadata": {},
     "output_type": "execute_result"
    },
    {
     "data": {
      "text/plain": [
       "<matplotlib.collections.LineCollection at 0x225f22a5a10>"
      ]
     },
     "execution_count": 57,
     "metadata": {},
     "output_type": "execute_result"
    },
    {
     "data": {
      "text/plain": [
       "Text(0.565, 0.735, 'Avg AdjO')"
      ]
     },
     "execution_count": 57,
     "metadata": {},
     "output_type": "execute_result"
    },
    {
     "data": {
      "text/plain": [
       "Text(0.165, 0.525, 'Avg AdjD')"
      ]
     },
     "execution_count": 57,
     "metadata": {},
     "output_type": "execute_result"
    },
    {
     "data": {
      "text/plain": [
       "<matplotlib.offsetbox.AnnotationBbox at 0x225f227ba10>"
      ]
     },
     "execution_count": 57,
     "metadata": {},
     "output_type": "execute_result"
    },
    {
     "data": {
      "text/plain": [
       "<matplotlib.offsetbox.AnnotationBbox at 0x225f22f4650>"
      ]
     },
     "execution_count": 57,
     "metadata": {},
     "output_type": "execute_result"
    },
    {
     "data": {
      "text/plain": [
       "<matplotlib.offsetbox.AnnotationBbox at 0x225f22ce990>"
      ]
     },
     "execution_count": 57,
     "metadata": {},
     "output_type": "execute_result"
    },
    {
     "data": {
      "text/plain": [
       "<matplotlib.offsetbox.AnnotationBbox at 0x225f2324210>"
      ]
     },
     "execution_count": 57,
     "metadata": {},
     "output_type": "execute_result"
    },
    {
     "data": {
      "text/plain": [
       "<matplotlib.offsetbox.AnnotationBbox at 0x225f2291510>"
      ]
     },
     "execution_count": 57,
     "metadata": {},
     "output_type": "execute_result"
    },
    {
     "data": {
      "text/plain": [
       "<matplotlib.offsetbox.AnnotationBbox at 0x225f2326e90>"
      ]
     },
     "execution_count": 57,
     "metadata": {},
     "output_type": "execute_result"
    },
    {
     "data": {
      "text/plain": [
       "<matplotlib.offsetbox.AnnotationBbox at 0x225f22c86d0>"
      ]
     },
     "execution_count": 57,
     "metadata": {},
     "output_type": "execute_result"
    },
    {
     "data": {
      "text/plain": [
       "<matplotlib.offsetbox.AnnotationBbox at 0x225f22c9e10>"
      ]
     },
     "execution_count": 57,
     "metadata": {},
     "output_type": "execute_result"
    },
    {
     "data": {
      "text/plain": [
       "<matplotlib.offsetbox.AnnotationBbox at 0x225f22cb550>"
      ]
     },
     "execution_count": 57,
     "metadata": {},
     "output_type": "execute_result"
    },
    {
     "data": {
      "text/plain": [
       "<matplotlib.offsetbox.AnnotationBbox at 0x225f1fb0e50>"
      ]
     },
     "execution_count": 57,
     "metadata": {},
     "output_type": "execute_result"
    },
    {
     "data": {
      "text/plain": [
       "<matplotlib.offsetbox.AnnotationBbox at 0x225f22ba610>"
      ]
     },
     "execution_count": 57,
     "metadata": {},
     "output_type": "execute_result"
    },
    {
     "data": {
      "text/plain": [
       "<matplotlib.offsetbox.AnnotationBbox at 0x225f2340090>"
      ]
     },
     "execution_count": 57,
     "metadata": {},
     "output_type": "execute_result"
    },
    {
     "data": {
      "text/plain": [
       "<matplotlib.offsetbox.AnnotationBbox at 0x225f22b9a10>"
      ]
     },
     "execution_count": 57,
     "metadata": {},
     "output_type": "execute_result"
    },
    {
     "data": {
      "text/plain": [
       "<matplotlib.offsetbox.AnnotationBbox at 0x225f2343350>"
      ]
     },
     "execution_count": 57,
     "metadata": {},
     "output_type": "execute_result"
    },
    {
     "data": {
      "text/plain": [
       "<matplotlib.offsetbox.AnnotationBbox at 0x225f234cd90>"
      ]
     },
     "execution_count": 57,
     "metadata": {},
     "output_type": "execute_result"
    },
    {
     "data": {
      "text/plain": [
       "<matplotlib.offsetbox.AnnotationBbox at 0x225f22764d0>"
      ]
     },
     "execution_count": 57,
     "metadata": {},
     "output_type": "execute_result"
    },
    {
     "data": {
      "text/plain": [
       "<matplotlib.offsetbox.AnnotationBbox at 0x225f234fe90>"
      ]
     },
     "execution_count": 57,
     "metadata": {},
     "output_type": "execute_result"
    },
    {
     "data": {
      "text/plain": [
       "<matplotlib.offsetbox.AnnotationBbox at 0x225f23257d0>"
      ]
     },
     "execution_count": 57,
     "metadata": {},
     "output_type": "execute_result"
    },
    {
     "data": {
      "text/plain": [
       "<matplotlib.offsetbox.AnnotationBbox at 0x225f2326e50>"
      ]
     },
     "execution_count": 57,
     "metadata": {},
     "output_type": "execute_result"
    },
    {
     "data": {
      "text/plain": [
       "<matplotlib.offsetbox.AnnotationBbox at 0x225f2358650>"
      ]
     },
     "execution_count": 57,
     "metadata": {},
     "output_type": "execute_result"
    },
    {
     "data": {
      "text/plain": [
       "<matplotlib.offsetbox.AnnotationBbox at 0x225f2359fd0>"
      ]
     },
     "execution_count": 57,
     "metadata": {},
     "output_type": "execute_result"
    },
    {
     "data": {
      "text/plain": [
       "<matplotlib.offsetbox.AnnotationBbox at 0x225f235b7d0>"
      ]
     },
     "execution_count": 57,
     "metadata": {},
     "output_type": "execute_result"
    },
    {
     "data": {
      "text/plain": [
       "<matplotlib.offsetbox.AnnotationBbox at 0x225f22d5110>"
      ]
     },
     "execution_count": 57,
     "metadata": {},
     "output_type": "execute_result"
    },
    {
     "data": {
      "text/plain": [
       "<matplotlib.offsetbox.AnnotationBbox at 0x225f236e950>"
      ]
     },
     "execution_count": 57,
     "metadata": {},
     "output_type": "execute_result"
    },
    {
     "data": {
      "text/plain": [
       "<matplotlib.offsetbox.AnnotationBbox at 0x225f23781d0>"
      ]
     },
     "execution_count": 57,
     "metadata": {},
     "output_type": "execute_result"
    },
    {
     "data": {
      "text/plain": [
       "<matplotlib.offsetbox.AnnotationBbox at 0x225f2341910>"
      ]
     },
     "execution_count": 57,
     "metadata": {},
     "output_type": "execute_result"
    },
    {
     "data": {
      "text/plain": [
       "<matplotlib.offsetbox.AnnotationBbox at 0x225f22bb150>"
      ]
     },
     "execution_count": 57,
     "metadata": {},
     "output_type": "execute_result"
    },
    {
     "data": {
      "text/plain": [
       "<matplotlib.offsetbox.AnnotationBbox at 0x225f22c09d0>"
      ]
     },
     "execution_count": 57,
     "metadata": {},
     "output_type": "execute_result"
    },
    {
     "data": {
      "text/plain": [
       "<matplotlib.offsetbox.AnnotationBbox at 0x225f2386350>"
      ]
     },
     "execution_count": 57,
     "metadata": {},
     "output_type": "execute_result"
    },
    {
     "data": {
      "text/plain": [
       "<matplotlib.offsetbox.AnnotationBbox at 0x225f2387b90>"
      ]
     },
     "execution_count": 57,
     "metadata": {},
     "output_type": "execute_result"
    },
    {
     "data": {
      "text/plain": [
       "<matplotlib.offsetbox.AnnotationBbox at 0x225f2385290>"
      ]
     },
     "execution_count": 57,
     "metadata": {},
     "output_type": "execute_result"
    },
    {
     "data": {
      "text/plain": [
       "<matplotlib.offsetbox.AnnotationBbox at 0x225f2376c50>"
      ]
     },
     "execution_count": 57,
     "metadata": {},
     "output_type": "execute_result"
    },
    {
     "data": {
      "text/plain": [
       "<matplotlib.offsetbox.AnnotationBbox at 0x225f23884d0>"
      ]
     },
     "execution_count": 57,
     "metadata": {},
     "output_type": "execute_result"
    },
    {
     "data": {
      "text/plain": [
       "<matplotlib.offsetbox.AnnotationBbox at 0x225f2389c90>"
      ]
     },
     "execution_count": 57,
     "metadata": {},
     "output_type": "execute_result"
    },
    {
     "data": {
      "text/plain": [
       "<matplotlib.offsetbox.AnnotationBbox at 0x225f22c3410>"
      ]
     },
     "execution_count": 57,
     "metadata": {},
     "output_type": "execute_result"
    },
    {
     "data": {
      "text/plain": [
       "<matplotlib.offsetbox.AnnotationBbox at 0x225f234cd50>"
      ]
     },
     "execution_count": 57,
     "metadata": {},
     "output_type": "execute_result"
    },
    {
     "data": {
      "text/plain": [
       "<matplotlib.offsetbox.AnnotationBbox at 0x225f2276510>"
      ]
     },
     "execution_count": 57,
     "metadata": {},
     "output_type": "execute_result"
    },
    {
     "data": {
      "text/plain": [
       "<matplotlib.offsetbox.AnnotationBbox at 0x225f22f7c90>"
      ]
     },
     "execution_count": 57,
     "metadata": {},
     "output_type": "execute_result"
    },
    {
     "data": {
      "text/plain": [
       "<matplotlib.offsetbox.AnnotationBbox at 0x225f23a1590>"
      ]
     },
     "execution_count": 57,
     "metadata": {},
     "output_type": "execute_result"
    },
    {
     "data": {
      "text/plain": [
       "<matplotlib.offsetbox.AnnotationBbox at 0x225f23a2f50>"
      ]
     },
     "execution_count": 57,
     "metadata": {},
     "output_type": "execute_result"
    },
    {
     "data": {
      "text/plain": [
       "<matplotlib.offsetbox.AnnotationBbox at 0x225f22c8650>"
      ]
     },
     "execution_count": 57,
     "metadata": {},
     "output_type": "execute_result"
    },
    {
     "data": {
      "text/plain": [
       "<matplotlib.offsetbox.AnnotationBbox at 0x225f2279e10>"
      ]
     },
     "execution_count": 57,
     "metadata": {},
     "output_type": "execute_result"
    },
    {
     "data": {
      "text/plain": [
       "<matplotlib.offsetbox.AnnotationBbox at 0x225f226b590>"
      ]
     },
     "execution_count": 57,
     "metadata": {},
     "output_type": "execute_result"
    },
    {
     "data": {
      "text/plain": [
       "<matplotlib.offsetbox.AnnotationBbox at 0x225f22cce50>"
      ]
     },
     "execution_count": 57,
     "metadata": {},
     "output_type": "execute_result"
    },
    {
     "data": {
      "text/plain": [
       "<matplotlib.offsetbox.AnnotationBbox at 0x225f23b65d0>"
      ]
     },
     "execution_count": 57,
     "metadata": {},
     "output_type": "execute_result"
    },
    {
     "data": {
      "text/plain": [
       "<matplotlib.offsetbox.AnnotationBbox at 0x225f23b7c90>"
      ]
     },
     "execution_count": 57,
     "metadata": {},
     "output_type": "execute_result"
    },
    {
     "data": {
      "text/plain": [
       "<matplotlib.offsetbox.AnnotationBbox at 0x225f23a1510>"
      ]
     },
     "execution_count": 57,
     "metadata": {},
     "output_type": "execute_result"
    },
    {
     "data": {
      "text/plain": [
       "<matplotlib.offsetbox.AnnotationBbox at 0x225f22c2c50>"
      ]
     },
     "execution_count": 57,
     "metadata": {},
     "output_type": "execute_result"
    },
    {
     "data": {
      "text/plain": [
       "<matplotlib.offsetbox.AnnotationBbox at 0x225f22c0790>"
      ]
     },
     "execution_count": 57,
     "metadata": {},
     "output_type": "execute_result"
    },
    {
     "data": {
      "text/plain": [
       "<matplotlib.offsetbox.AnnotationBbox at 0x225f23cddd0>"
      ]
     },
     "execution_count": 57,
     "metadata": {},
     "output_type": "execute_result"
    },
    {
     "data": {
      "text/plain": [
       "<matplotlib.offsetbox.AnnotationBbox at 0x225f22f7590>"
      ]
     },
     "execution_count": 57,
     "metadata": {},
     "output_type": "execute_result"
    },
    {
     "data": {
      "text/plain": [
       "<matplotlib.offsetbox.AnnotationBbox at 0x225f22a4cd0>"
      ]
     },
     "execution_count": 57,
     "metadata": {},
     "output_type": "execute_result"
    },
    {
     "data": {
      "text/plain": [
       "<matplotlib.offsetbox.AnnotationBbox at 0x225f23d6490>"
      ]
     },
     "execution_count": 57,
     "metadata": {},
     "output_type": "execute_result"
    },
    {
     "data": {
      "text/plain": [
       "<matplotlib.offsetbox.AnnotationBbox at 0x225f22c3850>"
      ]
     },
     "execution_count": 57,
     "metadata": {},
     "output_type": "execute_result"
    },
    {
     "data": {
      "text/plain": [
       "<matplotlib.offsetbox.AnnotationBbox at 0x225f23e1390>"
      ]
     },
     "execution_count": 57,
     "metadata": {},
     "output_type": "execute_result"
    },
    {
     "data": {
      "text/plain": [
       "<matplotlib.offsetbox.AnnotationBbox at 0x225f2116890>"
      ]
     },
     "execution_count": 57,
     "metadata": {},
     "output_type": "execute_result"
    },
    {
     "data": {
      "text/plain": [
       "<matplotlib.offsetbox.AnnotationBbox at 0x225f2290050>"
      ]
     },
     "execution_count": 57,
     "metadata": {},
     "output_type": "execute_result"
    },
    {
     "data": {
      "text/plain": [
       "<matplotlib.offsetbox.AnnotationBbox at 0x225f2125c50>"
      ]
     },
     "execution_count": 57,
     "metadata": {},
     "output_type": "execute_result"
    },
    {
     "data": {
      "text/plain": [
       "<matplotlib.offsetbox.AnnotationBbox at 0x225f22f7290>"
      ]
     },
     "execution_count": 57,
     "metadata": {},
     "output_type": "execute_result"
    },
    {
     "data": {
      "text/plain": [
       "<matplotlib.offsetbox.AnnotationBbox at 0x225f20089d0>"
      ]
     },
     "execution_count": 57,
     "metadata": {},
     "output_type": "execute_result"
    },
    {
     "data": {
      "text/plain": [
       "<matplotlib.offsetbox.AnnotationBbox at 0x225f2138ed0>"
      ]
     },
     "execution_count": 57,
     "metadata": {},
     "output_type": "execute_result"
    },
    {
     "data": {
      "text/plain": [
       "<matplotlib.offsetbox.AnnotationBbox at 0x225f23fbb10>"
      ]
     },
     "execution_count": 57,
     "metadata": {},
     "output_type": "execute_result"
    },
    {
     "data": {
      "text/plain": [
       "<matplotlib.offsetbox.AnnotationBbox at 0x225f2375290>"
      ]
     },
     "execution_count": 57,
     "metadata": {},
     "output_type": "execute_result"
    },
    {
     "data": {
      "text/plain": [
       "<matplotlib.offsetbox.AnnotationBbox at 0x225f235ea10>"
      ]
     },
     "execution_count": 57,
     "metadata": {},
     "output_type": "execute_result"
    },
    {
     "data": {
      "text/plain": [
       "<matplotlib.offsetbox.AnnotationBbox at 0x225f23fc210>"
      ]
     },
     "execution_count": 57,
     "metadata": {},
     "output_type": "execute_result"
    },
    {
     "data": {
      "text/plain": [
       "<matplotlib.offsetbox.AnnotationBbox at 0x225f23fdb50>"
      ]
     },
     "execution_count": 57,
     "metadata": {},
     "output_type": "execute_result"
    },
    {
     "data": {
      "text/plain": [
       "<matplotlib.offsetbox.AnnotationBbox at 0x225f23ff210>"
      ]
     },
     "execution_count": 57,
     "metadata": {},
     "output_type": "execute_result"
    },
    {
     "data": {
      "text/plain": [
       "<matplotlib.offsetbox.AnnotationBbox at 0x225f240c9d0>"
      ]
     },
     "execution_count": 57,
     "metadata": {},
     "output_type": "execute_result"
    }
   ],
   "source": [
    "fig, ax = plt.subplots(dpi=150) #dpi for higher quality logo resolution\n",
    "\n",
    "KenPom.plot.scatter(x=\"AdjO\", \n",
    "                    y=\"AdjD\", \n",
    "                    ylabel=\"Adjusted Defensive Efficiency\", \n",
    "                    xlabel=\"Adjusted Offensive Efficiency\", \n",
    "                    title=\"March Madness KenPom Adjusted Efficiency Scatterplot\",\n",
    "                    ax=ax)\n",
    "\n",
    "ax.invert_yaxis() #we want better defensive efficiency to be higher on the chart (fewer points allowed)\n",
    "\n",
    "# Add average lines\n",
    "plt.hlines(KenPom[\"AdjD\"].mean(), KenPom[\"AdjO\"].min(), KenPom[\"AdjO\"].max(), color='#c2c1c0')\n",
    "plt.vlines(KenPom[\"AdjO\"].mean(), KenPom[\"AdjD\"].min(), KenPom[\"AdjD\"].max(), color='#c2c1c0')\n",
    "\n",
    "# Average line labels\n",
    "fig.text(.565,.735,'Avg AdjO', size=7, color='#575654',rotation=90)\n",
    "fig.text(.165,.525,'Avg AdjD', size=7, color='#575654')\n",
    "\n",
    "def getImage(path, zoom = 0.1):\n",
    "    return OffsetImage(plt.imread(path), zoom=zoom)\n",
    "\n",
    "#Annotate logos on data points in scatterplot\n",
    "for x, y, path in zip(KenPom[\"AdjO\"], KenPom[\"AdjD\"], KenPom[\"New Path\"]):\n",
    "    \n",
    "    ab = AnnotationBbox(getImage(path), (x, y), frameon=False)\n",
    "    ax.add_artist(ab)\n",
    "\n",
    "#Save figure\n",
    "fig.savefig(\"data/NCAATournament_KenPom_2024.pdf\")"
   ]
  },
  {
   "cell_type": "code",
   "execution_count": 63,
   "id": "1307adc1",
   "metadata": {},
   "outputs": [
    {
     "data": {
      "application/vnd.jupyter.widget-view+json": {
       "model_id": "fae07eaf61fe468cad0ff8baf38c93de",
       "version_major": 2,
       "version_minor": 0
      },
      "text/plain": [
       "interactive(children=(Dropdown(description='Conference', options=('BE', 'B12', 'B10', 'ACC', 'P12', 'SEC', 'WC…"
      ]
     },
     "metadata": {},
     "output_type": "display_data"
    }
   ],
   "source": [
    "#Interactive chart to filter by conference opponents\n",
    "@interact_manual\n",
    "\n",
    "def conference_scatter(Conference = list(KenPom.Conf.unique())): #list of conferences\n",
    "    \n",
    "    data = KenPom[KenPom.Conf == Conference] #KenPom data is filtered using list input\n",
    "    \n",
    "    fig, ax = plt.subplots(dpi=150) #dpi for higher quality logo resolution\n",
    "    \n",
    "    data.plot.scatter(x=\"AdjO\",y=\"AdjD\", \n",
    "                      ylabel=\"Adjusted Defensive Efficiency\", \n",
    "                      xlabel=\"Adjusted Offensive Efficiency\",\n",
    "                      title=f\"KenPom Adjusted Efficiency Scatterplot: {Conference}\", #allow title to be changed accordingly\n",
    "                      ax=ax).invert_yaxis()\n",
    "\n",
    "    # Add average lines\n",
    "    plt.hlines(KenPom[\"AdjD\"].mean(), KenPom[\"AdjO\"].min(), KenPom[\"AdjO\"].max(), color='#c2c1c0')\n",
    "    plt.vlines(KenPom[\"AdjO\"].mean(), KenPom[\"AdjD\"].min(), KenPom[\"AdjD\"].max(), color='#c2c1c0')\n",
    "\n",
    "    # Average line labels\n",
    "    fig.text(.560,.705,'Avg AdjO', size=9, color='#575654',rotation=90)\n",
    "    fig.text(.165,.525,'Avg AdjD', size=9, color='#575654')\n",
    "    \n",
    "    #Annotate logos on data points in scatterplot\n",
    "    for x, y, path in zip(data[\"AdjO\"], data[\"AdjD\"], data[\"New Path\"]):\n",
    "    \n",
    "        ab = AnnotationBbox(getImage(path), (x, y), frameon=False)\n",
    "        ax.add_artist(ab)"
   ]
  },
  {
   "cell_type": "code",
   "execution_count": 64,
   "id": "026cb1ea",
   "metadata": {},
   "outputs": [
    {
     "data": {
      "application/vnd.jupyter.widget-view+json": {
       "model_id": "a8f468f3333a4aadaa5a022d57a9231a",
       "version_major": 2,
       "version_minor": 0
      },
      "text/plain": [
       "interactive(children=(Dropdown(description='Conference', options=('BE', 'B12', 'B10', 'ACC', 'P12', 'SEC', 'WC…"
      ]
     },
     "metadata": {},
     "output_type": "display_data"
    }
   ],
   "source": [
    "#See values at a quick glance for reference to chart above\n",
    "@interact\n",
    "def conference_select(Conference = list(KenPom.Conf.unique())):\n",
    "    return(KenPom[KenPom.Conf == Conference][[\"Team Mascot\", \"W-L\",\"AdjEM\",\"AdjO\",\"AdjD\",\"AdjTempo\",\"Luck\"]])"
   ]
  },
  {
   "cell_type": "code",
   "execution_count": 67,
   "id": "80d857f5",
   "metadata": {},
   "outputs": [
    {
     "data": {
      "application/vnd.jupyter.widget-view+json": {
       "model_id": "1d8e04474ff2434cb7e85cc74d789a89",
       "version_major": 2,
       "version_minor": 0
      },
      "text/plain": [
       "interactive(children=(Dropdown(description='Efficiency', options=('AdjEM', 'AdjO', 'AdjD'), value='AdjEM'), Dr…"
      ]
     },
     "metadata": {},
     "output_type": "display_data"
    }
   ],
   "source": [
    "@interact_manual\n",
    "\n",
    "def tempo_conf_scatter(Efficiency = [\"AdjEM\", \"AdjO\", \"AdjD\"], \n",
    "                  Conference = list(KenPom.Conf.unique())):\n",
    "    \n",
    "    data = KenPom[KenPom.Conf == Conference]\n",
    "    \n",
    "    fig, ax = plt.subplots(dpi=150)\n",
    "    \n",
    "    if f\"{Efficiency}\" == \"AdjEM\": \n",
    "        ylabel = \"Adjusted Efficiency Margin\"\n",
    "    elif f\"{Efficiency}\" == \"AdjD\":\n",
    "        ylabel = \"Adjusted Defensive Efficiency\"\n",
    "    else:\n",
    "        ylabel = \"Adjusted Offensive Efficiency\"\n",
    "    \n",
    "    data.plot.scatter(x=\"AdjTempo\",y=f\"{Efficiency}\", \n",
    "                      ylabel= ylabel, \n",
    "                      xlabel=\"Adjusted Tempo\",\n",
    "                      title=f\"KenPom Adjusted Efficiency vs Tempo Scatterplot: {Conference}\",\n",
    "                      ax=ax)\n",
    "    \n",
    "    #Invert y-axis if defensive efficiency is selected\n",
    "    if f\"{Efficiency}\" == \"AdjD\":\n",
    "        ax.invert_yaxis()\n",
    "    else: None\n",
    "\n",
    "    for x, y, path in zip(data[\"AdjTempo\"], data[f\"{Efficiency}\"], data[\"New Path\"]):\n",
    "    \n",
    "        ab = AnnotationBbox(getImage(path), (x, y), frameon=False)\n",
    "        ax.add_artist(ab)"
   ]
  },
  {
   "cell_type": "code",
   "execution_count": 71,
   "id": "a19d5397",
   "metadata": {},
   "outputs": [
    {
     "data": {
      "application/vnd.jupyter.widget-view+json": {
       "model_id": "6ea41d504c79444399594630be9d1fa9",
       "version_major": 2,
       "version_minor": 0
      },
      "text/plain": [
       "interactive(children=(Dropdown(description='Seed', options=('\\xa01', '\\xa02', '\\xa03', '\\xa04', '\\xa05', '\\xa0…"
      ]
     },
     "metadata": {},
     "output_type": "display_data"
    }
   ],
   "source": [
    "@interact_manual\n",
    "\n",
    "def seed_scatter(Seed = list(KenPom.Seed.unique())): #list of conferences\n",
    "    \n",
    "    data = KenPom[KenPom.Seed == Seed] #KenPom data is filtered using list input\n",
    "    \n",
    "    fig, ax = plt.subplots(dpi=150) #dpi for higher quality logo resolution\n",
    "    \n",
    "    data.plot.scatter(x=\"AdjO\",y=\"AdjD\", \n",
    "                      ylabel=\"Adjusted Defensive Efficiency\", \n",
    "                      xlabel=\"Adjusted Offensive Efficiency\",\n",
    "                      title=f\"KenPom Adjusted Efficiency Scatterplot: {Seed} Seeds\", #allow title to be changed accordingly\n",
    "                      ax=ax).invert_yaxis()\n",
    "\n",
    "    # Add average lines\n",
    "    plt.hlines(KenPom[\"AdjD\"].mean(), KenPom[\"AdjO\"].min(), KenPom[\"AdjO\"].max(), color='#c2c1c0')\n",
    "    plt.vlines(KenPom[\"AdjO\"].mean(), KenPom[\"AdjD\"].min(), KenPom[\"AdjD\"].max(), color='#c2c1c0')\n",
    "\n",
    "    # Average line labels\n",
    "    fig.text(.560,.705,'Avg AdjO', size=9, color='#575654',rotation=90)\n",
    "    fig.text(.165,.525,'Avg AdjD', size=9, color='#575654')\n",
    "    \n",
    "    #Annotate logos on data points in scatterplot\n",
    "    for x, y, path in zip(data[\"AdjO\"], data[\"AdjD\"], data[\"New Path\"]):\n",
    "    \n",
    "        ab = AnnotationBbox(getImage(path), (x, y), frameon=False)\n",
    "        ax.add_artist(ab)"
   ]
  },
  {
   "cell_type": "code",
   "execution_count": 70,
   "id": "bbdf419c",
   "metadata": {},
   "outputs": [
    {
     "data": {
      "application/vnd.jupyter.widget-view+json": {
       "model_id": "bf9c5ea1aa1b465ca74723c45b8588b8",
       "version_major": 2,
       "version_minor": 0
      },
      "text/plain": [
       "interactive(children=(Dropdown(description='Efficiency', options=('AdjEM', 'AdjO', 'AdjD'), value='AdjEM'), Dr…"
      ]
     },
     "metadata": {},
     "output_type": "display_data"
    }
   ],
   "source": [
    "@interact_manual\n",
    "\n",
    "def tempo_seed_scatter(Efficiency = [\"AdjEM\", \"AdjO\", \"AdjD\"], \n",
    "                  Seed = list(KenPom.Seed.unique())):\n",
    "    \n",
    "    data = KenPom[KenPom.Seed == Seed]\n",
    "    \n",
    "    fig, ax = plt.subplots(dpi=150)\n",
    "    \n",
    "    if f\"{Efficiency}\" == \"AdjEM\": \n",
    "        ylabel = \"Adjusted Efficiency Margin\"\n",
    "    elif f\"{Efficiency}\" == \"AdjD\":\n",
    "        ylabel = \"Adjusted Defensive Efficiency\"\n",
    "    else:\n",
    "        ylabel = \"Adjusted Offensive Efficiency\"\n",
    "    \n",
    "    data.plot.scatter(x=\"AdjTempo\",y=f\"{Efficiency}\", \n",
    "                      ylabel= ylabel, \n",
    "                      xlabel=\"Adjusted Tempo\",\n",
    "                      title=f\"KenPom Adjusted Efficiency vs Tempo Scatterplot: {Seed} Seeds\",\n",
    "                      ax=ax)\n",
    "    \n",
    "    #Invert y-axis if defensive efficiency is selected\n",
    "    if f\"{Efficiency}\" == \"AdjD\":\n",
    "        ax.invert_yaxis()\n",
    "    else: None\n",
    "\n",
    "    for x, y, path in zip(data[\"AdjTempo\"], data[f\"{Efficiency}\"], data[\"New Path\"]):\n",
    "    \n",
    "        ab = AnnotationBbox(getImage(path), (x, y), frameon=False)\n",
    "        ax.add_artist(ab)"
   ]
  },
  {
   "cell_type": "code",
   "execution_count": null,
   "id": "023b3389",
   "metadata": {},
   "outputs": [],
   "source": []
  }
 ],
 "metadata": {
  "kernelspec": {
   "display_name": "Python 3 (ipykernel)",
   "language": "python",
   "name": "python3"
  },
  "language_info": {
   "codemirror_mode": {
    "name": "ipython",
    "version": 3
   },
   "file_extension": ".py",
   "mimetype": "text/x-python",
   "name": "python",
   "nbconvert_exporter": "python",
   "pygments_lexer": "ipython3",
   "version": "3.11.5"
  }
 },
 "nbformat": 4,
 "nbformat_minor": 5
}

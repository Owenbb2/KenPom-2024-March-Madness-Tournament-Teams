{
 "cells": [
  {
   "cell_type": "code",
   "execution_count": 1,
   "id": "39df0622",
   "metadata": {},
   "outputs": [],
   "source": [
    "#Allow output from every line and import necessary packages\n",
    "from IPython.core.interactiveshell import InteractiveShell\n",
    "InteractiveShell.ast_node_interactivity = \"all\"\n",
    "import numpy as np\n",
    "import pandas as pd\n",
    "import matplotlib.pyplot as plt\n",
    "%matplotlib notebook\n",
    "import seaborn as sns\n",
    "from matplotlib.offsetbox import OffsetImage, AnnotationBbox\n",
    "import PIL\n",
    "import ipywidgets as widgets\n",
    "from ipywidgets import interact, interact_manual"
   ]
  },
  {
   "cell_type": "code",
   "execution_count": 2,
   "id": "836ae6cd",
   "metadata": {
    "scrolled": true
   },
   "outputs": [
    {
     "data": {
      "text/html": [
       "<div>\n",
       "<style scoped>\n",
       "    .dataframe tbody tr th:only-of-type {\n",
       "        vertical-align: middle;\n",
       "    }\n",
       "\n",
       "    .dataframe tbody tr th {\n",
       "        vertical-align: top;\n",
       "    }\n",
       "\n",
       "    .dataframe thead th {\n",
       "        text-align: right;\n",
       "    }\n",
       "</style>\n",
       "<table border=\"1\" class=\"dataframe\">\n",
       "  <thead>\n",
       "    <tr style=\"text-align: right;\">\n",
       "      <th></th>\n",
       "      <th>Team</th>\n",
       "      <th>Region</th>\n",
       "      <th>Seed</th>\n",
       "      <th>Conf</th>\n",
       "      <th>W-L</th>\n",
       "      <th>AdjEM</th>\n",
       "      <th>AdjEM Rank</th>\n",
       "      <th>AdjO</th>\n",
       "      <th>AdjO Rank</th>\n",
       "      <th>AdjD</th>\n",
       "      <th>AdjD Rank</th>\n",
       "      <th>AdjTempo</th>\n",
       "      <th>AdjT Rank</th>\n",
       "      <th>Luck</th>\n",
       "      <th>Luck Rank</th>\n",
       "    </tr>\n",
       "  </thead>\n",
       "  <tbody>\n",
       "    <tr>\n",
       "      <th>0</th>\n",
       "      <td>Connecticut</td>\n",
       "      <td>East</td>\n",
       "      <td>1</td>\n",
       "      <td>BE</td>\n",
       "      <td>31-3</td>\n",
       "      <td>32.21</td>\n",
       "      <td>1</td>\n",
       "      <td>126.6</td>\n",
       "      <td>1</td>\n",
       "      <td>94.4</td>\n",
       "      <td>11</td>\n",
       "      <td>64.5</td>\n",
       "      <td>329</td>\n",
       "      <td>0.047</td>\n",
       "      <td>70</td>\n",
       "    </tr>\n",
       "    <tr>\n",
       "      <th>1</th>\n",
       "      <td>Houston</td>\n",
       "      <td>South</td>\n",
       "      <td>1</td>\n",
       "      <td>B12</td>\n",
       "      <td>30-4</td>\n",
       "      <td>31.72</td>\n",
       "      <td>2</td>\n",
       "      <td>118.9</td>\n",
       "      <td>17</td>\n",
       "      <td>87.1</td>\n",
       "      <td>2</td>\n",
       "      <td>63.3</td>\n",
       "      <td>348</td>\n",
       "      <td>0.053</td>\n",
       "      <td>61</td>\n",
       "    </tr>\n",
       "    <tr>\n",
       "      <th>2</th>\n",
       "      <td>Purdue</td>\n",
       "      <td>Midwest</td>\n",
       "      <td>1</td>\n",
       "      <td>B10</td>\n",
       "      <td>29-4</td>\n",
       "      <td>29.12</td>\n",
       "      <td>3</td>\n",
       "      <td>125.0</td>\n",
       "      <td>4</td>\n",
       "      <td>95.9</td>\n",
       "      <td>21</td>\n",
       "      <td>67.4</td>\n",
       "      <td>175</td>\n",
       "      <td>0.045</td>\n",
       "      <td>75</td>\n",
       "    </tr>\n",
       "    <tr>\n",
       "      <th>3</th>\n",
       "      <td>Auburn</td>\n",
       "      <td>East</td>\n",
       "      <td>4</td>\n",
       "      <td>SEC</td>\n",
       "      <td>27-7</td>\n",
       "      <td>28.90</td>\n",
       "      <td>4</td>\n",
       "      <td>120.6</td>\n",
       "      <td>10</td>\n",
       "      <td>91.7</td>\n",
       "      <td>4</td>\n",
       "      <td>69.8</td>\n",
       "      <td>58</td>\n",
       "      <td>-0.067</td>\n",
       "      <td>324</td>\n",
       "    </tr>\n",
       "    <tr>\n",
       "      <th>4</th>\n",
       "      <td>Iowa St.</td>\n",
       "      <td>East</td>\n",
       "      <td>2</td>\n",
       "      <td>B12</td>\n",
       "      <td>27-7</td>\n",
       "      <td>26.72</td>\n",
       "      <td>5</td>\n",
       "      <td>113.9</td>\n",
       "      <td>55</td>\n",
       "      <td>87.1</td>\n",
       "      <td>1</td>\n",
       "      <td>67.3</td>\n",
       "      <td>179</td>\n",
       "      <td>0.012</td>\n",
       "      <td>155</td>\n",
       "    </tr>\n",
       "    <tr>\n",
       "      <th>...</th>\n",
       "      <td>...</td>\n",
       "      <td>...</td>\n",
       "      <td>...</td>\n",
       "      <td>...</td>\n",
       "      <td>...</td>\n",
       "      <td>...</td>\n",
       "      <td>...</td>\n",
       "      <td>...</td>\n",
       "      <td>...</td>\n",
       "      <td>...</td>\n",
       "      <td>...</td>\n",
       "      <td>...</td>\n",
       "      <td>...</td>\n",
       "      <td>...</td>\n",
       "      <td>...</td>\n",
       "    </tr>\n",
       "    <tr>\n",
       "      <th>63</th>\n",
       "      <td>Montana St.</td>\n",
       "      <td>Midwest</td>\n",
       "      <td>16</td>\n",
       "      <td>BSky</td>\n",
       "      <td>17-17</td>\n",
       "      <td>-3.90</td>\n",
       "      <td>213</td>\n",
       "      <td>103.3</td>\n",
       "      <td>234</td>\n",
       "      <td>107.2</td>\n",
       "      <td>198</td>\n",
       "      <td>68.8</td>\n",
       "      <td>96</td>\n",
       "      <td>0.000</td>\n",
       "      <td>184</td>\n",
       "    </tr>\n",
       "    <tr>\n",
       "      <th>64</th>\n",
       "      <td>Stetson</td>\n",
       "      <td>East</td>\n",
       "      <td>16</td>\n",
       "      <td>ASun</td>\n",
       "      <td>22-12</td>\n",
       "      <td>-4.10</td>\n",
       "      <td>218</td>\n",
       "      <td>110.3</td>\n",
       "      <td>100</td>\n",
       "      <td>114.4</td>\n",
       "      <td>342</td>\n",
       "      <td>66.2</td>\n",
       "      <td>257</td>\n",
       "      <td>0.137</td>\n",
       "      <td>6</td>\n",
       "    </tr>\n",
       "    <tr>\n",
       "      <th>65</th>\n",
       "      <td>Grambling St.</td>\n",
       "      <td>Midwest</td>\n",
       "      <td>16</td>\n",
       "      <td>SWAC</td>\n",
       "      <td>20-14</td>\n",
       "      <td>-7.81</td>\n",
       "      <td>267</td>\n",
       "      <td>99.3</td>\n",
       "      <td>297</td>\n",
       "      <td>107.1</td>\n",
       "      <td>197</td>\n",
       "      <td>64.8</td>\n",
       "      <td>314</td>\n",
       "      <td>0.131</td>\n",
       "      <td>8</td>\n",
       "    </tr>\n",
       "    <tr>\n",
       "      <th>66</th>\n",
       "      <td>Howard</td>\n",
       "      <td>West</td>\n",
       "      <td>16</td>\n",
       "      <td>MEAC</td>\n",
       "      <td>18-16</td>\n",
       "      <td>-8.26</td>\n",
       "      <td>276</td>\n",
       "      <td>105.5</td>\n",
       "      <td>192</td>\n",
       "      <td>113.8</td>\n",
       "      <td>334</td>\n",
       "      <td>67.5</td>\n",
       "      <td>163</td>\n",
       "      <td>0.023</td>\n",
       "      <td>119</td>\n",
       "    </tr>\n",
       "    <tr>\n",
       "      <th>67</th>\n",
       "      <td>Wagner</td>\n",
       "      <td>West</td>\n",
       "      <td>16</td>\n",
       "      <td>NEC</td>\n",
       "      <td>16-15</td>\n",
       "      <td>-10.09</td>\n",
       "      <td>293</td>\n",
       "      <td>95.8</td>\n",
       "      <td>334</td>\n",
       "      <td>105.9</td>\n",
       "      <td>171</td>\n",
       "      <td>61.3</td>\n",
       "      <td>361</td>\n",
       "      <td>0.022</td>\n",
       "      <td>122</td>\n",
       "    </tr>\n",
       "  </tbody>\n",
       "</table>\n",
       "<p>68 rows × 15 columns</p>\n",
       "</div>"
      ],
      "text/plain": [
       "              Team   Region Seed  Conf    W-L  AdjEM  AdjEM Rank   AdjO  \\\n",
       "0      Connecticut     East    1    BE   31-3  32.21           1  126.6   \n",
       "1          Houston    South    1   B12   30-4  31.72           2  118.9   \n",
       "2           Purdue  Midwest    1   B10   29-4  29.12           3  125.0   \n",
       "3           Auburn     East    4   SEC   27-7  28.90           4  120.6   \n",
       "4         Iowa St.     East    2   B12   27-7  26.72           5  113.9   \n",
       "..             ...      ...  ...   ...    ...    ...         ...    ...   \n",
       "63    Montana St.   Midwest   16  BSky  17-17  -3.90         213  103.3   \n",
       "64        Stetson      East   16  ASun  22-12  -4.10         218  110.3   \n",
       "65  Grambling St.   Midwest   16  SWAC  20-14  -7.81         267   99.3   \n",
       "66         Howard      West   16  MEAC  18-16  -8.26         276  105.5   \n",
       "67         Wagner      West   16   NEC  16-15 -10.09         293   95.8   \n",
       "\n",
       "    AdjO Rank   AdjD  AdjD Rank  AdjTempo  AdjT Rank   Luck  Luck Rank  \n",
       "0           1   94.4         11      64.5        329  0.047         70  \n",
       "1          17   87.1          2      63.3        348  0.053         61  \n",
       "2           4   95.9         21      67.4        175  0.045         75  \n",
       "3          10   91.7          4      69.8         58 -0.067        324  \n",
       "4          55   87.1          1      67.3        179  0.012        155  \n",
       "..        ...    ...        ...       ...        ...    ...        ...  \n",
       "63        234  107.2        198      68.8         96  0.000        184  \n",
       "64        100  114.4        342      66.2        257  0.137          6  \n",
       "65        297  107.1        197      64.8        314  0.131          8  \n",
       "66        192  113.8        334      67.5        163  0.023        119  \n",
       "67        334  105.9        171      61.3        361  0.022        122  \n",
       "\n",
       "[68 rows x 15 columns]"
      ]
     },
     "execution_count": 2,
     "metadata": {},
     "output_type": "execute_result"
    }
   ],
   "source": [
    "#Read NCAA college basketball efficiency and tempo data from KenPom\n",
    "KenPom = pd.read_csv(\"data/KenPomTournamentTeams_2024.csv\")\n",
    "KenPom = KenPom.rename(columns = {\"Rk\":\"AdjEM Rank\"})\n",
    "KenPom = KenPom.iloc[:,[1,2,3,4,5,6,0,7,8,9,10,11,12,13,14]]\n",
    "KenPom\n",
    "#AdjEM = Adjusted Efficiency margin\n",
    "#AdjO = Adjusted Offensive Efficiency (points scored per 100 possessions, weighted by opponent)\n",
    "#AdjD = Adjusted Defensive Efficiency (points allowed per 100 possessions, weighted by opponent)"
   ]
  },
  {
   "cell_type": "code",
   "execution_count": 3,
   "id": "0fbfe413",
   "metadata": {},
   "outputs": [
    {
     "data": {
      "text/plain": [
       "['https://www.sportslogos.net/teams/list_by_league/30/NCAA_Division_I_a-c/NCAA_a-c/logos/',\n",
       " 'https://www.sportslogos.net/teams/list_by_league/31/NCAA_Division_I_d-h/NCAA_d-h/logos/',\n",
       " 'https://www.sportslogos.net/teams/list_by_league/32/NCAA_Division_I_i-m/NCAA_i-m/logos/',\n",
       " 'https://www.sportslogos.net/teams/list_by_league/33/NCAA_Division_I_n-r/NCAA_n-r/logos/',\n",
       " 'https://www.sportslogos.net/teams/list_by_league/34/NCAA_Division_I_s-t/NCAA_s-t/logos/',\n",
       " 'https://www.sportslogos.net/teams/list_by_league/35/NCAA_Division_I_u-z/NCAA_u-z/logos/']"
      ]
     },
     "execution_count": 3,
     "metadata": {},
     "output_type": "execute_result"
    }
   ],
   "source": [
    "#Copy urls from sportslogos.net into an iterable list\n",
    "urls = ['https://www.sportslogos.net/teams/list_by_league/30/NCAA_Division_I_a-c/NCAA_a-c/logos/',\n",
    "        'https://www.sportslogos.net/teams/list_by_league/31/NCAA_Division_I_d-h/NCAA_d-h/logos/',\n",
    "        'https://www.sportslogos.net/teams/list_by_league/32/NCAA_Division_I_i-m/NCAA_i-m/logos/',\n",
    "        'https://www.sportslogos.net/teams/list_by_league/33/NCAA_Division_I_n-r/NCAA_n-r/logos/',\n",
    "        'https://www.sportslogos.net/teams/list_by_league/34/NCAA_Division_I_s-t/NCAA_s-t/logos/',\n",
    "        'https://www.sportslogos.net/teams/list_by_league/35/NCAA_Division_I_u-z/NCAA_u-z/logos/']\n",
    "urls"
   ]
  },
  {
   "cell_type": "code",
   "execution_count": 4,
   "id": "5f7322a4",
   "metadata": {},
   "outputs": [],
   "source": [
    "import requests \n",
    "from bs4 import BeautifulSoup\n",
    "\n",
    "#Initialize empty lists for team logo image addresses and team names\n",
    "team_logos = []\n",
    "team_names = []\n",
    "\n",
    "#Define function to return html data to be used for Beautiful Soup html parser\n",
    "def getdata(url): \n",
    "    r = requests.get(url) \n",
    "    return r.text\n",
    "\n",
    "#Iterate through urls and image items in html data and append to corresponding empty list\n",
    "for url in urls:\n",
    "    htmldata = getdata(url) \n",
    "    soup = BeautifulSoup(htmldata, 'html.parser')\n",
    "    \n",
    "    for item in soup.find_all('img'):\n",
    "        team_logos.append(item['src'])\n",
    "        team_names.append(item.next_element)"
   ]
  },
  {
   "cell_type": "code",
   "execution_count": 5,
   "id": "dc99c30b",
   "metadata": {},
   "outputs": [
    {
     "data": {
      "text/plain": [
       "406"
      ]
     },
     "execution_count": 5,
     "metadata": {},
     "output_type": "execute_result"
    },
    {
     "data": {
      "text/plain": [
       "406"
      ]
     },
     "execution_count": 5,
     "metadata": {},
     "output_type": "execute_result"
    },
    {
     "data": {
      "text/html": [
       "<div>\n",
       "<style scoped>\n",
       "    .dataframe tbody tr th:only-of-type {\n",
       "        vertical-align: middle;\n",
       "    }\n",
       "\n",
       "    .dataframe tbody tr th {\n",
       "        vertical-align: top;\n",
       "    }\n",
       "\n",
       "    .dataframe thead th {\n",
       "        text-align: right;\n",
       "    }\n",
       "</style>\n",
       "<table border=\"1\" class=\"dataframe\">\n",
       "  <thead>\n",
       "    <tr style=\"text-align: right;\">\n",
       "      <th></th>\n",
       "      <th>Team</th>\n",
       "      <th>Region</th>\n",
       "      <th>Seed</th>\n",
       "      <th>Conf</th>\n",
       "      <th>W-L</th>\n",
       "      <th>AdjEM</th>\n",
       "      <th>AdjEM Rank</th>\n",
       "      <th>AdjO</th>\n",
       "      <th>AdjO Rank</th>\n",
       "      <th>AdjD</th>\n",
       "      <th>AdjD Rank</th>\n",
       "      <th>AdjTempo</th>\n",
       "      <th>AdjT Rank</th>\n",
       "      <th>Luck</th>\n",
       "      <th>Luck Rank</th>\n",
       "      <th>Team Mascot</th>\n",
       "    </tr>\n",
       "  </thead>\n",
       "  <tbody>\n",
       "    <tr>\n",
       "      <th>0</th>\n",
       "      <td>Connecticut</td>\n",
       "      <td>East</td>\n",
       "      <td>1</td>\n",
       "      <td>BE</td>\n",
       "      <td>31-3</td>\n",
       "      <td>32.21</td>\n",
       "      <td>1</td>\n",
       "      <td>126.6</td>\n",
       "      <td>1</td>\n",
       "      <td>94.4</td>\n",
       "      <td>11</td>\n",
       "      <td>64.5</td>\n",
       "      <td>329</td>\n",
       "      <td>0.047</td>\n",
       "      <td>70</td>\n",
       "      <td>UConn Huskies</td>\n",
       "    </tr>\n",
       "    <tr>\n",
       "      <th>1</th>\n",
       "      <td>Houston</td>\n",
       "      <td>South</td>\n",
       "      <td>1</td>\n",
       "      <td>B12</td>\n",
       "      <td>30-4</td>\n",
       "      <td>31.72</td>\n",
       "      <td>2</td>\n",
       "      <td>118.9</td>\n",
       "      <td>17</td>\n",
       "      <td>87.1</td>\n",
       "      <td>2</td>\n",
       "      <td>63.3</td>\n",
       "      <td>348</td>\n",
       "      <td>0.053</td>\n",
       "      <td>61</td>\n",
       "      <td>Houston Cougars</td>\n",
       "    </tr>\n",
       "    <tr>\n",
       "      <th>2</th>\n",
       "      <td>Purdue</td>\n",
       "      <td>Midwest</td>\n",
       "      <td>1</td>\n",
       "      <td>B10</td>\n",
       "      <td>29-4</td>\n",
       "      <td>29.12</td>\n",
       "      <td>3</td>\n",
       "      <td>125.0</td>\n",
       "      <td>4</td>\n",
       "      <td>95.9</td>\n",
       "      <td>21</td>\n",
       "      <td>67.4</td>\n",
       "      <td>175</td>\n",
       "      <td>0.045</td>\n",
       "      <td>75</td>\n",
       "      <td>Purdue Boilermakers</td>\n",
       "    </tr>\n",
       "    <tr>\n",
       "      <th>3</th>\n",
       "      <td>Auburn</td>\n",
       "      <td>East</td>\n",
       "      <td>4</td>\n",
       "      <td>SEC</td>\n",
       "      <td>27-7</td>\n",
       "      <td>28.90</td>\n",
       "      <td>4</td>\n",
       "      <td>120.6</td>\n",
       "      <td>10</td>\n",
       "      <td>91.7</td>\n",
       "      <td>4</td>\n",
       "      <td>69.8</td>\n",
       "      <td>58</td>\n",
       "      <td>-0.067</td>\n",
       "      <td>324</td>\n",
       "      <td>Auburn Tigers</td>\n",
       "    </tr>\n",
       "    <tr>\n",
       "      <th>4</th>\n",
       "      <td>Iowa St.</td>\n",
       "      <td>East</td>\n",
       "      <td>2</td>\n",
       "      <td>B12</td>\n",
       "      <td>27-7</td>\n",
       "      <td>26.72</td>\n",
       "      <td>5</td>\n",
       "      <td>113.9</td>\n",
       "      <td>55</td>\n",
       "      <td>87.1</td>\n",
       "      <td>1</td>\n",
       "      <td>67.3</td>\n",
       "      <td>179</td>\n",
       "      <td>0.012</td>\n",
       "      <td>155</td>\n",
       "      <td>Iowa State Cyclones</td>\n",
       "    </tr>\n",
       "    <tr>\n",
       "      <th>...</th>\n",
       "      <td>...</td>\n",
       "      <td>...</td>\n",
       "      <td>...</td>\n",
       "      <td>...</td>\n",
       "      <td>...</td>\n",
       "      <td>...</td>\n",
       "      <td>...</td>\n",
       "      <td>...</td>\n",
       "      <td>...</td>\n",
       "      <td>...</td>\n",
       "      <td>...</td>\n",
       "      <td>...</td>\n",
       "      <td>...</td>\n",
       "      <td>...</td>\n",
       "      <td>...</td>\n",
       "      <td>...</td>\n",
       "    </tr>\n",
       "    <tr>\n",
       "      <th>63</th>\n",
       "      <td>Montana St.</td>\n",
       "      <td>Midwest</td>\n",
       "      <td>16</td>\n",
       "      <td>BSky</td>\n",
       "      <td>17-17</td>\n",
       "      <td>-3.90</td>\n",
       "      <td>213</td>\n",
       "      <td>103.3</td>\n",
       "      <td>234</td>\n",
       "      <td>107.2</td>\n",
       "      <td>198</td>\n",
       "      <td>68.8</td>\n",
       "      <td>96</td>\n",
       "      <td>0.000</td>\n",
       "      <td>184</td>\n",
       "      <td>Montana State Bobcats</td>\n",
       "    </tr>\n",
       "    <tr>\n",
       "      <th>64</th>\n",
       "      <td>Stetson</td>\n",
       "      <td>East</td>\n",
       "      <td>16</td>\n",
       "      <td>ASun</td>\n",
       "      <td>22-12</td>\n",
       "      <td>-4.10</td>\n",
       "      <td>218</td>\n",
       "      <td>110.3</td>\n",
       "      <td>100</td>\n",
       "      <td>114.4</td>\n",
       "      <td>342</td>\n",
       "      <td>66.2</td>\n",
       "      <td>257</td>\n",
       "      <td>0.137</td>\n",
       "      <td>6</td>\n",
       "      <td>Stetson Hatters</td>\n",
       "    </tr>\n",
       "    <tr>\n",
       "      <th>65</th>\n",
       "      <td>Grambling St.</td>\n",
       "      <td>Midwest</td>\n",
       "      <td>16</td>\n",
       "      <td>SWAC</td>\n",
       "      <td>20-14</td>\n",
       "      <td>-7.81</td>\n",
       "      <td>267</td>\n",
       "      <td>99.3</td>\n",
       "      <td>297</td>\n",
       "      <td>107.1</td>\n",
       "      <td>197</td>\n",
       "      <td>64.8</td>\n",
       "      <td>314</td>\n",
       "      <td>0.131</td>\n",
       "      <td>8</td>\n",
       "      <td>Grambling State Tigers</td>\n",
       "    </tr>\n",
       "    <tr>\n",
       "      <th>66</th>\n",
       "      <td>Howard</td>\n",
       "      <td>West</td>\n",
       "      <td>16</td>\n",
       "      <td>MEAC</td>\n",
       "      <td>18-16</td>\n",
       "      <td>-8.26</td>\n",
       "      <td>276</td>\n",
       "      <td>105.5</td>\n",
       "      <td>192</td>\n",
       "      <td>113.8</td>\n",
       "      <td>334</td>\n",
       "      <td>67.5</td>\n",
       "      <td>163</td>\n",
       "      <td>0.023</td>\n",
       "      <td>119</td>\n",
       "      <td>Howard Bison</td>\n",
       "    </tr>\n",
       "    <tr>\n",
       "      <th>67</th>\n",
       "      <td>Wagner</td>\n",
       "      <td>West</td>\n",
       "      <td>16</td>\n",
       "      <td>NEC</td>\n",
       "      <td>16-15</td>\n",
       "      <td>-10.09</td>\n",
       "      <td>293</td>\n",
       "      <td>95.8</td>\n",
       "      <td>334</td>\n",
       "      <td>105.9</td>\n",
       "      <td>171</td>\n",
       "      <td>61.3</td>\n",
       "      <td>361</td>\n",
       "      <td>0.022</td>\n",
       "      <td>122</td>\n",
       "      <td>Wagner Seahawks</td>\n",
       "    </tr>\n",
       "  </tbody>\n",
       "</table>\n",
       "<p>68 rows × 16 columns</p>\n",
       "</div>"
      ],
      "text/plain": [
       "              Team   Region Seed  Conf    W-L  AdjEM  AdjEM Rank   AdjO  \\\n",
       "0      Connecticut     East    1    BE   31-3  32.21           1  126.6   \n",
       "1          Houston    South    1   B12   30-4  31.72           2  118.9   \n",
       "2           Purdue  Midwest    1   B10   29-4  29.12           3  125.0   \n",
       "3           Auburn     East    4   SEC   27-7  28.90           4  120.6   \n",
       "4         Iowa St.     East    2   B12   27-7  26.72           5  113.9   \n",
       "..             ...      ...  ...   ...    ...    ...         ...    ...   \n",
       "63    Montana St.   Midwest   16  BSky  17-17  -3.90         213  103.3   \n",
       "64        Stetson      East   16  ASun  22-12  -4.10         218  110.3   \n",
       "65  Grambling St.   Midwest   16  SWAC  20-14  -7.81         267   99.3   \n",
       "66         Howard      West   16  MEAC  18-16  -8.26         276  105.5   \n",
       "67         Wagner      West   16   NEC  16-15 -10.09         293   95.8   \n",
       "\n",
       "    AdjO Rank   AdjD  AdjD Rank  AdjTempo  AdjT Rank   Luck  Luck Rank  \\\n",
       "0           1   94.4         11      64.5        329  0.047         70   \n",
       "1          17   87.1          2      63.3        348  0.053         61   \n",
       "2           4   95.9         21      67.4        175  0.045         75   \n",
       "3          10   91.7          4      69.8         58 -0.067        324   \n",
       "4          55   87.1          1      67.3        179  0.012        155   \n",
       "..        ...    ...        ...       ...        ...    ...        ...   \n",
       "63        234  107.2        198      68.8         96  0.000        184   \n",
       "64        100  114.4        342      66.2        257  0.137          6   \n",
       "65        297  107.1        197      64.8        314  0.131          8   \n",
       "66        192  113.8        334      67.5        163  0.023        119   \n",
       "67        334  105.9        171      61.3        361  0.022        122   \n",
       "\n",
       "               Team Mascot  \n",
       "0            UConn Huskies  \n",
       "1          Houston Cougars  \n",
       "2      Purdue Boilermakers  \n",
       "3            Auburn Tigers  \n",
       "4      Iowa State Cyclones  \n",
       "..                     ...  \n",
       "63   Montana State Bobcats  \n",
       "64         Stetson Hatters  \n",
       "65  Grambling State Tigers  \n",
       "66            Howard Bison  \n",
       "67         Wagner Seahawks  \n",
       "\n",
       "[68 rows x 16 columns]"
      ]
     },
     "execution_count": 5,
     "metadata": {},
     "output_type": "execute_result"
    }
   ],
   "source": [
    "#List comprehension for only gif types (we want only the team logos and not other images on webpage)\n",
    "team_logos = [x for x in team_logos if 'gif' in x]\n",
    "len(team_logos) #check length to compare for final parsed team names (in order to create dictionary)\n",
    "\n",
    "#Begin parsing team names list to remove html nonsense\n",
    "#Initialize empty list to work with\n",
    "team_names_split = []\n",
    "\n",
    "#Split by \\t and create list of lists\n",
    "for i in range(len(team_names)):\n",
    "    team_names_split.append(team_names[i].split(\"\\t\"))\n",
    "\n",
    "#Initialize final list and remove everything other than team name strings\n",
    "team_names_final = []\n",
    "\n",
    "for i in range(len(team_names_split)):\n",
    "    for j in range(len(team_names_split[i])):\n",
    "        if len(team_names_split[i][j]) > 6:\n",
    "            team_names_final.append(team_names_split[i][j])\n",
    "\n",
    "len(team_names_final) #check length of team names equals length of team logos\n",
    "\n",
    "#Create team logos DataFrame to merge to KenPom DataFrame\n",
    "NCAA_team_logos = pd.DataFrame()\n",
    "NCAA_team_logos[\"Team Mascot\"] = team_names_final\n",
    "NCAA_team_logos[\"Path\"] = team_logos \n",
    "\n",
    "team_merge = [\"Akron Zips\",\n",
    "              \"Alabama Crimson Tide\", \n",
    "              \"Arizona Wildcats\",\n",
    "              \"Auburn Tigers\",\n",
    "              \"Brigham Young Cougars\",\n",
    "              \"Baylor Bears\",\n",
    "              \"Boise State Broncos\",\n",
    "              \"College of Charleston Cougars\",\n",
    "              \"Clemson Tigers\",\n",
    "              \"Colgate Raiders\",\n",
    "              \"Colorado State Rams\",\n",
    "              \"Colorado Buffaloes\",\n",
    "              \"UConn Huskies\",\n",
    "              \"Creighton Bluejays\",\n",
    "              \"Dayton Flyers\",\n",
    "              \"Drake Bulldogs\",\n",
    "              \"Duke Blue Devils\",\n",
    "              \"Duquesne Dukes\",\n",
    "              \"Florida Gators\",\n",
    "              \"Florida Atlantic Owls\",\n",
    "              \"Gonzaga Bulldogs\",\n",
    "              \"Grambling State Tigers\",\n",
    "              \"Grand Canyon Antelopes\",\n",
    "              \"Houston Cougars\",\n",
    "              \"Howard Bison\",\n",
    "              \"Illinois Fighting Illini\",\n",
    "              \"Iowa State Cyclones\",\n",
    "              \"James Madison Dukes\",\n",
    "              \"Kansas Jayhawks\",\n",
    "              \"Kentucky Wildcats\",\n",
    "              \"Long Beach State 49ers\",\n",
    "              \"Longwood Lancers\",\n",
    "              \"Marquette Golden Eagles\",\n",
    "              \"McNeese State Cowboys\",\n",
    "              \"Michigan State Spartans\",\n",
    "              \"Mississippi State Bulldogs\",\n",
    "              \"Montana State Bobcats\",\n",
    "              \"Morehead State Eagles\",\n",
    "              \"North Carolina State Wolfpack\",\n",
    "              \"Nebraska Cornhuskers\",\n",
    "              \"Nevada Wolf Pack\",\n",
    "              \"New Mexico Lobos\",\n",
    "              \"North Carolina Tar Heels\",\n",
    "              \"Northwestern Wildcats\",\n",
    "              \"Oakland Golden Grizzlies\",\n",
    "              \"Oregon Ducks\",\n",
    "              \"Purdue Boilermakers\",\n",
    "              \"Saint Marys Gaels\",\n",
    "              \"Saint Peters Peacocks\",\n",
    "              \"Samford Bulldogs\",\n",
    "              \"San Diego State Aztecs\",            \n",
    "              \"South Carolina Gamecocks\",              \n",
    "              \"South Dakota State Jackrabbits\",\n",
    "              \"Stetson Hatters\",\n",
    "              \"TCU Horned Frogs\",              \n",
    "              \"Tennessee Volunteers\",              \n",
    "              \"Texas Longhorns\",              \n",
    "              \"Texas A&M Aggies\",              \n",
    "              \"Texas Tech Red Raiders\",             \n",
    "              \"UAB Blazers\",\n",
    "              \"Utah State Aggies\",\n",
    "              \"Vermont Catamounts\",              \n",
    "              \"Virginia Cavaliers\",              \n",
    "              \"Wagner Seahawks\",              \n",
    "              \"Washington State Cougars\",\n",
    "              \"Western Kentucky Hilltoppers\",\n",
    "              \"Wisconsin Badgers\",              \n",
    "              \"Yale Bulldogs\"]\n",
    "\n",
    "KenPom = KenPom.sort_values(\"Team\")\n",
    "KenPom[\"Team Mascot\"] = team_merge\n",
    "KenPom = KenPom.sort_index()\n",
    "KenPom"
   ]
  },
  {
   "cell_type": "code",
   "execution_count": 6,
   "id": "ac8ff2fa",
   "metadata": {},
   "outputs": [
    {
     "data": {
      "text/html": [
       "<div>\n",
       "<style scoped>\n",
       "    .dataframe tbody tr th:only-of-type {\n",
       "        vertical-align: middle;\n",
       "    }\n",
       "\n",
       "    .dataframe tbody tr th {\n",
       "        vertical-align: top;\n",
       "    }\n",
       "\n",
       "    .dataframe thead th {\n",
       "        text-align: right;\n",
       "    }\n",
       "</style>\n",
       "<table border=\"1\" class=\"dataframe\">\n",
       "  <thead>\n",
       "    <tr style=\"text-align: right;\">\n",
       "      <th></th>\n",
       "      <th>Team</th>\n",
       "      <th>Region</th>\n",
       "      <th>Seed</th>\n",
       "      <th>Conf</th>\n",
       "      <th>W-L</th>\n",
       "      <th>AdjEM</th>\n",
       "      <th>AdjEM Rank</th>\n",
       "      <th>AdjO</th>\n",
       "      <th>AdjO Rank</th>\n",
       "      <th>AdjD</th>\n",
       "      <th>AdjD Rank</th>\n",
       "      <th>AdjTempo</th>\n",
       "      <th>AdjT Rank</th>\n",
       "      <th>Luck</th>\n",
       "      <th>Luck Rank</th>\n",
       "      <th>Team Mascot</th>\n",
       "      <th>Path</th>\n",
       "    </tr>\n",
       "  </thead>\n",
       "  <tbody>\n",
       "    <tr>\n",
       "      <th>0</th>\n",
       "      <td>Connecticut</td>\n",
       "      <td>East</td>\n",
       "      <td>1</td>\n",
       "      <td>BE</td>\n",
       "      <td>31-3</td>\n",
       "      <td>32.21</td>\n",
       "      <td>1</td>\n",
       "      <td>126.6</td>\n",
       "      <td>1</td>\n",
       "      <td>94.4</td>\n",
       "      <td>11</td>\n",
       "      <td>64.5</td>\n",
       "      <td>329</td>\n",
       "      <td>0.047</td>\n",
       "      <td>70</td>\n",
       "      <td>UConn Huskies</td>\n",
       "      <td>https://content.sportslogos.net/logos/35/884/t...</td>\n",
       "    </tr>\n",
       "    <tr>\n",
       "      <th>1</th>\n",
       "      <td>Houston</td>\n",
       "      <td>South</td>\n",
       "      <td>1</td>\n",
       "      <td>B12</td>\n",
       "      <td>30-4</td>\n",
       "      <td>31.72</td>\n",
       "      <td>2</td>\n",
       "      <td>118.9</td>\n",
       "      <td>17</td>\n",
       "      <td>87.1</td>\n",
       "      <td>2</td>\n",
       "      <td>63.3</td>\n",
       "      <td>348</td>\n",
       "      <td>0.053</td>\n",
       "      <td>61</td>\n",
       "      <td>Houston Cougars</td>\n",
       "      <td>https://content.sportslogos.net/logos/31/700/t...</td>\n",
       "    </tr>\n",
       "    <tr>\n",
       "      <th>2</th>\n",
       "      <td>Purdue</td>\n",
       "      <td>Midwest</td>\n",
       "      <td>1</td>\n",
       "      <td>B10</td>\n",
       "      <td>29-4</td>\n",
       "      <td>29.12</td>\n",
       "      <td>3</td>\n",
       "      <td>125.0</td>\n",
       "      <td>4</td>\n",
       "      <td>95.9</td>\n",
       "      <td>21</td>\n",
       "      <td>67.4</td>\n",
       "      <td>175</td>\n",
       "      <td>0.045</td>\n",
       "      <td>75</td>\n",
       "      <td>Purdue Boilermakers</td>\n",
       "      <td>https://content.sportslogos.net/logos/33/809/t...</td>\n",
       "    </tr>\n",
       "    <tr>\n",
       "      <th>3</th>\n",
       "      <td>Auburn</td>\n",
       "      <td>East</td>\n",
       "      <td>4</td>\n",
       "      <td>SEC</td>\n",
       "      <td>27-7</td>\n",
       "      <td>28.90</td>\n",
       "      <td>4</td>\n",
       "      <td>120.6</td>\n",
       "      <td>10</td>\n",
       "      <td>91.7</td>\n",
       "      <td>4</td>\n",
       "      <td>69.8</td>\n",
       "      <td>58</td>\n",
       "      <td>-0.067</td>\n",
       "      <td>324</td>\n",
       "      <td>Auburn Tigers</td>\n",
       "      <td>https://content.sportslogos.net/logos/30/610/t...</td>\n",
       "    </tr>\n",
       "    <tr>\n",
       "      <th>4</th>\n",
       "      <td>Iowa St.</td>\n",
       "      <td>East</td>\n",
       "      <td>2</td>\n",
       "      <td>B12</td>\n",
       "      <td>27-7</td>\n",
       "      <td>26.72</td>\n",
       "      <td>5</td>\n",
       "      <td>113.9</td>\n",
       "      <td>55</td>\n",
       "      <td>87.1</td>\n",
       "      <td>1</td>\n",
       "      <td>67.3</td>\n",
       "      <td>179</td>\n",
       "      <td>0.012</td>\n",
       "      <td>155</td>\n",
       "      <td>Iowa State Cyclones</td>\n",
       "      <td>https://content.sportslogos.net/logos/32/713/t...</td>\n",
       "    </tr>\n",
       "    <tr>\n",
       "      <th>...</th>\n",
       "      <td>...</td>\n",
       "      <td>...</td>\n",
       "      <td>...</td>\n",
       "      <td>...</td>\n",
       "      <td>...</td>\n",
       "      <td>...</td>\n",
       "      <td>...</td>\n",
       "      <td>...</td>\n",
       "      <td>...</td>\n",
       "      <td>...</td>\n",
       "      <td>...</td>\n",
       "      <td>...</td>\n",
       "      <td>...</td>\n",
       "      <td>...</td>\n",
       "      <td>...</td>\n",
       "      <td>...</td>\n",
       "      <td>...</td>\n",
       "    </tr>\n",
       "    <tr>\n",
       "      <th>63</th>\n",
       "      <td>Montana St.</td>\n",
       "      <td>Midwest</td>\n",
       "      <td>16</td>\n",
       "      <td>BSky</td>\n",
       "      <td>17-17</td>\n",
       "      <td>-3.90</td>\n",
       "      <td>213</td>\n",
       "      <td>103.3</td>\n",
       "      <td>234</td>\n",
       "      <td>107.2</td>\n",
       "      <td>198</td>\n",
       "      <td>68.8</td>\n",
       "      <td>96</td>\n",
       "      <td>0.000</td>\n",
       "      <td>184</td>\n",
       "      <td>Montana State Bobcats</td>\n",
       "      <td>https://content.sportslogos.net/logos/32/760/t...</td>\n",
       "    </tr>\n",
       "    <tr>\n",
       "      <th>64</th>\n",
       "      <td>Stetson</td>\n",
       "      <td>East</td>\n",
       "      <td>16</td>\n",
       "      <td>ASun</td>\n",
       "      <td>22-12</td>\n",
       "      <td>-4.10</td>\n",
       "      <td>218</td>\n",
       "      <td>110.3</td>\n",
       "      <td>100</td>\n",
       "      <td>114.4</td>\n",
       "      <td>342</td>\n",
       "      <td>66.2</td>\n",
       "      <td>257</td>\n",
       "      <td>0.137</td>\n",
       "      <td>6</td>\n",
       "      <td>Stetson Hatters</td>\n",
       "      <td>https://content.sportslogos.net/logos/34/857/t...</td>\n",
       "    </tr>\n",
       "    <tr>\n",
       "      <th>65</th>\n",
       "      <td>Grambling St.</td>\n",
       "      <td>Midwest</td>\n",
       "      <td>16</td>\n",
       "      <td>SWAC</td>\n",
       "      <td>20-14</td>\n",
       "      <td>-7.81</td>\n",
       "      <td>267</td>\n",
       "      <td>99.3</td>\n",
       "      <td>297</td>\n",
       "      <td>107.1</td>\n",
       "      <td>197</td>\n",
       "      <td>64.8</td>\n",
       "      <td>314</td>\n",
       "      <td>0.131</td>\n",
       "      <td>8</td>\n",
       "      <td>Grambling State Tigers</td>\n",
       "      <td>https://content.sportslogos.net/logos/31/692/t...</td>\n",
       "    </tr>\n",
       "    <tr>\n",
       "      <th>66</th>\n",
       "      <td>Howard</td>\n",
       "      <td>West</td>\n",
       "      <td>16</td>\n",
       "      <td>MEAC</td>\n",
       "      <td>18-16</td>\n",
       "      <td>-8.26</td>\n",
       "      <td>276</td>\n",
       "      <td>105.5</td>\n",
       "      <td>192</td>\n",
       "      <td>113.8</td>\n",
       "      <td>334</td>\n",
       "      <td>67.5</td>\n",
       "      <td>163</td>\n",
       "      <td>0.023</td>\n",
       "      <td>119</td>\n",
       "      <td>Howard Bison</td>\n",
       "      <td>https://content.sportslogos.net/logos/31/701/t...</td>\n",
       "    </tr>\n",
       "    <tr>\n",
       "      <th>67</th>\n",
       "      <td>Wagner</td>\n",
       "      <td>West</td>\n",
       "      <td>16</td>\n",
       "      <td>NEC</td>\n",
       "      <td>16-15</td>\n",
       "      <td>-10.09</td>\n",
       "      <td>293</td>\n",
       "      <td>95.8</td>\n",
       "      <td>334</td>\n",
       "      <td>105.9</td>\n",
       "      <td>171</td>\n",
       "      <td>61.3</td>\n",
       "      <td>361</td>\n",
       "      <td>0.022</td>\n",
       "      <td>122</td>\n",
       "      <td>Wagner Seahawks</td>\n",
       "      <td>https://content.sportslogos.net/logos/35/902/t...</td>\n",
       "    </tr>\n",
       "  </tbody>\n",
       "</table>\n",
       "<p>68 rows × 17 columns</p>\n",
       "</div>"
      ],
      "text/plain": [
       "              Team   Region Seed  Conf    W-L  AdjEM  AdjEM Rank   AdjO  \\\n",
       "0      Connecticut     East    1    BE   31-3  32.21           1  126.6   \n",
       "1          Houston    South    1   B12   30-4  31.72           2  118.9   \n",
       "2           Purdue  Midwest    1   B10   29-4  29.12           3  125.0   \n",
       "3           Auburn     East    4   SEC   27-7  28.90           4  120.6   \n",
       "4         Iowa St.     East    2   B12   27-7  26.72           5  113.9   \n",
       "..             ...      ...  ...   ...    ...    ...         ...    ...   \n",
       "63    Montana St.   Midwest   16  BSky  17-17  -3.90         213  103.3   \n",
       "64        Stetson      East   16  ASun  22-12  -4.10         218  110.3   \n",
       "65  Grambling St.   Midwest   16  SWAC  20-14  -7.81         267   99.3   \n",
       "66         Howard      West   16  MEAC  18-16  -8.26         276  105.5   \n",
       "67         Wagner      West   16   NEC  16-15 -10.09         293   95.8   \n",
       "\n",
       "    AdjO Rank   AdjD  AdjD Rank  AdjTempo  AdjT Rank   Luck  Luck Rank  \\\n",
       "0           1   94.4         11      64.5        329  0.047         70   \n",
       "1          17   87.1          2      63.3        348  0.053         61   \n",
       "2           4   95.9         21      67.4        175  0.045         75   \n",
       "3          10   91.7          4      69.8         58 -0.067        324   \n",
       "4          55   87.1          1      67.3        179  0.012        155   \n",
       "..        ...    ...        ...       ...        ...    ...        ...   \n",
       "63        234  107.2        198      68.8         96  0.000        184   \n",
       "64        100  114.4        342      66.2        257  0.137          6   \n",
       "65        297  107.1        197      64.8        314  0.131          8   \n",
       "66        192  113.8        334      67.5        163  0.023        119   \n",
       "67        334  105.9        171      61.3        361  0.022        122   \n",
       "\n",
       "               Team Mascot                                               Path  \n",
       "0            UConn Huskies  https://content.sportslogos.net/logos/35/884/t...  \n",
       "1          Houston Cougars  https://content.sportslogos.net/logos/31/700/t...  \n",
       "2      Purdue Boilermakers  https://content.sportslogos.net/logos/33/809/t...  \n",
       "3            Auburn Tigers  https://content.sportslogos.net/logos/30/610/t...  \n",
       "4      Iowa State Cyclones  https://content.sportslogos.net/logos/32/713/t...  \n",
       "..                     ...                                                ...  \n",
       "63   Montana State Bobcats  https://content.sportslogos.net/logos/32/760/t...  \n",
       "64         Stetson Hatters  https://content.sportslogos.net/logos/34/857/t...  \n",
       "65  Grambling State Tigers  https://content.sportslogos.net/logos/31/692/t...  \n",
       "66            Howard Bison  https://content.sportslogos.net/logos/31/701/t...  \n",
       "67         Wagner Seahawks  https://content.sportslogos.net/logos/35/902/t...  \n",
       "\n",
       "[68 rows x 17 columns]"
      ]
     },
     "execution_count": 6,
     "metadata": {},
     "output_type": "execute_result"
    }
   ],
   "source": [
    "#Left join logos DataFrame to KenPom data\n",
    "KenPom = pd.merge(KenPom, NCAA_team_logos, how=\"left\", on=\"Team Mascot\")\n",
    "KenPom"
   ]
  },
  {
   "cell_type": "code",
   "execution_count": 7,
   "id": "d8031f97",
   "metadata": {
    "scrolled": false
   },
   "outputs": [
    {
     "data": {
      "text/plain": [
       "('C:\\\\Users\\\\owenb\\\\OneDrive\\\\Python Sport Analytics\\\\Module 8 Final Project\\\\Logo_Connecticut.JPG',\n",
       " <http.client.HTTPMessage at 0x26105654a90>)"
      ]
     },
     "execution_count": 7,
     "metadata": {},
     "output_type": "execute_result"
    },
    {
     "data": {
      "text/plain": [
       "('C:\\\\Users\\\\owenb\\\\OneDrive\\\\Python Sport Analytics\\\\Module 8 Final Project\\\\Logo_Houston.JPG',\n",
       " <http.client.HTTPMessage at 0x26105657890>)"
      ]
     },
     "execution_count": 7,
     "metadata": {},
     "output_type": "execute_result"
    },
    {
     "data": {
      "text/plain": [
       "('C:\\\\Users\\\\owenb\\\\OneDrive\\\\Python Sport Analytics\\\\Module 8 Final Project\\\\Logo_Purdue.JPG',\n",
       " <http.client.HTTPMessage at 0x26105654310>)"
      ]
     },
     "execution_count": 7,
     "metadata": {},
     "output_type": "execute_result"
    },
    {
     "data": {
      "text/plain": [
       "('C:\\\\Users\\\\owenb\\\\OneDrive\\\\Python Sport Analytics\\\\Module 8 Final Project\\\\Logo_Auburn.JPG',\n",
       " <http.client.HTTPMessage at 0x26105660fd0>)"
      ]
     },
     "execution_count": 7,
     "metadata": {},
     "output_type": "execute_result"
    },
    {
     "data": {
      "text/plain": [
       "('C:\\\\Users\\\\owenb\\\\OneDrive\\\\Python Sport Analytics\\\\Module 8 Final Project\\\\Logo_Iowa St..JPG',\n",
       " <http.client.HTTPMessage at 0x26105660a50>)"
      ]
     },
     "execution_count": 7,
     "metadata": {},
     "output_type": "execute_result"
    },
    {
     "data": {
      "text/plain": [
       "('C:\\\\Users\\\\owenb\\\\OneDrive\\\\Python Sport Analytics\\\\Module 8 Final Project\\\\Logo_Arizona.JPG',\n",
       " <http.client.HTTPMessage at 0x26105661550>)"
      ]
     },
     "execution_count": 7,
     "metadata": {},
     "output_type": "execute_result"
    },
    {
     "data": {
      "text/plain": [
       "('C:\\\\Users\\\\owenb\\\\OneDrive\\\\Python Sport Analytics\\\\Module 8 Final Project\\\\Logo_Tennessee.JPG',\n",
       " <http.client.HTTPMessage at 0x26105661510>)"
      ]
     },
     "execution_count": 7,
     "metadata": {},
     "output_type": "execute_result"
    },
    {
     "data": {
      "text/plain": [
       "('C:\\\\Users\\\\owenb\\\\OneDrive\\\\Python Sport Analytics\\\\Module 8 Final Project\\\\Logo_Duke.JPG',\n",
       " <http.client.HTTPMessage at 0x26105661490>)"
      ]
     },
     "execution_count": 7,
     "metadata": {},
     "output_type": "execute_result"
    },
    {
     "data": {
      "text/plain": [
       "('C:\\\\Users\\\\owenb\\\\OneDrive\\\\Python Sport Analytics\\\\Module 8 Final Project\\\\Logo_North Carolina.JPG',\n",
       " <http.client.HTTPMessage at 0x26105660b50>)"
      ]
     },
     "execution_count": 7,
     "metadata": {},
     "output_type": "execute_result"
    },
    {
     "data": {
      "text/plain": [
       "('C:\\\\Users\\\\owenb\\\\OneDrive\\\\Python Sport Analytics\\\\Module 8 Final Project\\\\Logo_Illinois.JPG',\n",
       " <http.client.HTTPMessage at 0x261056603d0>)"
      ]
     },
     "execution_count": 7,
     "metadata": {},
     "output_type": "execute_result"
    },
    {
     "data": {
      "text/plain": [
       "('C:\\\\Users\\\\owenb\\\\OneDrive\\\\Python Sport Analytics\\\\Module 8 Final Project\\\\Logo_Creighton.JPG',\n",
       " <http.client.HTTPMessage at 0x26105660490>)"
      ]
     },
     "execution_count": 7,
     "metadata": {},
     "output_type": "execute_result"
    },
    {
     "data": {
      "text/plain": [
       "('C:\\\\Users\\\\owenb\\\\OneDrive\\\\Python Sport Analytics\\\\Module 8 Final Project\\\\Logo_Marquette.JPG',\n",
       " <http.client.HTTPMessage at 0x26105661050>)"
      ]
     },
     "execution_count": 7,
     "metadata": {},
     "output_type": "execute_result"
    },
    {
     "data": {
      "text/plain": [
       "('C:\\\\Users\\\\owenb\\\\OneDrive\\\\Python Sport Analytics\\\\Module 8 Final Project\\\\Logo_Alabama.JPG',\n",
       " <http.client.HTTPMessage at 0x261056625d0>)"
      ]
     },
     "execution_count": 7,
     "metadata": {},
     "output_type": "execute_result"
    },
    {
     "data": {
      "text/plain": [
       "('C:\\\\Users\\\\owenb\\\\OneDrive\\\\Python Sport Analytics\\\\Module 8 Final Project\\\\Logo_Baylor.JPG',\n",
       " <http.client.HTTPMessage at 0x26105662390>)"
      ]
     },
     "execution_count": 7,
     "metadata": {},
     "output_type": "execute_result"
    },
    {
     "data": {
      "text/plain": [
       "('C:\\\\Users\\\\owenb\\\\OneDrive\\\\Python Sport Analytics\\\\Module 8 Final Project\\\\Logo_Gonzaga.JPG',\n",
       " <http.client.HTTPMessage at 0x26105662c10>)"
      ]
     },
     "execution_count": 7,
     "metadata": {},
     "output_type": "execute_result"
    },
    {
     "data": {
      "text/plain": [
       "('C:\\\\Users\\\\owenb\\\\OneDrive\\\\Python Sport Analytics\\\\Module 8 Final Project\\\\Logo_BYU.JPG',\n",
       " <http.client.HTTPMessage at 0x261056628d0>)"
      ]
     },
     "execution_count": 7,
     "metadata": {},
     "output_type": "execute_result"
    },
    {
     "data": {
      "text/plain": [
       "('C:\\\\Users\\\\owenb\\\\OneDrive\\\\Python Sport Analytics\\\\Module 8 Final Project\\\\Logo_Wisconsin.JPG',\n",
       " <http.client.HTTPMessage at 0x261056625d0>)"
      ]
     },
     "execution_count": 7,
     "metadata": {},
     "output_type": "execute_result"
    },
    {
     "data": {
      "text/plain": [
       "('C:\\\\Users\\\\owenb\\\\OneDrive\\\\Python Sport Analytics\\\\Module 8 Final Project\\\\Logo_Michigan St..JPG',\n",
       " <http.client.HTTPMessage at 0x26105662950>)"
      ]
     },
     "execution_count": 7,
     "metadata": {},
     "output_type": "execute_result"
    },
    {
     "data": {
      "text/plain": [
       "('C:\\\\Users\\\\owenb\\\\OneDrive\\\\Python Sport Analytics\\\\Module 8 Final Project\\\\Logo_Kentucky.JPG',\n",
       " <http.client.HTTPMessage at 0x26105663850>)"
      ]
     },
     "execution_count": 7,
     "metadata": {},
     "output_type": "execute_result"
    },
    {
     "data": {
      "text/plain": [
       "(\"C:\\\\Users\\\\owenb\\\\OneDrive\\\\Python Sport Analytics\\\\Module 8 Final Project\\\\Logo_Saint Mary's.JPG\",\n",
       " <http.client.HTTPMessage at 0x26105658050>)"
      ]
     },
     "execution_count": 7,
     "metadata": {},
     "output_type": "execute_result"
    },
    {
     "data": {
      "text/plain": [
       "('C:\\\\Users\\\\owenb\\\\OneDrive\\\\Python Sport Analytics\\\\Module 8 Final Project\\\\Logo_San Diego St..JPG',\n",
       " <http.client.HTTPMessage at 0x261056625d0>)"
      ]
     },
     "execution_count": 7,
     "metadata": {},
     "output_type": "execute_result"
    },
    {
     "data": {
      "text/plain": [
       "('C:\\\\Users\\\\owenb\\\\OneDrive\\\\Python Sport Analytics\\\\Module 8 Final Project\\\\Logo_Kansas.JPG',\n",
       " <http.client.HTTPMessage at 0x26105658850>)"
      ]
     },
     "execution_count": 7,
     "metadata": {},
     "output_type": "execute_result"
    },
    {
     "data": {
      "text/plain": [
       "('C:\\\\Users\\\\owenb\\\\OneDrive\\\\Python Sport Analytics\\\\Module 8 Final Project\\\\Logo_New Mexico\\xa0.JPG',\n",
       " <http.client.HTTPMessage at 0x26105658690>)"
      ]
     },
     "execution_count": 7,
     "metadata": {},
     "output_type": "execute_result"
    },
    {
     "data": {
      "text/plain": [
       "('C:\\\\Users\\\\owenb\\\\OneDrive\\\\Python Sport Analytics\\\\Module 8 Final Project\\\\Logo_Texas Tech.JPG',\n",
       " <http.client.HTTPMessage at 0x26105658d90>)"
      ]
     },
     "execution_count": 7,
     "metadata": {},
     "output_type": "execute_result"
    },
    {
     "data": {
      "text/plain": [
       "('C:\\\\Users\\\\owenb\\\\OneDrive\\\\Python Sport Analytics\\\\Module 8 Final Project\\\\Logo_Colorado\\xa0.JPG',\n",
       " <http.client.HTTPMessage at 0x26105658c10>)"
      ]
     },
     "execution_count": 7,
     "metadata": {},
     "output_type": "execute_result"
    },
    {
     "data": {
      "text/plain": [
       "('C:\\\\Users\\\\owenb\\\\OneDrive\\\\Python Sport Analytics\\\\Module 8 Final Project\\\\Logo_Texas.JPG',\n",
       " <http.client.HTTPMessage at 0x26105659150>)"
      ]
     },
     "execution_count": 7,
     "metadata": {},
     "output_type": "execute_result"
    },
    {
     "data": {
      "text/plain": [
       "('C:\\\\Users\\\\owenb\\\\OneDrive\\\\Python Sport Analytics\\\\Module 8 Final Project\\\\Logo_Nebraska.JPG',\n",
       " <http.client.HTTPMessage at 0x26105659410>)"
      ]
     },
     "execution_count": 7,
     "metadata": {},
     "output_type": "execute_result"
    },
    {
     "data": {
      "text/plain": [
       "('C:\\\\Users\\\\owenb\\\\OneDrive\\\\Python Sport Analytics\\\\Module 8 Final Project\\\\Logo_Florida.JPG',\n",
       " <http.client.HTTPMessage at 0x26105659810>)"
      ]
     },
     "execution_count": 7,
     "metadata": {},
     "output_type": "execute_result"
    },
    {
     "data": {
      "text/plain": [
       "('C:\\\\Users\\\\owenb\\\\OneDrive\\\\Python Sport Analytics\\\\Module 8 Final Project\\\\Logo_Mississippi St..JPG',\n",
       " <http.client.HTTPMessage at 0x261056589d0>)"
      ]
     },
     "execution_count": 7,
     "metadata": {},
     "output_type": "execute_result"
    },
    {
     "data": {
      "text/plain": [
       "('C:\\\\Users\\\\owenb\\\\OneDrive\\\\Python Sport Analytics\\\\Module 8 Final Project\\\\Logo_Dayton.JPG',\n",
       " <http.client.HTTPMessage at 0x26105659c50>)"
      ]
     },
     "execution_count": 7,
     "metadata": {},
     "output_type": "execute_result"
    },
    {
     "data": {
      "text/plain": [
       "('C:\\\\Users\\\\owenb\\\\OneDrive\\\\Python Sport Analytics\\\\Module 8 Final Project\\\\Logo_TCU.JPG',\n",
       " <http.client.HTTPMessage at 0x26105658bd0>)"
      ]
     },
     "execution_count": 7,
     "metadata": {},
     "output_type": "execute_result"
    },
    {
     "data": {
      "text/plain": [
       "('C:\\\\Users\\\\owenb\\\\OneDrive\\\\Python Sport Analytics\\\\Module 8 Final Project\\\\Logo_Clemson.JPG',\n",
       " <http.client.HTTPMessage at 0x26105659110>)"
      ]
     },
     "execution_count": 7,
     "metadata": {},
     "output_type": "execute_result"
    },
    {
     "data": {
      "text/plain": [
       "('C:\\\\Users\\\\owenb\\\\OneDrive\\\\Python Sport Analytics\\\\Module 8 Final Project\\\\Logo_Nevada\\xa0.JPG',\n",
       " <http.client.HTTPMessage at 0x26105658ad0>)"
      ]
     },
     "execution_count": 7,
     "metadata": {},
     "output_type": "execute_result"
    },
    {
     "data": {
      "text/plain": [
       "('C:\\\\Users\\\\owenb\\\\OneDrive\\\\Python Sport Analytics\\\\Module 8 Final Project\\\\Logo_Colorado St.\\xa0.JPG',\n",
       " <http.client.HTTPMessage at 0x26105659ad0>)"
      ]
     },
     "execution_count": 7,
     "metadata": {},
     "output_type": "execute_result"
    },
    {
     "data": {
      "text/plain": [
       "('C:\\\\Users\\\\owenb\\\\OneDrive\\\\Python Sport Analytics\\\\Module 8 Final Project\\\\Logo_Boise St.\\xa0.JPG',\n",
       " <http.client.HTTPMessage at 0x2610565a750>)"
      ]
     },
     "execution_count": 7,
     "metadata": {},
     "output_type": "execute_result"
    },
    {
     "data": {
      "text/plain": [
       "('C:\\\\Users\\\\owenb\\\\OneDrive\\\\Python Sport Analytics\\\\Module 8 Final Project\\\\Logo_Florida Atlantic.JPG',\n",
       " <http.client.HTTPMessage at 0x26105658b50>)"
      ]
     },
     "execution_count": 7,
     "metadata": {},
     "output_type": "execute_result"
    },
    {
     "data": {
      "text/plain": [
       "('C:\\\\Users\\\\owenb\\\\OneDrive\\\\Python Sport Analytics\\\\Module 8 Final Project\\\\Logo_Washington St..JPG',\n",
       " <http.client.HTTPMessage at 0x26105658710>)"
      ]
     },
     "execution_count": 7,
     "metadata": {},
     "output_type": "execute_result"
    },
    {
     "data": {
      "text/plain": [
       "('C:\\\\Users\\\\owenb\\\\OneDrive\\\\Python Sport Analytics\\\\Module 8 Final Project\\\\Logo_Texas A&M.JPG',\n",
       " <http.client.HTTPMessage at 0x2610565a310>)"
      ]
     },
     "execution_count": 7,
     "metadata": {},
     "output_type": "execute_result"
    },
    {
     "data": {
      "text/plain": [
       "('C:\\\\Users\\\\owenb\\\\OneDrive\\\\Python Sport Analytics\\\\Module 8 Final Project\\\\Logo_Northwestern.JPG',\n",
       " <http.client.HTTPMessage at 0x2610565a2d0>)"
      ]
     },
     "execution_count": 7,
     "metadata": {},
     "output_type": "execute_result"
    },
    {
     "data": {
      "text/plain": [
       "('C:\\\\Users\\\\owenb\\\\OneDrive\\\\Python Sport Analytics\\\\Module 8 Final Project\\\\Logo_Utah St..JPG',\n",
       " <http.client.HTTPMessage at 0x2610565b210>)"
      ]
     },
     "execution_count": 7,
     "metadata": {},
     "output_type": "execute_result"
    },
    {
     "data": {
      "text/plain": [
       "('C:\\\\Users\\\\owenb\\\\OneDrive\\\\Python Sport Analytics\\\\Module 8 Final Project\\\\Logo_South Carolina.JPG',\n",
       " <http.client.HTTPMessage at 0x2610565b410>)"
      ]
     },
     "execution_count": 7,
     "metadata": {},
     "output_type": "execute_result"
    },
    {
     "data": {
      "text/plain": [
       "('C:\\\\Users\\\\owenb\\\\OneDrive\\\\Python Sport Analytics\\\\Module 8 Final Project\\\\Logo_Drake\\xa0.JPG',\n",
       " <http.client.HTTPMessage at 0x2610565b4d0>)"
      ]
     },
     "execution_count": 7,
     "metadata": {},
     "output_type": "execute_result"
    },
    {
     "data": {
      "text/plain": [
       "('C:\\\\Users\\\\owenb\\\\OneDrive\\\\Python Sport Analytics\\\\Module 8 Final Project\\\\Logo_Grand Canyon\\xa0.JPG',\n",
       " <http.client.HTTPMessage at 0x2610565b8d0>)"
      ]
     },
     "execution_count": 7,
     "metadata": {},
     "output_type": "execute_result"
    },
    {
     "data": {
      "text/plain": [
       "('C:\\\\Users\\\\owenb\\\\OneDrive\\\\Python Sport Analytics\\\\Module 8 Final Project\\\\Logo_Oregon\\xa0.JPG',\n",
       " <http.client.HTTPMessage at 0x2610565bc10>)"
      ]
     },
     "execution_count": 7,
     "metadata": {},
     "output_type": "execute_result"
    },
    {
     "data": {
      "text/plain": [
       "('C:\\\\Users\\\\owenb\\\\OneDrive\\\\Python Sport Analytics\\\\Module 8 Final Project\\\\Logo_N.C. State\\xa0.JPG',\n",
       " <http.client.HTTPMessage at 0x2610565be50>)"
      ]
     },
     "execution_count": 7,
     "metadata": {},
     "output_type": "execute_result"
    },
    {
     "data": {
      "text/plain": [
       "('C:\\\\Users\\\\owenb\\\\OneDrive\\\\Python Sport Analytics\\\\Module 8 Final Project\\\\Logo_James Madison\\xa0.JPG',\n",
       " <http.client.HTTPMessage at 0x2610565a0d0>)"
      ]
     },
     "execution_count": 7,
     "metadata": {},
     "output_type": "execute_result"
    },
    {
     "data": {
      "text/plain": [
       "('C:\\\\Users\\\\owenb\\\\OneDrive\\\\Python Sport Analytics\\\\Module 8 Final Project\\\\Logo_McNeese St.\\xa0.JPG',\n",
       " <http.client.HTTPMessage at 0x2610565b4d0>)"
      ]
     },
     "execution_count": 7,
     "metadata": {},
     "output_type": "execute_result"
    },
    {
     "data": {
      "text/plain": [
       "('C:\\\\Users\\\\owenb\\\\OneDrive\\\\Python Sport Analytics\\\\Module 8 Final Project\\\\Logo_Virginia\\xa0.JPG',\n",
       " <http.client.HTTPMessage at 0x2610565bed0>)"
      ]
     },
     "execution_count": 7,
     "metadata": {},
     "output_type": "execute_result"
    },
    {
     "data": {
      "text/plain": [
       "('C:\\\\Users\\\\owenb\\\\OneDrive\\\\Python Sport Analytics\\\\Module 8 Final Project\\\\Logo_Samford\\xa0.JPG',\n",
       " <http.client.HTTPMessage at 0x2610565a950>)"
      ]
     },
     "execution_count": 7,
     "metadata": {},
     "output_type": "execute_result"
    },
    {
     "data": {
      "text/plain": [
       "('C:\\\\Users\\\\owenb\\\\OneDrive\\\\Python Sport Analytics\\\\Module 8 Final Project\\\\Logo_Yale\\xa0.JPG',\n",
       " <http.client.HTTPMessage at 0x26105678150>)"
      ]
     },
     "execution_count": 7,
     "metadata": {},
     "output_type": "execute_result"
    },
    {
     "data": {
      "text/plain": [
       "('C:\\\\Users\\\\owenb\\\\OneDrive\\\\Python Sport Analytics\\\\Module 8 Final Project\\\\Logo_Duquesne\\xa0.JPG',\n",
       " <http.client.HTTPMessage at 0x261056784d0>)"
      ]
     },
     "execution_count": 7,
     "metadata": {},
     "output_type": "execute_result"
    },
    {
     "data": {
      "text/plain": [
       "('C:\\\\Users\\\\owenb\\\\OneDrive\\\\Python Sport Analytics\\\\Module 8 Final Project\\\\Logo_Charleston\\xa0.JPG',\n",
       " <http.client.HTTPMessage at 0x26105678e50>)"
      ]
     },
     "execution_count": 7,
     "metadata": {},
     "output_type": "execute_result"
    },
    {
     "data": {
      "text/plain": [
       "('C:\\\\Users\\\\owenb\\\\OneDrive\\\\Python Sport Analytics\\\\Module 8 Final Project\\\\Logo_Vermont\\xa0.JPG',\n",
       " <http.client.HTTPMessage at 0x26105679050>)"
      ]
     },
     "execution_count": 7,
     "metadata": {},
     "output_type": "execute_result"
    },
    {
     "data": {
      "text/plain": [
       "('C:\\\\Users\\\\owenb\\\\OneDrive\\\\Python Sport Analytics\\\\Module 8 Final Project\\\\Logo_UAB\\xa0.JPG',\n",
       " <http.client.HTTPMessage at 0x26105678850>)"
      ]
     },
     "execution_count": 7,
     "metadata": {},
     "output_type": "execute_result"
    },
    {
     "data": {
      "text/plain": [
       "('C:\\\\Users\\\\owenb\\\\OneDrive\\\\Python Sport Analytics\\\\Module 8 Final Project\\\\Logo_Morehead St.\\xa0.JPG',\n",
       " <http.client.HTTPMessage at 0x26105678150>)"
      ]
     },
     "execution_count": 7,
     "metadata": {},
     "output_type": "execute_result"
    },
    {
     "data": {
      "text/plain": [
       "('C:\\\\Users\\\\owenb\\\\OneDrive\\\\Python Sport Analytics\\\\Module 8 Final Project\\\\Logo_Akron\\xa0.JPG',\n",
       " <http.client.HTTPMessage at 0x26105678c90>)"
      ]
     },
     "execution_count": 7,
     "metadata": {},
     "output_type": "execute_result"
    },
    {
     "data": {
      "text/plain": [
       "('C:\\\\Users\\\\owenb\\\\OneDrive\\\\Python Sport Analytics\\\\Module 8 Final Project\\\\Logo_Western Kentucky\\xa0.JPG',\n",
       " <http.client.HTTPMessage at 0x26105679790>)"
      ]
     },
     "execution_count": 7,
     "metadata": {},
     "output_type": "execute_result"
    },
    {
     "data": {
      "text/plain": [
       "('C:\\\\Users\\\\owenb\\\\OneDrive\\\\Python Sport Analytics\\\\Module 8 Final Project\\\\Logo_South Dakota St.\\xa0.JPG',\n",
       " <http.client.HTTPMessage at 0x26105678710>)"
      ]
     },
     "execution_count": 7,
     "metadata": {},
     "output_type": "execute_result"
    },
    {
     "data": {
      "text/plain": [
       "('C:\\\\Users\\\\owenb\\\\OneDrive\\\\Python Sport Analytics\\\\Module 8 Final Project\\\\Logo_Oakland\\xa0.JPG',\n",
       " <http.client.HTTPMessage at 0x261056790d0>)"
      ]
     },
     "execution_count": 7,
     "metadata": {},
     "output_type": "execute_result"
    },
    {
     "data": {
      "text/plain": [
       "('C:\\\\Users\\\\owenb\\\\OneDrive\\\\Python Sport Analytics\\\\Module 8 Final Project\\\\Logo_Colgate\\xa0.JPG',\n",
       " <http.client.HTTPMessage at 0x26105678ed0>)"
      ]
     },
     "execution_count": 7,
     "metadata": {},
     "output_type": "execute_result"
    },
    {
     "data": {
      "text/plain": [
       "('C:\\\\Users\\\\owenb\\\\OneDrive\\\\Python Sport Analytics\\\\Module 8 Final Project\\\\Logo_Longwood\\xa0.JPG',\n",
       " <http.client.HTTPMessage at 0x26105679590>)"
      ]
     },
     "execution_count": 7,
     "metadata": {},
     "output_type": "execute_result"
    },
    {
     "data": {
      "text/plain": [
       "('C:\\\\Users\\\\owenb\\\\OneDrive\\\\Python Sport Analytics\\\\Module 8 Final Project\\\\Logo_Long Beach St.\\xa0.JPG',\n",
       " <http.client.HTTPMessage at 0x26105678050>)"
      ]
     },
     "execution_count": 7,
     "metadata": {},
     "output_type": "execute_result"
    },
    {
     "data": {
      "text/plain": [
       "(\"C:\\\\Users\\\\owenb\\\\OneDrive\\\\Python Sport Analytics\\\\Module 8 Final Project\\\\Logo_Saint Peter's\\xa0.JPG\",\n",
       " <http.client.HTTPMessage at 0x26105678210>)"
      ]
     },
     "execution_count": 7,
     "metadata": {},
     "output_type": "execute_result"
    },
    {
     "data": {
      "text/plain": [
       "('C:\\\\Users\\\\owenb\\\\OneDrive\\\\Python Sport Analytics\\\\Module 8 Final Project\\\\Logo_Montana St.\\xa0.JPG',\n",
       " <http.client.HTTPMessage at 0x26105679cd0>)"
      ]
     },
     "execution_count": 7,
     "metadata": {},
     "output_type": "execute_result"
    },
    {
     "data": {
      "text/plain": [
       "('C:\\\\Users\\\\owenb\\\\OneDrive\\\\Python Sport Analytics\\\\Module 8 Final Project\\\\Logo_Stetson\\xa0.JPG',\n",
       " <http.client.HTTPMessage at 0x26105679c50>)"
      ]
     },
     "execution_count": 7,
     "metadata": {},
     "output_type": "execute_result"
    },
    {
     "data": {
      "text/plain": [
       "('C:\\\\Users\\\\owenb\\\\OneDrive\\\\Python Sport Analytics\\\\Module 8 Final Project\\\\Logo_Grambling St.\\xa0.JPG',\n",
       " <http.client.HTTPMessage at 0x26105679b50>)"
      ]
     },
     "execution_count": 7,
     "metadata": {},
     "output_type": "execute_result"
    },
    {
     "data": {
      "text/plain": [
       "('C:\\\\Users\\\\owenb\\\\OneDrive\\\\Python Sport Analytics\\\\Module 8 Final Project\\\\Logo_Howard\\xa0.JPG',\n",
       " <http.client.HTTPMessage at 0x26105679550>)"
      ]
     },
     "execution_count": 7,
     "metadata": {},
     "output_type": "execute_result"
    },
    {
     "data": {
      "text/plain": [
       "('C:\\\\Users\\\\owenb\\\\OneDrive\\\\Python Sport Analytics\\\\Module 8 Final Project\\\\Logo_Wagner\\xa0.JPG',\n",
       " <http.client.HTTPMessage at 0x26105678110>)"
      ]
     },
     "execution_count": 7,
     "metadata": {},
     "output_type": "execute_result"
    },
    {
     "data": {
      "text/plain": [
       "'C:\\\\Users\\\\owenb\\\\OneDrive\\\\Python Sport Analytics\\\\Module 8 Final Project\\\\Logo_Connecticut.JPG'"
      ]
     },
     "execution_count": 7,
     "metadata": {},
     "output_type": "execute_result"
    },
    {
     "data": {
      "text/plain": [
       "'C:\\\\Users\\\\owenb\\\\OneDrive\\\\Python Sport Analytics\\\\Module 8 Final Project\\\\Logo_Wagner\\xa0.JPG'"
      ]
     },
     "execution_count": 7,
     "metadata": {},
     "output_type": "execute_result"
    }
   ],
   "source": [
    "#Create new column from reading gif address and save image as jpg file in working directory\n",
    "import urllib\n",
    "pd.options.mode.chained_assignment = None\n",
    "\n",
    "KenPom[\"New Path\"] = \"None\"*len(KenPom)\n",
    "\n",
    "#EDIT CODE CHUNK HERE: Replace my local directory to your working directory where the notebook is saved\n",
    "\n",
    "for i in range(len(KenPom)):\n",
    "    KenPom[\"New Path\"][i] = r\"C:\\Users\\owenb\\OneDrive\\Python Sport Analytics\\Module 8 Final Project\\Logo_\" + KenPom[\"Team\"][i] + \".JPG\"\n",
    "    urllib.request.urlretrieve(KenPom[\"Path\"][i], KenPom[\"New Path\"][i])\n",
    "    \n",
    "KenPom[\"New Path\"][0]\n",
    "KenPom[\"New Path\"][67]"
   ]
  },
  {
   "cell_type": "code",
   "execution_count": 8,
   "id": "81d612a4",
   "metadata": {},
   "outputs": [
    {
     "data": {
      "application/javascript": [
       "/* Put everything inside the global mpl namespace */\n",
       "/* global mpl */\n",
       "window.mpl = {};\n",
       "\n",
       "mpl.get_websocket_type = function () {\n",
       "    if (typeof WebSocket !== 'undefined') {\n",
       "        return WebSocket;\n",
       "    } else if (typeof MozWebSocket !== 'undefined') {\n",
       "        return MozWebSocket;\n",
       "    } else {\n",
       "        alert(\n",
       "            'Your browser does not have WebSocket support. ' +\n",
       "                'Please try Chrome, Safari or Firefox ≥ 6. ' +\n",
       "                'Firefox 4 and 5 are also supported but you ' +\n",
       "                'have to enable WebSockets in about:config.'\n",
       "        );\n",
       "    }\n",
       "};\n",
       "\n",
       "mpl.figure = function (figure_id, websocket, ondownload, parent_element) {\n",
       "    this.id = figure_id;\n",
       "\n",
       "    this.ws = websocket;\n",
       "\n",
       "    this.supports_binary = this.ws.binaryType !== undefined;\n",
       "\n",
       "    if (!this.supports_binary) {\n",
       "        var warnings = document.getElementById('mpl-warnings');\n",
       "        if (warnings) {\n",
       "            warnings.style.display = 'block';\n",
       "            warnings.textContent =\n",
       "                'This browser does not support binary websocket messages. ' +\n",
       "                'Performance may be slow.';\n",
       "        }\n",
       "    }\n",
       "\n",
       "    this.imageObj = new Image();\n",
       "\n",
       "    this.context = undefined;\n",
       "    this.message = undefined;\n",
       "    this.canvas = undefined;\n",
       "    this.rubberband_canvas = undefined;\n",
       "    this.rubberband_context = undefined;\n",
       "    this.format_dropdown = undefined;\n",
       "\n",
       "    this.image_mode = 'full';\n",
       "\n",
       "    this.root = document.createElement('div');\n",
       "    this.root.setAttribute('style', 'display: inline-block');\n",
       "    this._root_extra_style(this.root);\n",
       "\n",
       "    parent_element.appendChild(this.root);\n",
       "\n",
       "    this._init_header(this);\n",
       "    this._init_canvas(this);\n",
       "    this._init_toolbar(this);\n",
       "\n",
       "    var fig = this;\n",
       "\n",
       "    this.waiting = false;\n",
       "\n",
       "    this.ws.onopen = function () {\n",
       "        fig.send_message('supports_binary', { value: fig.supports_binary });\n",
       "        fig.send_message('send_image_mode', {});\n",
       "        if (fig.ratio !== 1) {\n",
       "            fig.send_message('set_device_pixel_ratio', {\n",
       "                device_pixel_ratio: fig.ratio,\n",
       "            });\n",
       "        }\n",
       "        fig.send_message('refresh', {});\n",
       "    };\n",
       "\n",
       "    this.imageObj.onload = function () {\n",
       "        if (fig.image_mode === 'full') {\n",
       "            // Full images could contain transparency (where diff images\n",
       "            // almost always do), so we need to clear the canvas so that\n",
       "            // there is no ghosting.\n",
       "            fig.context.clearRect(0, 0, fig.canvas.width, fig.canvas.height);\n",
       "        }\n",
       "        fig.context.drawImage(fig.imageObj, 0, 0);\n",
       "    };\n",
       "\n",
       "    this.imageObj.onunload = function () {\n",
       "        fig.ws.close();\n",
       "    };\n",
       "\n",
       "    this.ws.onmessage = this._make_on_message_function(this);\n",
       "\n",
       "    this.ondownload = ondownload;\n",
       "};\n",
       "\n",
       "mpl.figure.prototype._init_header = function () {\n",
       "    var titlebar = document.createElement('div');\n",
       "    titlebar.classList =\n",
       "        'ui-dialog-titlebar ui-widget-header ui-corner-all ui-helper-clearfix';\n",
       "    var titletext = document.createElement('div');\n",
       "    titletext.classList = 'ui-dialog-title';\n",
       "    titletext.setAttribute(\n",
       "        'style',\n",
       "        'width: 100%; text-align: center; padding: 3px;'\n",
       "    );\n",
       "    titlebar.appendChild(titletext);\n",
       "    this.root.appendChild(titlebar);\n",
       "    this.header = titletext;\n",
       "};\n",
       "\n",
       "mpl.figure.prototype._canvas_extra_style = function (_canvas_div) {};\n",
       "\n",
       "mpl.figure.prototype._root_extra_style = function (_canvas_div) {};\n",
       "\n",
       "mpl.figure.prototype._init_canvas = function () {\n",
       "    var fig = this;\n",
       "\n",
       "    var canvas_div = (this.canvas_div = document.createElement('div'));\n",
       "    canvas_div.setAttribute('tabindex', '0');\n",
       "    canvas_div.setAttribute(\n",
       "        'style',\n",
       "        'border: 1px solid #ddd;' +\n",
       "            'box-sizing: content-box;' +\n",
       "            'clear: both;' +\n",
       "            'min-height: 1px;' +\n",
       "            'min-width: 1px;' +\n",
       "            'outline: 0;' +\n",
       "            'overflow: hidden;' +\n",
       "            'position: relative;' +\n",
       "            'resize: both;' +\n",
       "            'z-index: 2;'\n",
       "    );\n",
       "\n",
       "    function on_keyboard_event_closure(name) {\n",
       "        return function (event) {\n",
       "            return fig.key_event(event, name);\n",
       "        };\n",
       "    }\n",
       "\n",
       "    canvas_div.addEventListener(\n",
       "        'keydown',\n",
       "        on_keyboard_event_closure('key_press')\n",
       "    );\n",
       "    canvas_div.addEventListener(\n",
       "        'keyup',\n",
       "        on_keyboard_event_closure('key_release')\n",
       "    );\n",
       "\n",
       "    this._canvas_extra_style(canvas_div);\n",
       "    this.root.appendChild(canvas_div);\n",
       "\n",
       "    var canvas = (this.canvas = document.createElement('canvas'));\n",
       "    canvas.classList.add('mpl-canvas');\n",
       "    canvas.setAttribute(\n",
       "        'style',\n",
       "        'box-sizing: content-box;' +\n",
       "            'pointer-events: none;' +\n",
       "            'position: relative;' +\n",
       "            'z-index: 0;'\n",
       "    );\n",
       "\n",
       "    this.context = canvas.getContext('2d');\n",
       "\n",
       "    var backingStore =\n",
       "        this.context.backingStorePixelRatio ||\n",
       "        this.context.webkitBackingStorePixelRatio ||\n",
       "        this.context.mozBackingStorePixelRatio ||\n",
       "        this.context.msBackingStorePixelRatio ||\n",
       "        this.context.oBackingStorePixelRatio ||\n",
       "        this.context.backingStorePixelRatio ||\n",
       "        1;\n",
       "\n",
       "    this.ratio = (window.devicePixelRatio || 1) / backingStore;\n",
       "\n",
       "    var rubberband_canvas = (this.rubberband_canvas = document.createElement(\n",
       "        'canvas'\n",
       "    ));\n",
       "    rubberband_canvas.setAttribute(\n",
       "        'style',\n",
       "        'box-sizing: content-box;' +\n",
       "            'left: 0;' +\n",
       "            'pointer-events: none;' +\n",
       "            'position: absolute;' +\n",
       "            'top: 0;' +\n",
       "            'z-index: 1;'\n",
       "    );\n",
       "\n",
       "    // Apply a ponyfill if ResizeObserver is not implemented by browser.\n",
       "    if (this.ResizeObserver === undefined) {\n",
       "        if (window.ResizeObserver !== undefined) {\n",
       "            this.ResizeObserver = window.ResizeObserver;\n",
       "        } else {\n",
       "            var obs = _JSXTOOLS_RESIZE_OBSERVER({});\n",
       "            this.ResizeObserver = obs.ResizeObserver;\n",
       "        }\n",
       "    }\n",
       "\n",
       "    this.resizeObserverInstance = new this.ResizeObserver(function (entries) {\n",
       "        var nentries = entries.length;\n",
       "        for (var i = 0; i < nentries; i++) {\n",
       "            var entry = entries[i];\n",
       "            var width, height;\n",
       "            if (entry.contentBoxSize) {\n",
       "                if (entry.contentBoxSize instanceof Array) {\n",
       "                    // Chrome 84 implements new version of spec.\n",
       "                    width = entry.contentBoxSize[0].inlineSize;\n",
       "                    height = entry.contentBoxSize[0].blockSize;\n",
       "                } else {\n",
       "                    // Firefox implements old version of spec.\n",
       "                    width = entry.contentBoxSize.inlineSize;\n",
       "                    height = entry.contentBoxSize.blockSize;\n",
       "                }\n",
       "            } else {\n",
       "                // Chrome <84 implements even older version of spec.\n",
       "                width = entry.contentRect.width;\n",
       "                height = entry.contentRect.height;\n",
       "            }\n",
       "\n",
       "            // Keep the size of the canvas and rubber band canvas in sync with\n",
       "            // the canvas container.\n",
       "            if (entry.devicePixelContentBoxSize) {\n",
       "                // Chrome 84 implements new version of spec.\n",
       "                canvas.setAttribute(\n",
       "                    'width',\n",
       "                    entry.devicePixelContentBoxSize[0].inlineSize\n",
       "                );\n",
       "                canvas.setAttribute(\n",
       "                    'height',\n",
       "                    entry.devicePixelContentBoxSize[0].blockSize\n",
       "                );\n",
       "            } else {\n",
       "                canvas.setAttribute('width', width * fig.ratio);\n",
       "                canvas.setAttribute('height', height * fig.ratio);\n",
       "            }\n",
       "            /* This rescales the canvas back to display pixels, so that it\n",
       "             * appears correct on HiDPI screens. */\n",
       "            canvas.style.width = width + 'px';\n",
       "            canvas.style.height = height + 'px';\n",
       "\n",
       "            rubberband_canvas.setAttribute('width', width);\n",
       "            rubberband_canvas.setAttribute('height', height);\n",
       "\n",
       "            // And update the size in Python. We ignore the initial 0/0 size\n",
       "            // that occurs as the element is placed into the DOM, which should\n",
       "            // otherwise not happen due to the minimum size styling.\n",
       "            if (fig.ws.readyState == 1 && width != 0 && height != 0) {\n",
       "                fig.request_resize(width, height);\n",
       "            }\n",
       "        }\n",
       "    });\n",
       "    this.resizeObserverInstance.observe(canvas_div);\n",
       "\n",
       "    function on_mouse_event_closure(name) {\n",
       "        /* User Agent sniffing is bad, but WebKit is busted:\n",
       "         * https://bugs.webkit.org/show_bug.cgi?id=144526\n",
       "         * https://bugs.webkit.org/show_bug.cgi?id=181818\n",
       "         * The worst that happens here is that they get an extra browser\n",
       "         * selection when dragging, if this check fails to catch them.\n",
       "         */\n",
       "        var UA = navigator.userAgent;\n",
       "        var isWebKit = /AppleWebKit/.test(UA) && !/Chrome/.test(UA);\n",
       "        if(isWebKit) {\n",
       "            return function (event) {\n",
       "                /* This prevents the web browser from automatically changing to\n",
       "                 * the text insertion cursor when the button is pressed. We\n",
       "                 * want to control all of the cursor setting manually through\n",
       "                 * the 'cursor' event from matplotlib */\n",
       "                event.preventDefault()\n",
       "                return fig.mouse_event(event, name);\n",
       "            };\n",
       "        } else {\n",
       "            return function (event) {\n",
       "                return fig.mouse_event(event, name);\n",
       "            };\n",
       "        }\n",
       "    }\n",
       "\n",
       "    canvas_div.addEventListener(\n",
       "        'mousedown',\n",
       "        on_mouse_event_closure('button_press')\n",
       "    );\n",
       "    canvas_div.addEventListener(\n",
       "        'mouseup',\n",
       "        on_mouse_event_closure('button_release')\n",
       "    );\n",
       "    canvas_div.addEventListener(\n",
       "        'dblclick',\n",
       "        on_mouse_event_closure('dblclick')\n",
       "    );\n",
       "    // Throttle sequential mouse events to 1 every 20ms.\n",
       "    canvas_div.addEventListener(\n",
       "        'mousemove',\n",
       "        on_mouse_event_closure('motion_notify')\n",
       "    );\n",
       "\n",
       "    canvas_div.addEventListener(\n",
       "        'mouseenter',\n",
       "        on_mouse_event_closure('figure_enter')\n",
       "    );\n",
       "    canvas_div.addEventListener(\n",
       "        'mouseleave',\n",
       "        on_mouse_event_closure('figure_leave')\n",
       "    );\n",
       "\n",
       "    canvas_div.addEventListener('wheel', function (event) {\n",
       "        if (event.deltaY < 0) {\n",
       "            event.step = 1;\n",
       "        } else {\n",
       "            event.step = -1;\n",
       "        }\n",
       "        on_mouse_event_closure('scroll')(event);\n",
       "    });\n",
       "\n",
       "    canvas_div.appendChild(canvas);\n",
       "    canvas_div.appendChild(rubberband_canvas);\n",
       "\n",
       "    this.rubberband_context = rubberband_canvas.getContext('2d');\n",
       "    this.rubberband_context.strokeStyle = '#000000';\n",
       "\n",
       "    this._resize_canvas = function (width, height, forward) {\n",
       "        if (forward) {\n",
       "            canvas_div.style.width = width + 'px';\n",
       "            canvas_div.style.height = height + 'px';\n",
       "        }\n",
       "    };\n",
       "\n",
       "    // Disable right mouse context menu.\n",
       "    canvas_div.addEventListener('contextmenu', function (_e) {\n",
       "        event.preventDefault();\n",
       "        return false;\n",
       "    });\n",
       "\n",
       "    function set_focus() {\n",
       "        canvas.focus();\n",
       "        canvas_div.focus();\n",
       "    }\n",
       "\n",
       "    window.setTimeout(set_focus, 100);\n",
       "};\n",
       "\n",
       "mpl.figure.prototype._init_toolbar = function () {\n",
       "    var fig = this;\n",
       "\n",
       "    var toolbar = document.createElement('div');\n",
       "    toolbar.classList = 'mpl-toolbar';\n",
       "    this.root.appendChild(toolbar);\n",
       "\n",
       "    function on_click_closure(name) {\n",
       "        return function (_event) {\n",
       "            return fig.toolbar_button_onclick(name);\n",
       "        };\n",
       "    }\n",
       "\n",
       "    function on_mouseover_closure(tooltip) {\n",
       "        return function (event) {\n",
       "            if (!event.currentTarget.disabled) {\n",
       "                return fig.toolbar_button_onmouseover(tooltip);\n",
       "            }\n",
       "        };\n",
       "    }\n",
       "\n",
       "    fig.buttons = {};\n",
       "    var buttonGroup = document.createElement('div');\n",
       "    buttonGroup.classList = 'mpl-button-group';\n",
       "    for (var toolbar_ind in mpl.toolbar_items) {\n",
       "        var name = mpl.toolbar_items[toolbar_ind][0];\n",
       "        var tooltip = mpl.toolbar_items[toolbar_ind][1];\n",
       "        var image = mpl.toolbar_items[toolbar_ind][2];\n",
       "        var method_name = mpl.toolbar_items[toolbar_ind][3];\n",
       "\n",
       "        if (!name) {\n",
       "            /* Instead of a spacer, we start a new button group. */\n",
       "            if (buttonGroup.hasChildNodes()) {\n",
       "                toolbar.appendChild(buttonGroup);\n",
       "            }\n",
       "            buttonGroup = document.createElement('div');\n",
       "            buttonGroup.classList = 'mpl-button-group';\n",
       "            continue;\n",
       "        }\n",
       "\n",
       "        var button = (fig.buttons[name] = document.createElement('button'));\n",
       "        button.classList = 'mpl-widget';\n",
       "        button.setAttribute('role', 'button');\n",
       "        button.setAttribute('aria-disabled', 'false');\n",
       "        button.addEventListener('click', on_click_closure(method_name));\n",
       "        button.addEventListener('mouseover', on_mouseover_closure(tooltip));\n",
       "\n",
       "        var icon_img = document.createElement('img');\n",
       "        icon_img.src = '_images/' + image + '.png';\n",
       "        icon_img.srcset = '_images/' + image + '_large.png 2x';\n",
       "        icon_img.alt = tooltip;\n",
       "        button.appendChild(icon_img);\n",
       "\n",
       "        buttonGroup.appendChild(button);\n",
       "    }\n",
       "\n",
       "    if (buttonGroup.hasChildNodes()) {\n",
       "        toolbar.appendChild(buttonGroup);\n",
       "    }\n",
       "\n",
       "    var fmt_picker = document.createElement('select');\n",
       "    fmt_picker.classList = 'mpl-widget';\n",
       "    toolbar.appendChild(fmt_picker);\n",
       "    this.format_dropdown = fmt_picker;\n",
       "\n",
       "    for (var ind in mpl.extensions) {\n",
       "        var fmt = mpl.extensions[ind];\n",
       "        var option = document.createElement('option');\n",
       "        option.selected = fmt === mpl.default_extension;\n",
       "        option.innerHTML = fmt;\n",
       "        fmt_picker.appendChild(option);\n",
       "    }\n",
       "\n",
       "    var status_bar = document.createElement('span');\n",
       "    status_bar.classList = 'mpl-message';\n",
       "    toolbar.appendChild(status_bar);\n",
       "    this.message = status_bar;\n",
       "};\n",
       "\n",
       "mpl.figure.prototype.request_resize = function (x_pixels, y_pixels) {\n",
       "    // Request matplotlib to resize the figure. Matplotlib will then trigger a resize in the client,\n",
       "    // which will in turn request a refresh of the image.\n",
       "    this.send_message('resize', { width: x_pixels, height: y_pixels });\n",
       "};\n",
       "\n",
       "mpl.figure.prototype.send_message = function (type, properties) {\n",
       "    properties['type'] = type;\n",
       "    properties['figure_id'] = this.id;\n",
       "    this.ws.send(JSON.stringify(properties));\n",
       "};\n",
       "\n",
       "mpl.figure.prototype.send_draw_message = function () {\n",
       "    if (!this.waiting) {\n",
       "        this.waiting = true;\n",
       "        this.ws.send(JSON.stringify({ type: 'draw', figure_id: this.id }));\n",
       "    }\n",
       "};\n",
       "\n",
       "mpl.figure.prototype.handle_save = function (fig, _msg) {\n",
       "    var format_dropdown = fig.format_dropdown;\n",
       "    var format = format_dropdown.options[format_dropdown.selectedIndex].value;\n",
       "    fig.ondownload(fig, format);\n",
       "};\n",
       "\n",
       "mpl.figure.prototype.handle_resize = function (fig, msg) {\n",
       "    var size = msg['size'];\n",
       "    if (size[0] !== fig.canvas.width || size[1] !== fig.canvas.height) {\n",
       "        fig._resize_canvas(size[0], size[1], msg['forward']);\n",
       "        fig.send_message('refresh', {});\n",
       "    }\n",
       "};\n",
       "\n",
       "mpl.figure.prototype.handle_rubberband = function (fig, msg) {\n",
       "    var x0 = msg['x0'] / fig.ratio;\n",
       "    var y0 = (fig.canvas.height - msg['y0']) / fig.ratio;\n",
       "    var x1 = msg['x1'] / fig.ratio;\n",
       "    var y1 = (fig.canvas.height - msg['y1']) / fig.ratio;\n",
       "    x0 = Math.floor(x0) + 0.5;\n",
       "    y0 = Math.floor(y0) + 0.5;\n",
       "    x1 = Math.floor(x1) + 0.5;\n",
       "    y1 = Math.floor(y1) + 0.5;\n",
       "    var min_x = Math.min(x0, x1);\n",
       "    var min_y = Math.min(y0, y1);\n",
       "    var width = Math.abs(x1 - x0);\n",
       "    var height = Math.abs(y1 - y0);\n",
       "\n",
       "    fig.rubberband_context.clearRect(\n",
       "        0,\n",
       "        0,\n",
       "        fig.canvas.width / fig.ratio,\n",
       "        fig.canvas.height / fig.ratio\n",
       "    );\n",
       "\n",
       "    fig.rubberband_context.strokeRect(min_x, min_y, width, height);\n",
       "};\n",
       "\n",
       "mpl.figure.prototype.handle_figure_label = function (fig, msg) {\n",
       "    // Updates the figure title.\n",
       "    fig.header.textContent = msg['label'];\n",
       "};\n",
       "\n",
       "mpl.figure.prototype.handle_cursor = function (fig, msg) {\n",
       "    fig.canvas_div.style.cursor = msg['cursor'];\n",
       "};\n",
       "\n",
       "mpl.figure.prototype.handle_message = function (fig, msg) {\n",
       "    fig.message.textContent = msg['message'];\n",
       "};\n",
       "\n",
       "mpl.figure.prototype.handle_draw = function (fig, _msg) {\n",
       "    // Request the server to send over a new figure.\n",
       "    fig.send_draw_message();\n",
       "};\n",
       "\n",
       "mpl.figure.prototype.handle_image_mode = function (fig, msg) {\n",
       "    fig.image_mode = msg['mode'];\n",
       "};\n",
       "\n",
       "mpl.figure.prototype.handle_history_buttons = function (fig, msg) {\n",
       "    for (var key in msg) {\n",
       "        if (!(key in fig.buttons)) {\n",
       "            continue;\n",
       "        }\n",
       "        fig.buttons[key].disabled = !msg[key];\n",
       "        fig.buttons[key].setAttribute('aria-disabled', !msg[key]);\n",
       "    }\n",
       "};\n",
       "\n",
       "mpl.figure.prototype.handle_navigate_mode = function (fig, msg) {\n",
       "    if (msg['mode'] === 'PAN') {\n",
       "        fig.buttons['Pan'].classList.add('active');\n",
       "        fig.buttons['Zoom'].classList.remove('active');\n",
       "    } else if (msg['mode'] === 'ZOOM') {\n",
       "        fig.buttons['Pan'].classList.remove('active');\n",
       "        fig.buttons['Zoom'].classList.add('active');\n",
       "    } else {\n",
       "        fig.buttons['Pan'].classList.remove('active');\n",
       "        fig.buttons['Zoom'].classList.remove('active');\n",
       "    }\n",
       "};\n",
       "\n",
       "mpl.figure.prototype.updated_canvas_event = function () {\n",
       "    // Called whenever the canvas gets updated.\n",
       "    this.send_message('ack', {});\n",
       "};\n",
       "\n",
       "// A function to construct a web socket function for onmessage handling.\n",
       "// Called in the figure constructor.\n",
       "mpl.figure.prototype._make_on_message_function = function (fig) {\n",
       "    return function socket_on_message(evt) {\n",
       "        if (evt.data instanceof Blob) {\n",
       "            var img = evt.data;\n",
       "            if (img.type !== 'image/png') {\n",
       "                /* FIXME: We get \"Resource interpreted as Image but\n",
       "                 * transferred with MIME type text/plain:\" errors on\n",
       "                 * Chrome.  But how to set the MIME type?  It doesn't seem\n",
       "                 * to be part of the websocket stream */\n",
       "                img.type = 'image/png';\n",
       "            }\n",
       "\n",
       "            /* Free the memory for the previous frames */\n",
       "            if (fig.imageObj.src) {\n",
       "                (window.URL || window.webkitURL).revokeObjectURL(\n",
       "                    fig.imageObj.src\n",
       "                );\n",
       "            }\n",
       "\n",
       "            fig.imageObj.src = (window.URL || window.webkitURL).createObjectURL(\n",
       "                img\n",
       "            );\n",
       "            fig.updated_canvas_event();\n",
       "            fig.waiting = false;\n",
       "            return;\n",
       "        } else if (\n",
       "            typeof evt.data === 'string' &&\n",
       "            evt.data.slice(0, 21) === 'data:image/png;base64'\n",
       "        ) {\n",
       "            fig.imageObj.src = evt.data;\n",
       "            fig.updated_canvas_event();\n",
       "            fig.waiting = false;\n",
       "            return;\n",
       "        }\n",
       "\n",
       "        var msg = JSON.parse(evt.data);\n",
       "        var msg_type = msg['type'];\n",
       "\n",
       "        // Call the  \"handle_{type}\" callback, which takes\n",
       "        // the figure and JSON message as its only arguments.\n",
       "        try {\n",
       "            var callback = fig['handle_' + msg_type];\n",
       "        } catch (e) {\n",
       "            console.log(\n",
       "                \"No handler for the '\" + msg_type + \"' message type: \",\n",
       "                msg\n",
       "            );\n",
       "            return;\n",
       "        }\n",
       "\n",
       "        if (callback) {\n",
       "            try {\n",
       "                // console.log(\"Handling '\" + msg_type + \"' message: \", msg);\n",
       "                callback(fig, msg);\n",
       "            } catch (e) {\n",
       "                console.log(\n",
       "                    \"Exception inside the 'handler_\" + msg_type + \"' callback:\",\n",
       "                    e,\n",
       "                    e.stack,\n",
       "                    msg\n",
       "                );\n",
       "            }\n",
       "        }\n",
       "    };\n",
       "};\n",
       "\n",
       "function getModifiers(event) {\n",
       "    var mods = [];\n",
       "    if (event.ctrlKey) {\n",
       "        mods.push('ctrl');\n",
       "    }\n",
       "    if (event.altKey) {\n",
       "        mods.push('alt');\n",
       "    }\n",
       "    if (event.shiftKey) {\n",
       "        mods.push('shift');\n",
       "    }\n",
       "    if (event.metaKey) {\n",
       "        mods.push('meta');\n",
       "    }\n",
       "    return mods;\n",
       "}\n",
       "\n",
       "/*\n",
       " * return a copy of an object with only non-object keys\n",
       " * we need this to avoid circular references\n",
       " * https://stackoverflow.com/a/24161582/3208463\n",
       " */\n",
       "function simpleKeys(original) {\n",
       "    return Object.keys(original).reduce(function (obj, key) {\n",
       "        if (typeof original[key] !== 'object') {\n",
       "            obj[key] = original[key];\n",
       "        }\n",
       "        return obj;\n",
       "    }, {});\n",
       "}\n",
       "\n",
       "mpl.figure.prototype.mouse_event = function (event, name) {\n",
       "    if (name === 'button_press') {\n",
       "        this.canvas.focus();\n",
       "        this.canvas_div.focus();\n",
       "    }\n",
       "\n",
       "    // from https://stackoverflow.com/q/1114465\n",
       "    var boundingRect = this.canvas.getBoundingClientRect();\n",
       "    var x = (event.clientX - boundingRect.left) * this.ratio;\n",
       "    var y = (event.clientY - boundingRect.top) * this.ratio;\n",
       "\n",
       "    this.send_message(name, {\n",
       "        x: x,\n",
       "        y: y,\n",
       "        button: event.button,\n",
       "        step: event.step,\n",
       "        modifiers: getModifiers(event),\n",
       "        guiEvent: simpleKeys(event),\n",
       "    });\n",
       "\n",
       "    return false;\n",
       "};\n",
       "\n",
       "mpl.figure.prototype._key_event_extra = function (_event, _name) {\n",
       "    // Handle any extra behaviour associated with a key event\n",
       "};\n",
       "\n",
       "mpl.figure.prototype.key_event = function (event, name) {\n",
       "    // Prevent repeat events\n",
       "    if (name === 'key_press') {\n",
       "        if (event.key === this._key) {\n",
       "            return;\n",
       "        } else {\n",
       "            this._key = event.key;\n",
       "        }\n",
       "    }\n",
       "    if (name === 'key_release') {\n",
       "        this._key = null;\n",
       "    }\n",
       "\n",
       "    var value = '';\n",
       "    if (event.ctrlKey && event.key !== 'Control') {\n",
       "        value += 'ctrl+';\n",
       "    }\n",
       "    else if (event.altKey && event.key !== 'Alt') {\n",
       "        value += 'alt+';\n",
       "    }\n",
       "    else if (event.shiftKey && event.key !== 'Shift') {\n",
       "        value += 'shift+';\n",
       "    }\n",
       "\n",
       "    value += 'k' + event.key;\n",
       "\n",
       "    this._key_event_extra(event, name);\n",
       "\n",
       "    this.send_message(name, { key: value, guiEvent: simpleKeys(event) });\n",
       "    return false;\n",
       "};\n",
       "\n",
       "mpl.figure.prototype.toolbar_button_onclick = function (name) {\n",
       "    if (name === 'download') {\n",
       "        this.handle_save(this, null);\n",
       "    } else {\n",
       "        this.send_message('toolbar_button', { name: name });\n",
       "    }\n",
       "};\n",
       "\n",
       "mpl.figure.prototype.toolbar_button_onmouseover = function (tooltip) {\n",
       "    this.message.textContent = tooltip;\n",
       "};\n",
       "\n",
       "///////////////// REMAINING CONTENT GENERATED BY embed_js.py /////////////////\n",
       "// prettier-ignore\n",
       "var _JSXTOOLS_RESIZE_OBSERVER=function(A){var t,i=new WeakMap,n=new WeakMap,a=new WeakMap,r=new WeakMap,o=new Set;function s(e){if(!(this instanceof s))throw new TypeError(\"Constructor requires 'new' operator\");i.set(this,e)}function h(){throw new TypeError(\"Function is not a constructor\")}function c(e,t,i,n){e=0 in arguments?Number(arguments[0]):0,t=1 in arguments?Number(arguments[1]):0,i=2 in arguments?Number(arguments[2]):0,n=3 in arguments?Number(arguments[3]):0,this.right=(this.x=this.left=e)+(this.width=i),this.bottom=(this.y=this.top=t)+(this.height=n),Object.freeze(this)}function d(){t=requestAnimationFrame(d);var s=new WeakMap,p=new Set;o.forEach((function(t){r.get(t).forEach((function(i){var r=t instanceof window.SVGElement,o=a.get(t),d=r?0:parseFloat(o.paddingTop),f=r?0:parseFloat(o.paddingRight),l=r?0:parseFloat(o.paddingBottom),u=r?0:parseFloat(o.paddingLeft),g=r?0:parseFloat(o.borderTopWidth),m=r?0:parseFloat(o.borderRightWidth),w=r?0:parseFloat(o.borderBottomWidth),b=u+f,F=d+l,v=(r?0:parseFloat(o.borderLeftWidth))+m,W=g+w,y=r?0:t.offsetHeight-W-t.clientHeight,E=r?0:t.offsetWidth-v-t.clientWidth,R=b+v,z=F+W,M=r?t.width:parseFloat(o.width)-R-E,O=r?t.height:parseFloat(o.height)-z-y;if(n.has(t)){var k=n.get(t);if(k[0]===M&&k[1]===O)return}n.set(t,[M,O]);var S=Object.create(h.prototype);S.target=t,S.contentRect=new c(u,d,M,O),s.has(i)||(s.set(i,[]),p.add(i)),s.get(i).push(S)}))})),p.forEach((function(e){i.get(e).call(e,s.get(e),e)}))}return s.prototype.observe=function(i){if(i instanceof window.Element){r.has(i)||(r.set(i,new Set),o.add(i),a.set(i,window.getComputedStyle(i)));var n=r.get(i);n.has(this)||n.add(this),cancelAnimationFrame(t),t=requestAnimationFrame(d)}},s.prototype.unobserve=function(i){if(i instanceof window.Element&&r.has(i)){var n=r.get(i);n.has(this)&&(n.delete(this),n.size||(r.delete(i),o.delete(i))),n.size||r.delete(i),o.size||cancelAnimationFrame(t)}},A.DOMRectReadOnly=c,A.ResizeObserver=s,A.ResizeObserverEntry=h,A}; // eslint-disable-line\n",
       "mpl.toolbar_items = [[\"Home\", \"Reset original view\", \"fa fa-home\", \"home\"], [\"Back\", \"Back to previous view\", \"fa fa-arrow-left\", \"back\"], [\"Forward\", \"Forward to next view\", \"fa fa-arrow-right\", \"forward\"], [\"\", \"\", \"\", \"\"], [\"Pan\", \"Left button pans, Right button zooms\\nx/y fixes axis, CTRL fixes aspect\", \"fa fa-arrows\", \"pan\"], [\"Zoom\", \"Zoom to rectangle\\nx/y fixes axis\", \"fa fa-square-o\", \"zoom\"], [\"\", \"\", \"\", \"\"], [\"Download\", \"Download plot\", \"fa fa-floppy-o\", \"download\"]];\n",
       "\n",
       "mpl.extensions = [\"eps\", \"jpeg\", \"pgf\", \"pdf\", \"png\", \"ps\", \"raw\", \"svg\", \"tif\", \"webp\"];\n",
       "\n",
       "mpl.default_extension = \"png\";/* global mpl */\n",
       "\n",
       "var comm_websocket_adapter = function (comm) {\n",
       "    // Create a \"websocket\"-like object which calls the given IPython comm\n",
       "    // object with the appropriate methods. Currently this is a non binary\n",
       "    // socket, so there is still some room for performance tuning.\n",
       "    var ws = {};\n",
       "\n",
       "    ws.binaryType = comm.kernel.ws.binaryType;\n",
       "    ws.readyState = comm.kernel.ws.readyState;\n",
       "    function updateReadyState(_event) {\n",
       "        if (comm.kernel.ws) {\n",
       "            ws.readyState = comm.kernel.ws.readyState;\n",
       "        } else {\n",
       "            ws.readyState = 3; // Closed state.\n",
       "        }\n",
       "    }\n",
       "    comm.kernel.ws.addEventListener('open', updateReadyState);\n",
       "    comm.kernel.ws.addEventListener('close', updateReadyState);\n",
       "    comm.kernel.ws.addEventListener('error', updateReadyState);\n",
       "\n",
       "    ws.close = function () {\n",
       "        comm.close();\n",
       "    };\n",
       "    ws.send = function (m) {\n",
       "        //console.log('sending', m);\n",
       "        comm.send(m);\n",
       "    };\n",
       "    // Register the callback with on_msg.\n",
       "    comm.on_msg(function (msg) {\n",
       "        //console.log('receiving', msg['content']['data'], msg);\n",
       "        var data = msg['content']['data'];\n",
       "        if (data['blob'] !== undefined) {\n",
       "            data = {\n",
       "                data: new Blob(msg['buffers'], { type: data['blob'] }),\n",
       "            };\n",
       "        }\n",
       "        // Pass the mpl event to the overridden (by mpl) onmessage function.\n",
       "        ws.onmessage(data);\n",
       "    });\n",
       "    return ws;\n",
       "};\n",
       "\n",
       "mpl.mpl_figure_comm = function (comm, msg) {\n",
       "    // This is the function which gets called when the mpl process\n",
       "    // starts-up an IPython Comm through the \"matplotlib\" channel.\n",
       "\n",
       "    var id = msg.content.data.id;\n",
       "    // Get hold of the div created by the display call when the Comm\n",
       "    // socket was opened in Python.\n",
       "    var element = document.getElementById(id);\n",
       "    var ws_proxy = comm_websocket_adapter(comm);\n",
       "\n",
       "    function ondownload(figure, _format) {\n",
       "        window.open(figure.canvas.toDataURL());\n",
       "    }\n",
       "\n",
       "    var fig = new mpl.figure(id, ws_proxy, ondownload, element);\n",
       "\n",
       "    // Call onopen now - mpl needs it, as it is assuming we've passed it a real\n",
       "    // web socket which is closed, not our websocket->open comm proxy.\n",
       "    ws_proxy.onopen();\n",
       "\n",
       "    fig.parent_element = element;\n",
       "    fig.cell_info = mpl.find_output_cell(\"<div id='\" + id + \"'></div>\");\n",
       "    if (!fig.cell_info) {\n",
       "        console.error('Failed to find cell for figure', id, fig);\n",
       "        return;\n",
       "    }\n",
       "    fig.cell_info[0].output_area.element.on(\n",
       "        'cleared',\n",
       "        { fig: fig },\n",
       "        fig._remove_fig_handler\n",
       "    );\n",
       "};\n",
       "\n",
       "mpl.figure.prototype.handle_close = function (fig, msg) {\n",
       "    var width = fig.canvas.width / fig.ratio;\n",
       "    fig.cell_info[0].output_area.element.off(\n",
       "        'cleared',\n",
       "        fig._remove_fig_handler\n",
       "    );\n",
       "    fig.resizeObserverInstance.unobserve(fig.canvas_div);\n",
       "\n",
       "    // Update the output cell to use the data from the current canvas.\n",
       "    fig.push_to_output();\n",
       "    var dataURL = fig.canvas.toDataURL();\n",
       "    // Re-enable the keyboard manager in IPython - without this line, in FF,\n",
       "    // the notebook keyboard shortcuts fail.\n",
       "    IPython.keyboard_manager.enable();\n",
       "    fig.parent_element.innerHTML =\n",
       "        '<img src=\"' + dataURL + '\" width=\"' + width + '\">';\n",
       "    fig.close_ws(fig, msg);\n",
       "};\n",
       "\n",
       "mpl.figure.prototype.close_ws = function (fig, msg) {\n",
       "    fig.send_message('closing', msg);\n",
       "    // fig.ws.close()\n",
       "};\n",
       "\n",
       "mpl.figure.prototype.push_to_output = function (_remove_interactive) {\n",
       "    // Turn the data on the canvas into data in the output cell.\n",
       "    var width = this.canvas.width / this.ratio;\n",
       "    var dataURL = this.canvas.toDataURL();\n",
       "    this.cell_info[1]['text/html'] =\n",
       "        '<img src=\"' + dataURL + '\" width=\"' + width + '\">';\n",
       "};\n",
       "\n",
       "mpl.figure.prototype.updated_canvas_event = function () {\n",
       "    // Tell IPython that the notebook contents must change.\n",
       "    IPython.notebook.set_dirty(true);\n",
       "    this.send_message('ack', {});\n",
       "    var fig = this;\n",
       "    // Wait a second, then push the new image to the DOM so\n",
       "    // that it is saved nicely (might be nice to debounce this).\n",
       "    setTimeout(function () {\n",
       "        fig.push_to_output();\n",
       "    }, 1000);\n",
       "};\n",
       "\n",
       "mpl.figure.prototype._init_toolbar = function () {\n",
       "    var fig = this;\n",
       "\n",
       "    var toolbar = document.createElement('div');\n",
       "    toolbar.classList = 'btn-toolbar';\n",
       "    this.root.appendChild(toolbar);\n",
       "\n",
       "    function on_click_closure(name) {\n",
       "        return function (_event) {\n",
       "            return fig.toolbar_button_onclick(name);\n",
       "        };\n",
       "    }\n",
       "\n",
       "    function on_mouseover_closure(tooltip) {\n",
       "        return function (event) {\n",
       "            if (!event.currentTarget.disabled) {\n",
       "                return fig.toolbar_button_onmouseover(tooltip);\n",
       "            }\n",
       "        };\n",
       "    }\n",
       "\n",
       "    fig.buttons = {};\n",
       "    var buttonGroup = document.createElement('div');\n",
       "    buttonGroup.classList = 'btn-group';\n",
       "    var button;\n",
       "    for (var toolbar_ind in mpl.toolbar_items) {\n",
       "        var name = mpl.toolbar_items[toolbar_ind][0];\n",
       "        var tooltip = mpl.toolbar_items[toolbar_ind][1];\n",
       "        var image = mpl.toolbar_items[toolbar_ind][2];\n",
       "        var method_name = mpl.toolbar_items[toolbar_ind][3];\n",
       "\n",
       "        if (!name) {\n",
       "            /* Instead of a spacer, we start a new button group. */\n",
       "            if (buttonGroup.hasChildNodes()) {\n",
       "                toolbar.appendChild(buttonGroup);\n",
       "            }\n",
       "            buttonGroup = document.createElement('div');\n",
       "            buttonGroup.classList = 'btn-group';\n",
       "            continue;\n",
       "        }\n",
       "\n",
       "        button = fig.buttons[name] = document.createElement('button');\n",
       "        button.classList = 'btn btn-default';\n",
       "        button.href = '#';\n",
       "        button.title = name;\n",
       "        button.innerHTML = '<i class=\"fa ' + image + ' fa-lg\"></i>';\n",
       "        button.addEventListener('click', on_click_closure(method_name));\n",
       "        button.addEventListener('mouseover', on_mouseover_closure(tooltip));\n",
       "        buttonGroup.appendChild(button);\n",
       "    }\n",
       "\n",
       "    if (buttonGroup.hasChildNodes()) {\n",
       "        toolbar.appendChild(buttonGroup);\n",
       "    }\n",
       "\n",
       "    // Add the status bar.\n",
       "    var status_bar = document.createElement('span');\n",
       "    status_bar.classList = 'mpl-message pull-right';\n",
       "    toolbar.appendChild(status_bar);\n",
       "    this.message = status_bar;\n",
       "\n",
       "    // Add the close button to the window.\n",
       "    var buttongrp = document.createElement('div');\n",
       "    buttongrp.classList = 'btn-group inline pull-right';\n",
       "    button = document.createElement('button');\n",
       "    button.classList = 'btn btn-mini btn-primary';\n",
       "    button.href = '#';\n",
       "    button.title = 'Stop Interaction';\n",
       "    button.innerHTML = '<i class=\"fa fa-power-off icon-remove icon-large\"></i>';\n",
       "    button.addEventListener('click', function (_evt) {\n",
       "        fig.handle_close(fig, {});\n",
       "    });\n",
       "    button.addEventListener(\n",
       "        'mouseover',\n",
       "        on_mouseover_closure('Stop Interaction')\n",
       "    );\n",
       "    buttongrp.appendChild(button);\n",
       "    var titlebar = this.root.querySelector('.ui-dialog-titlebar');\n",
       "    titlebar.insertBefore(buttongrp, titlebar.firstChild);\n",
       "};\n",
       "\n",
       "mpl.figure.prototype._remove_fig_handler = function (event) {\n",
       "    var fig = event.data.fig;\n",
       "    if (event.target !== this) {\n",
       "        // Ignore bubbled events from children.\n",
       "        return;\n",
       "    }\n",
       "    fig.close_ws(fig, {});\n",
       "};\n",
       "\n",
       "mpl.figure.prototype._root_extra_style = function (el) {\n",
       "    el.style.boxSizing = 'content-box'; // override notebook setting of border-box.\n",
       "};\n",
       "\n",
       "mpl.figure.prototype._canvas_extra_style = function (el) {\n",
       "    // this is important to make the div 'focusable\n",
       "    el.setAttribute('tabindex', 0);\n",
       "    // reach out to IPython and tell the keyboard manager to turn it's self\n",
       "    // off when our div gets focus\n",
       "\n",
       "    // location in version 3\n",
       "    if (IPython.notebook.keyboard_manager) {\n",
       "        IPython.notebook.keyboard_manager.register_events(el);\n",
       "    } else {\n",
       "        // location in version 2\n",
       "        IPython.keyboard_manager.register_events(el);\n",
       "    }\n",
       "};\n",
       "\n",
       "mpl.figure.prototype._key_event_extra = function (event, _name) {\n",
       "    // Check for shift+enter\n",
       "    if (event.shiftKey && event.which === 13) {\n",
       "        this.canvas_div.blur();\n",
       "        // select the cell after this one\n",
       "        var index = IPython.notebook.find_cell_index(this.cell_info[0]);\n",
       "        IPython.notebook.select(index + 1);\n",
       "    }\n",
       "};\n",
       "\n",
       "mpl.figure.prototype.handle_save = function (fig, _msg) {\n",
       "    fig.ondownload(fig, null);\n",
       "};\n",
       "\n",
       "mpl.find_output_cell = function (html_output) {\n",
       "    // Return the cell and output element which can be found *uniquely* in the notebook.\n",
       "    // Note - this is a bit hacky, but it is done because the \"notebook_saving.Notebook\"\n",
       "    // IPython event is triggered only after the cells have been serialised, which for\n",
       "    // our purposes (turning an active figure into a static one), is too late.\n",
       "    var cells = IPython.notebook.get_cells();\n",
       "    var ncells = cells.length;\n",
       "    for (var i = 0; i < ncells; i++) {\n",
       "        var cell = cells[i];\n",
       "        if (cell.cell_type === 'code') {\n",
       "            for (var j = 0; j < cell.output_area.outputs.length; j++) {\n",
       "                var data = cell.output_area.outputs[j];\n",
       "                if (data.data) {\n",
       "                    // IPython >= 3 moved mimebundle to data attribute of output\n",
       "                    data = data.data;\n",
       "                }\n",
       "                if (data['text/html'] === html_output) {\n",
       "                    return [cell, data, j];\n",
       "                }\n",
       "            }\n",
       "        }\n",
       "    }\n",
       "};\n",
       "\n",
       "// Register the function which deals with the matplotlib target/channel.\n",
       "// The kernel may be null if the page has been refreshed.\n",
       "if (IPython.notebook.kernel !== null) {\n",
       "    IPython.notebook.kernel.comm_manager.register_target(\n",
       "        'matplotlib',\n",
       "        mpl.mpl_figure_comm\n",
       "    );\n",
       "}\n"
      ],
      "text/plain": [
       "<IPython.core.display.Javascript object>"
      ]
     },
     "metadata": {},
     "output_type": "display_data"
    },
    {
     "data": {
      "text/html": [
       "<img src=\"data:image/png;base64,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\" width=\"800\">"
      ],
      "text/plain": [
       "<IPython.core.display.HTML object>"
      ]
     },
     "metadata": {},
     "output_type": "display_data"
    },
    {
     "data": {
      "text/plain": [
       "<Axes: title={'center': 'March Madness Tournament Teams by Conference'}, xlabel='Count of Teams in March Madness', ylabel='Conference'>"
      ]
     },
     "execution_count": 8,
     "metadata": {},
     "output_type": "execute_result"
    }
   ],
   "source": [
    "#Top 80 KenPom teams conference distribution\n",
    "fig, ax = plt.subplots(figsize=(8,6))\n",
    "\n",
    "KenPom.groupby(\"Conf\").count().Team.sort_values().plot.barh(ax=ax,\n",
    "                                                            ylabel=\"Conference\", \n",
    "                                                            xlabel=\"Count of Teams in March Madness\", \n",
    "                                                            title = \"March Madness Tournament Teams by Conference\")"
   ]
  },
  {
   "cell_type": "code",
   "execution_count": 9,
   "id": "c5957a74",
   "metadata": {
    "scrolled": true
   },
   "outputs": [
    {
     "data": {
      "application/javascript": [
       "/* Put everything inside the global mpl namespace */\n",
       "/* global mpl */\n",
       "window.mpl = {};\n",
       "\n",
       "mpl.get_websocket_type = function () {\n",
       "    if (typeof WebSocket !== 'undefined') {\n",
       "        return WebSocket;\n",
       "    } else if (typeof MozWebSocket !== 'undefined') {\n",
       "        return MozWebSocket;\n",
       "    } else {\n",
       "        alert(\n",
       "            'Your browser does not have WebSocket support. ' +\n",
       "                'Please try Chrome, Safari or Firefox ≥ 6. ' +\n",
       "                'Firefox 4 and 5 are also supported but you ' +\n",
       "                'have to enable WebSockets in about:config.'\n",
       "        );\n",
       "    }\n",
       "};\n",
       "\n",
       "mpl.figure = function (figure_id, websocket, ondownload, parent_element) {\n",
       "    this.id = figure_id;\n",
       "\n",
       "    this.ws = websocket;\n",
       "\n",
       "    this.supports_binary = this.ws.binaryType !== undefined;\n",
       "\n",
       "    if (!this.supports_binary) {\n",
       "        var warnings = document.getElementById('mpl-warnings');\n",
       "        if (warnings) {\n",
       "            warnings.style.display = 'block';\n",
       "            warnings.textContent =\n",
       "                'This browser does not support binary websocket messages. ' +\n",
       "                'Performance may be slow.';\n",
       "        }\n",
       "    }\n",
       "\n",
       "    this.imageObj = new Image();\n",
       "\n",
       "    this.context = undefined;\n",
       "    this.message = undefined;\n",
       "    this.canvas = undefined;\n",
       "    this.rubberband_canvas = undefined;\n",
       "    this.rubberband_context = undefined;\n",
       "    this.format_dropdown = undefined;\n",
       "\n",
       "    this.image_mode = 'full';\n",
       "\n",
       "    this.root = document.createElement('div');\n",
       "    this.root.setAttribute('style', 'display: inline-block');\n",
       "    this._root_extra_style(this.root);\n",
       "\n",
       "    parent_element.appendChild(this.root);\n",
       "\n",
       "    this._init_header(this);\n",
       "    this._init_canvas(this);\n",
       "    this._init_toolbar(this);\n",
       "\n",
       "    var fig = this;\n",
       "\n",
       "    this.waiting = false;\n",
       "\n",
       "    this.ws.onopen = function () {\n",
       "        fig.send_message('supports_binary', { value: fig.supports_binary });\n",
       "        fig.send_message('send_image_mode', {});\n",
       "        if (fig.ratio !== 1) {\n",
       "            fig.send_message('set_device_pixel_ratio', {\n",
       "                device_pixel_ratio: fig.ratio,\n",
       "            });\n",
       "        }\n",
       "        fig.send_message('refresh', {});\n",
       "    };\n",
       "\n",
       "    this.imageObj.onload = function () {\n",
       "        if (fig.image_mode === 'full') {\n",
       "            // Full images could contain transparency (where diff images\n",
       "            // almost always do), so we need to clear the canvas so that\n",
       "            // there is no ghosting.\n",
       "            fig.context.clearRect(0, 0, fig.canvas.width, fig.canvas.height);\n",
       "        }\n",
       "        fig.context.drawImage(fig.imageObj, 0, 0);\n",
       "    };\n",
       "\n",
       "    this.imageObj.onunload = function () {\n",
       "        fig.ws.close();\n",
       "    };\n",
       "\n",
       "    this.ws.onmessage = this._make_on_message_function(this);\n",
       "\n",
       "    this.ondownload = ondownload;\n",
       "};\n",
       "\n",
       "mpl.figure.prototype._init_header = function () {\n",
       "    var titlebar = document.createElement('div');\n",
       "    titlebar.classList =\n",
       "        'ui-dialog-titlebar ui-widget-header ui-corner-all ui-helper-clearfix';\n",
       "    var titletext = document.createElement('div');\n",
       "    titletext.classList = 'ui-dialog-title';\n",
       "    titletext.setAttribute(\n",
       "        'style',\n",
       "        'width: 100%; text-align: center; padding: 3px;'\n",
       "    );\n",
       "    titlebar.appendChild(titletext);\n",
       "    this.root.appendChild(titlebar);\n",
       "    this.header = titletext;\n",
       "};\n",
       "\n",
       "mpl.figure.prototype._canvas_extra_style = function (_canvas_div) {};\n",
       "\n",
       "mpl.figure.prototype._root_extra_style = function (_canvas_div) {};\n",
       "\n",
       "mpl.figure.prototype._init_canvas = function () {\n",
       "    var fig = this;\n",
       "\n",
       "    var canvas_div = (this.canvas_div = document.createElement('div'));\n",
       "    canvas_div.setAttribute('tabindex', '0');\n",
       "    canvas_div.setAttribute(\n",
       "        'style',\n",
       "        'border: 1px solid #ddd;' +\n",
       "            'box-sizing: content-box;' +\n",
       "            'clear: both;' +\n",
       "            'min-height: 1px;' +\n",
       "            'min-width: 1px;' +\n",
       "            'outline: 0;' +\n",
       "            'overflow: hidden;' +\n",
       "            'position: relative;' +\n",
       "            'resize: both;' +\n",
       "            'z-index: 2;'\n",
       "    );\n",
       "\n",
       "    function on_keyboard_event_closure(name) {\n",
       "        return function (event) {\n",
       "            return fig.key_event(event, name);\n",
       "        };\n",
       "    }\n",
       "\n",
       "    canvas_div.addEventListener(\n",
       "        'keydown',\n",
       "        on_keyboard_event_closure('key_press')\n",
       "    );\n",
       "    canvas_div.addEventListener(\n",
       "        'keyup',\n",
       "        on_keyboard_event_closure('key_release')\n",
       "    );\n",
       "\n",
       "    this._canvas_extra_style(canvas_div);\n",
       "    this.root.appendChild(canvas_div);\n",
       "\n",
       "    var canvas = (this.canvas = document.createElement('canvas'));\n",
       "    canvas.classList.add('mpl-canvas');\n",
       "    canvas.setAttribute(\n",
       "        'style',\n",
       "        'box-sizing: content-box;' +\n",
       "            'pointer-events: none;' +\n",
       "            'position: relative;' +\n",
       "            'z-index: 0;'\n",
       "    );\n",
       "\n",
       "    this.context = canvas.getContext('2d');\n",
       "\n",
       "    var backingStore =\n",
       "        this.context.backingStorePixelRatio ||\n",
       "        this.context.webkitBackingStorePixelRatio ||\n",
       "        this.context.mozBackingStorePixelRatio ||\n",
       "        this.context.msBackingStorePixelRatio ||\n",
       "        this.context.oBackingStorePixelRatio ||\n",
       "        this.context.backingStorePixelRatio ||\n",
       "        1;\n",
       "\n",
       "    this.ratio = (window.devicePixelRatio || 1) / backingStore;\n",
       "\n",
       "    var rubberband_canvas = (this.rubberband_canvas = document.createElement(\n",
       "        'canvas'\n",
       "    ));\n",
       "    rubberband_canvas.setAttribute(\n",
       "        'style',\n",
       "        'box-sizing: content-box;' +\n",
       "            'left: 0;' +\n",
       "            'pointer-events: none;' +\n",
       "            'position: absolute;' +\n",
       "            'top: 0;' +\n",
       "            'z-index: 1;'\n",
       "    );\n",
       "\n",
       "    // Apply a ponyfill if ResizeObserver is not implemented by browser.\n",
       "    if (this.ResizeObserver === undefined) {\n",
       "        if (window.ResizeObserver !== undefined) {\n",
       "            this.ResizeObserver = window.ResizeObserver;\n",
       "        } else {\n",
       "            var obs = _JSXTOOLS_RESIZE_OBSERVER({});\n",
       "            this.ResizeObserver = obs.ResizeObserver;\n",
       "        }\n",
       "    }\n",
       "\n",
       "    this.resizeObserverInstance = new this.ResizeObserver(function (entries) {\n",
       "        var nentries = entries.length;\n",
       "        for (var i = 0; i < nentries; i++) {\n",
       "            var entry = entries[i];\n",
       "            var width, height;\n",
       "            if (entry.contentBoxSize) {\n",
       "                if (entry.contentBoxSize instanceof Array) {\n",
       "                    // Chrome 84 implements new version of spec.\n",
       "                    width = entry.contentBoxSize[0].inlineSize;\n",
       "                    height = entry.contentBoxSize[0].blockSize;\n",
       "                } else {\n",
       "                    // Firefox implements old version of spec.\n",
       "                    width = entry.contentBoxSize.inlineSize;\n",
       "                    height = entry.contentBoxSize.blockSize;\n",
       "                }\n",
       "            } else {\n",
       "                // Chrome <84 implements even older version of spec.\n",
       "                width = entry.contentRect.width;\n",
       "                height = entry.contentRect.height;\n",
       "            }\n",
       "\n",
       "            // Keep the size of the canvas and rubber band canvas in sync with\n",
       "            // the canvas container.\n",
       "            if (entry.devicePixelContentBoxSize) {\n",
       "                // Chrome 84 implements new version of spec.\n",
       "                canvas.setAttribute(\n",
       "                    'width',\n",
       "                    entry.devicePixelContentBoxSize[0].inlineSize\n",
       "                );\n",
       "                canvas.setAttribute(\n",
       "                    'height',\n",
       "                    entry.devicePixelContentBoxSize[0].blockSize\n",
       "                );\n",
       "            } else {\n",
       "                canvas.setAttribute('width', width * fig.ratio);\n",
       "                canvas.setAttribute('height', height * fig.ratio);\n",
       "            }\n",
       "            /* This rescales the canvas back to display pixels, so that it\n",
       "             * appears correct on HiDPI screens. */\n",
       "            canvas.style.width = width + 'px';\n",
       "            canvas.style.height = height + 'px';\n",
       "\n",
       "            rubberband_canvas.setAttribute('width', width);\n",
       "            rubberband_canvas.setAttribute('height', height);\n",
       "\n",
       "            // And update the size in Python. We ignore the initial 0/0 size\n",
       "            // that occurs as the element is placed into the DOM, which should\n",
       "            // otherwise not happen due to the minimum size styling.\n",
       "            if (fig.ws.readyState == 1 && width != 0 && height != 0) {\n",
       "                fig.request_resize(width, height);\n",
       "            }\n",
       "        }\n",
       "    });\n",
       "    this.resizeObserverInstance.observe(canvas_div);\n",
       "\n",
       "    function on_mouse_event_closure(name) {\n",
       "        /* User Agent sniffing is bad, but WebKit is busted:\n",
       "         * https://bugs.webkit.org/show_bug.cgi?id=144526\n",
       "         * https://bugs.webkit.org/show_bug.cgi?id=181818\n",
       "         * The worst that happens here is that they get an extra browser\n",
       "         * selection when dragging, if this check fails to catch them.\n",
       "         */\n",
       "        var UA = navigator.userAgent;\n",
       "        var isWebKit = /AppleWebKit/.test(UA) && !/Chrome/.test(UA);\n",
       "        if(isWebKit) {\n",
       "            return function (event) {\n",
       "                /* This prevents the web browser from automatically changing to\n",
       "                 * the text insertion cursor when the button is pressed. We\n",
       "                 * want to control all of the cursor setting manually through\n",
       "                 * the 'cursor' event from matplotlib */\n",
       "                event.preventDefault()\n",
       "                return fig.mouse_event(event, name);\n",
       "            };\n",
       "        } else {\n",
       "            return function (event) {\n",
       "                return fig.mouse_event(event, name);\n",
       "            };\n",
       "        }\n",
       "    }\n",
       "\n",
       "    canvas_div.addEventListener(\n",
       "        'mousedown',\n",
       "        on_mouse_event_closure('button_press')\n",
       "    );\n",
       "    canvas_div.addEventListener(\n",
       "        'mouseup',\n",
       "        on_mouse_event_closure('button_release')\n",
       "    );\n",
       "    canvas_div.addEventListener(\n",
       "        'dblclick',\n",
       "        on_mouse_event_closure('dblclick')\n",
       "    );\n",
       "    // Throttle sequential mouse events to 1 every 20ms.\n",
       "    canvas_div.addEventListener(\n",
       "        'mousemove',\n",
       "        on_mouse_event_closure('motion_notify')\n",
       "    );\n",
       "\n",
       "    canvas_div.addEventListener(\n",
       "        'mouseenter',\n",
       "        on_mouse_event_closure('figure_enter')\n",
       "    );\n",
       "    canvas_div.addEventListener(\n",
       "        'mouseleave',\n",
       "        on_mouse_event_closure('figure_leave')\n",
       "    );\n",
       "\n",
       "    canvas_div.addEventListener('wheel', function (event) {\n",
       "        if (event.deltaY < 0) {\n",
       "            event.step = 1;\n",
       "        } else {\n",
       "            event.step = -1;\n",
       "        }\n",
       "        on_mouse_event_closure('scroll')(event);\n",
       "    });\n",
       "\n",
       "    canvas_div.appendChild(canvas);\n",
       "    canvas_div.appendChild(rubberband_canvas);\n",
       "\n",
       "    this.rubberband_context = rubberband_canvas.getContext('2d');\n",
       "    this.rubberband_context.strokeStyle = '#000000';\n",
       "\n",
       "    this._resize_canvas = function (width, height, forward) {\n",
       "        if (forward) {\n",
       "            canvas_div.style.width = width + 'px';\n",
       "            canvas_div.style.height = height + 'px';\n",
       "        }\n",
       "    };\n",
       "\n",
       "    // Disable right mouse context menu.\n",
       "    canvas_div.addEventListener('contextmenu', function (_e) {\n",
       "        event.preventDefault();\n",
       "        return false;\n",
       "    });\n",
       "\n",
       "    function set_focus() {\n",
       "        canvas.focus();\n",
       "        canvas_div.focus();\n",
       "    }\n",
       "\n",
       "    window.setTimeout(set_focus, 100);\n",
       "};\n",
       "\n",
       "mpl.figure.prototype._init_toolbar = function () {\n",
       "    var fig = this;\n",
       "\n",
       "    var toolbar = document.createElement('div');\n",
       "    toolbar.classList = 'mpl-toolbar';\n",
       "    this.root.appendChild(toolbar);\n",
       "\n",
       "    function on_click_closure(name) {\n",
       "        return function (_event) {\n",
       "            return fig.toolbar_button_onclick(name);\n",
       "        };\n",
       "    }\n",
       "\n",
       "    function on_mouseover_closure(tooltip) {\n",
       "        return function (event) {\n",
       "            if (!event.currentTarget.disabled) {\n",
       "                return fig.toolbar_button_onmouseover(tooltip);\n",
       "            }\n",
       "        };\n",
       "    }\n",
       "\n",
       "    fig.buttons = {};\n",
       "    var buttonGroup = document.createElement('div');\n",
       "    buttonGroup.classList = 'mpl-button-group';\n",
       "    for (var toolbar_ind in mpl.toolbar_items) {\n",
       "        var name = mpl.toolbar_items[toolbar_ind][0];\n",
       "        var tooltip = mpl.toolbar_items[toolbar_ind][1];\n",
       "        var image = mpl.toolbar_items[toolbar_ind][2];\n",
       "        var method_name = mpl.toolbar_items[toolbar_ind][3];\n",
       "\n",
       "        if (!name) {\n",
       "            /* Instead of a spacer, we start a new button group. */\n",
       "            if (buttonGroup.hasChildNodes()) {\n",
       "                toolbar.appendChild(buttonGroup);\n",
       "            }\n",
       "            buttonGroup = document.createElement('div');\n",
       "            buttonGroup.classList = 'mpl-button-group';\n",
       "            continue;\n",
       "        }\n",
       "\n",
       "        var button = (fig.buttons[name] = document.createElement('button'));\n",
       "        button.classList = 'mpl-widget';\n",
       "        button.setAttribute('role', 'button');\n",
       "        button.setAttribute('aria-disabled', 'false');\n",
       "        button.addEventListener('click', on_click_closure(method_name));\n",
       "        button.addEventListener('mouseover', on_mouseover_closure(tooltip));\n",
       "\n",
       "        var icon_img = document.createElement('img');\n",
       "        icon_img.src = '_images/' + image + '.png';\n",
       "        icon_img.srcset = '_images/' + image + '_large.png 2x';\n",
       "        icon_img.alt = tooltip;\n",
       "        button.appendChild(icon_img);\n",
       "\n",
       "        buttonGroup.appendChild(button);\n",
       "    }\n",
       "\n",
       "    if (buttonGroup.hasChildNodes()) {\n",
       "        toolbar.appendChild(buttonGroup);\n",
       "    }\n",
       "\n",
       "    var fmt_picker = document.createElement('select');\n",
       "    fmt_picker.classList = 'mpl-widget';\n",
       "    toolbar.appendChild(fmt_picker);\n",
       "    this.format_dropdown = fmt_picker;\n",
       "\n",
       "    for (var ind in mpl.extensions) {\n",
       "        var fmt = mpl.extensions[ind];\n",
       "        var option = document.createElement('option');\n",
       "        option.selected = fmt === mpl.default_extension;\n",
       "        option.innerHTML = fmt;\n",
       "        fmt_picker.appendChild(option);\n",
       "    }\n",
       "\n",
       "    var status_bar = document.createElement('span');\n",
       "    status_bar.classList = 'mpl-message';\n",
       "    toolbar.appendChild(status_bar);\n",
       "    this.message = status_bar;\n",
       "};\n",
       "\n",
       "mpl.figure.prototype.request_resize = function (x_pixels, y_pixels) {\n",
       "    // Request matplotlib to resize the figure. Matplotlib will then trigger a resize in the client,\n",
       "    // which will in turn request a refresh of the image.\n",
       "    this.send_message('resize', { width: x_pixels, height: y_pixels });\n",
       "};\n",
       "\n",
       "mpl.figure.prototype.send_message = function (type, properties) {\n",
       "    properties['type'] = type;\n",
       "    properties['figure_id'] = this.id;\n",
       "    this.ws.send(JSON.stringify(properties));\n",
       "};\n",
       "\n",
       "mpl.figure.prototype.send_draw_message = function () {\n",
       "    if (!this.waiting) {\n",
       "        this.waiting = true;\n",
       "        this.ws.send(JSON.stringify({ type: 'draw', figure_id: this.id }));\n",
       "    }\n",
       "};\n",
       "\n",
       "mpl.figure.prototype.handle_save = function (fig, _msg) {\n",
       "    var format_dropdown = fig.format_dropdown;\n",
       "    var format = format_dropdown.options[format_dropdown.selectedIndex].value;\n",
       "    fig.ondownload(fig, format);\n",
       "};\n",
       "\n",
       "mpl.figure.prototype.handle_resize = function (fig, msg) {\n",
       "    var size = msg['size'];\n",
       "    if (size[0] !== fig.canvas.width || size[1] !== fig.canvas.height) {\n",
       "        fig._resize_canvas(size[0], size[1], msg['forward']);\n",
       "        fig.send_message('refresh', {});\n",
       "    }\n",
       "};\n",
       "\n",
       "mpl.figure.prototype.handle_rubberband = function (fig, msg) {\n",
       "    var x0 = msg['x0'] / fig.ratio;\n",
       "    var y0 = (fig.canvas.height - msg['y0']) / fig.ratio;\n",
       "    var x1 = msg['x1'] / fig.ratio;\n",
       "    var y1 = (fig.canvas.height - msg['y1']) / fig.ratio;\n",
       "    x0 = Math.floor(x0) + 0.5;\n",
       "    y0 = Math.floor(y0) + 0.5;\n",
       "    x1 = Math.floor(x1) + 0.5;\n",
       "    y1 = Math.floor(y1) + 0.5;\n",
       "    var min_x = Math.min(x0, x1);\n",
       "    var min_y = Math.min(y0, y1);\n",
       "    var width = Math.abs(x1 - x0);\n",
       "    var height = Math.abs(y1 - y0);\n",
       "\n",
       "    fig.rubberband_context.clearRect(\n",
       "        0,\n",
       "        0,\n",
       "        fig.canvas.width / fig.ratio,\n",
       "        fig.canvas.height / fig.ratio\n",
       "    );\n",
       "\n",
       "    fig.rubberband_context.strokeRect(min_x, min_y, width, height);\n",
       "};\n",
       "\n",
       "mpl.figure.prototype.handle_figure_label = function (fig, msg) {\n",
       "    // Updates the figure title.\n",
       "    fig.header.textContent = msg['label'];\n",
       "};\n",
       "\n",
       "mpl.figure.prototype.handle_cursor = function (fig, msg) {\n",
       "    fig.canvas_div.style.cursor = msg['cursor'];\n",
       "};\n",
       "\n",
       "mpl.figure.prototype.handle_message = function (fig, msg) {\n",
       "    fig.message.textContent = msg['message'];\n",
       "};\n",
       "\n",
       "mpl.figure.prototype.handle_draw = function (fig, _msg) {\n",
       "    // Request the server to send over a new figure.\n",
       "    fig.send_draw_message();\n",
       "};\n",
       "\n",
       "mpl.figure.prototype.handle_image_mode = function (fig, msg) {\n",
       "    fig.image_mode = msg['mode'];\n",
       "};\n",
       "\n",
       "mpl.figure.prototype.handle_history_buttons = function (fig, msg) {\n",
       "    for (var key in msg) {\n",
       "        if (!(key in fig.buttons)) {\n",
       "            continue;\n",
       "        }\n",
       "        fig.buttons[key].disabled = !msg[key];\n",
       "        fig.buttons[key].setAttribute('aria-disabled', !msg[key]);\n",
       "    }\n",
       "};\n",
       "\n",
       "mpl.figure.prototype.handle_navigate_mode = function (fig, msg) {\n",
       "    if (msg['mode'] === 'PAN') {\n",
       "        fig.buttons['Pan'].classList.add('active');\n",
       "        fig.buttons['Zoom'].classList.remove('active');\n",
       "    } else if (msg['mode'] === 'ZOOM') {\n",
       "        fig.buttons['Pan'].classList.remove('active');\n",
       "        fig.buttons['Zoom'].classList.add('active');\n",
       "    } else {\n",
       "        fig.buttons['Pan'].classList.remove('active');\n",
       "        fig.buttons['Zoom'].classList.remove('active');\n",
       "    }\n",
       "};\n",
       "\n",
       "mpl.figure.prototype.updated_canvas_event = function () {\n",
       "    // Called whenever the canvas gets updated.\n",
       "    this.send_message('ack', {});\n",
       "};\n",
       "\n",
       "// A function to construct a web socket function for onmessage handling.\n",
       "// Called in the figure constructor.\n",
       "mpl.figure.prototype._make_on_message_function = function (fig) {\n",
       "    return function socket_on_message(evt) {\n",
       "        if (evt.data instanceof Blob) {\n",
       "            var img = evt.data;\n",
       "            if (img.type !== 'image/png') {\n",
       "                /* FIXME: We get \"Resource interpreted as Image but\n",
       "                 * transferred with MIME type text/plain:\" errors on\n",
       "                 * Chrome.  But how to set the MIME type?  It doesn't seem\n",
       "                 * to be part of the websocket stream */\n",
       "                img.type = 'image/png';\n",
       "            }\n",
       "\n",
       "            /* Free the memory for the previous frames */\n",
       "            if (fig.imageObj.src) {\n",
       "                (window.URL || window.webkitURL).revokeObjectURL(\n",
       "                    fig.imageObj.src\n",
       "                );\n",
       "            }\n",
       "\n",
       "            fig.imageObj.src = (window.URL || window.webkitURL).createObjectURL(\n",
       "                img\n",
       "            );\n",
       "            fig.updated_canvas_event();\n",
       "            fig.waiting = false;\n",
       "            return;\n",
       "        } else if (\n",
       "            typeof evt.data === 'string' &&\n",
       "            evt.data.slice(0, 21) === 'data:image/png;base64'\n",
       "        ) {\n",
       "            fig.imageObj.src = evt.data;\n",
       "            fig.updated_canvas_event();\n",
       "            fig.waiting = false;\n",
       "            return;\n",
       "        }\n",
       "\n",
       "        var msg = JSON.parse(evt.data);\n",
       "        var msg_type = msg['type'];\n",
       "\n",
       "        // Call the  \"handle_{type}\" callback, which takes\n",
       "        // the figure and JSON message as its only arguments.\n",
       "        try {\n",
       "            var callback = fig['handle_' + msg_type];\n",
       "        } catch (e) {\n",
       "            console.log(\n",
       "                \"No handler for the '\" + msg_type + \"' message type: \",\n",
       "                msg\n",
       "            );\n",
       "            return;\n",
       "        }\n",
       "\n",
       "        if (callback) {\n",
       "            try {\n",
       "                // console.log(\"Handling '\" + msg_type + \"' message: \", msg);\n",
       "                callback(fig, msg);\n",
       "            } catch (e) {\n",
       "                console.log(\n",
       "                    \"Exception inside the 'handler_\" + msg_type + \"' callback:\",\n",
       "                    e,\n",
       "                    e.stack,\n",
       "                    msg\n",
       "                );\n",
       "            }\n",
       "        }\n",
       "    };\n",
       "};\n",
       "\n",
       "function getModifiers(event) {\n",
       "    var mods = [];\n",
       "    if (event.ctrlKey) {\n",
       "        mods.push('ctrl');\n",
       "    }\n",
       "    if (event.altKey) {\n",
       "        mods.push('alt');\n",
       "    }\n",
       "    if (event.shiftKey) {\n",
       "        mods.push('shift');\n",
       "    }\n",
       "    if (event.metaKey) {\n",
       "        mods.push('meta');\n",
       "    }\n",
       "    return mods;\n",
       "}\n",
       "\n",
       "/*\n",
       " * return a copy of an object with only non-object keys\n",
       " * we need this to avoid circular references\n",
       " * https://stackoverflow.com/a/24161582/3208463\n",
       " */\n",
       "function simpleKeys(original) {\n",
       "    return Object.keys(original).reduce(function (obj, key) {\n",
       "        if (typeof original[key] !== 'object') {\n",
       "            obj[key] = original[key];\n",
       "        }\n",
       "        return obj;\n",
       "    }, {});\n",
       "}\n",
       "\n",
       "mpl.figure.prototype.mouse_event = function (event, name) {\n",
       "    if (name === 'button_press') {\n",
       "        this.canvas.focus();\n",
       "        this.canvas_div.focus();\n",
       "    }\n",
       "\n",
       "    // from https://stackoverflow.com/q/1114465\n",
       "    var boundingRect = this.canvas.getBoundingClientRect();\n",
       "    var x = (event.clientX - boundingRect.left) * this.ratio;\n",
       "    var y = (event.clientY - boundingRect.top) * this.ratio;\n",
       "\n",
       "    this.send_message(name, {\n",
       "        x: x,\n",
       "        y: y,\n",
       "        button: event.button,\n",
       "        step: event.step,\n",
       "        modifiers: getModifiers(event),\n",
       "        guiEvent: simpleKeys(event),\n",
       "    });\n",
       "\n",
       "    return false;\n",
       "};\n",
       "\n",
       "mpl.figure.prototype._key_event_extra = function (_event, _name) {\n",
       "    // Handle any extra behaviour associated with a key event\n",
       "};\n",
       "\n",
       "mpl.figure.prototype.key_event = function (event, name) {\n",
       "    // Prevent repeat events\n",
       "    if (name === 'key_press') {\n",
       "        if (event.key === this._key) {\n",
       "            return;\n",
       "        } else {\n",
       "            this._key = event.key;\n",
       "        }\n",
       "    }\n",
       "    if (name === 'key_release') {\n",
       "        this._key = null;\n",
       "    }\n",
       "\n",
       "    var value = '';\n",
       "    if (event.ctrlKey && event.key !== 'Control') {\n",
       "        value += 'ctrl+';\n",
       "    }\n",
       "    else if (event.altKey && event.key !== 'Alt') {\n",
       "        value += 'alt+';\n",
       "    }\n",
       "    else if (event.shiftKey && event.key !== 'Shift') {\n",
       "        value += 'shift+';\n",
       "    }\n",
       "\n",
       "    value += 'k' + event.key;\n",
       "\n",
       "    this._key_event_extra(event, name);\n",
       "\n",
       "    this.send_message(name, { key: value, guiEvent: simpleKeys(event) });\n",
       "    return false;\n",
       "};\n",
       "\n",
       "mpl.figure.prototype.toolbar_button_onclick = function (name) {\n",
       "    if (name === 'download') {\n",
       "        this.handle_save(this, null);\n",
       "    } else {\n",
       "        this.send_message('toolbar_button', { name: name });\n",
       "    }\n",
       "};\n",
       "\n",
       "mpl.figure.prototype.toolbar_button_onmouseover = function (tooltip) {\n",
       "    this.message.textContent = tooltip;\n",
       "};\n",
       "\n",
       "///////////////// REMAINING CONTENT GENERATED BY embed_js.py /////////////////\n",
       "// prettier-ignore\n",
       "var _JSXTOOLS_RESIZE_OBSERVER=function(A){var t,i=new WeakMap,n=new WeakMap,a=new WeakMap,r=new WeakMap,o=new Set;function s(e){if(!(this instanceof s))throw new TypeError(\"Constructor requires 'new' operator\");i.set(this,e)}function h(){throw new TypeError(\"Function is not a constructor\")}function c(e,t,i,n){e=0 in arguments?Number(arguments[0]):0,t=1 in arguments?Number(arguments[1]):0,i=2 in arguments?Number(arguments[2]):0,n=3 in arguments?Number(arguments[3]):0,this.right=(this.x=this.left=e)+(this.width=i),this.bottom=(this.y=this.top=t)+(this.height=n),Object.freeze(this)}function d(){t=requestAnimationFrame(d);var s=new WeakMap,p=new Set;o.forEach((function(t){r.get(t).forEach((function(i){var r=t instanceof window.SVGElement,o=a.get(t),d=r?0:parseFloat(o.paddingTop),f=r?0:parseFloat(o.paddingRight),l=r?0:parseFloat(o.paddingBottom),u=r?0:parseFloat(o.paddingLeft),g=r?0:parseFloat(o.borderTopWidth),m=r?0:parseFloat(o.borderRightWidth),w=r?0:parseFloat(o.borderBottomWidth),b=u+f,F=d+l,v=(r?0:parseFloat(o.borderLeftWidth))+m,W=g+w,y=r?0:t.offsetHeight-W-t.clientHeight,E=r?0:t.offsetWidth-v-t.clientWidth,R=b+v,z=F+W,M=r?t.width:parseFloat(o.width)-R-E,O=r?t.height:parseFloat(o.height)-z-y;if(n.has(t)){var k=n.get(t);if(k[0]===M&&k[1]===O)return}n.set(t,[M,O]);var S=Object.create(h.prototype);S.target=t,S.contentRect=new c(u,d,M,O),s.has(i)||(s.set(i,[]),p.add(i)),s.get(i).push(S)}))})),p.forEach((function(e){i.get(e).call(e,s.get(e),e)}))}return s.prototype.observe=function(i){if(i instanceof window.Element){r.has(i)||(r.set(i,new Set),o.add(i),a.set(i,window.getComputedStyle(i)));var n=r.get(i);n.has(this)||n.add(this),cancelAnimationFrame(t),t=requestAnimationFrame(d)}},s.prototype.unobserve=function(i){if(i instanceof window.Element&&r.has(i)){var n=r.get(i);n.has(this)&&(n.delete(this),n.size||(r.delete(i),o.delete(i))),n.size||r.delete(i),o.size||cancelAnimationFrame(t)}},A.DOMRectReadOnly=c,A.ResizeObserver=s,A.ResizeObserverEntry=h,A}; // eslint-disable-line\n",
       "mpl.toolbar_items = [[\"Home\", \"Reset original view\", \"fa fa-home\", \"home\"], [\"Back\", \"Back to previous view\", \"fa fa-arrow-left\", \"back\"], [\"Forward\", \"Forward to next view\", \"fa fa-arrow-right\", \"forward\"], [\"\", \"\", \"\", \"\"], [\"Pan\", \"Left button pans, Right button zooms\\nx/y fixes axis, CTRL fixes aspect\", \"fa fa-arrows\", \"pan\"], [\"Zoom\", \"Zoom to rectangle\\nx/y fixes axis\", \"fa fa-square-o\", \"zoom\"], [\"\", \"\", \"\", \"\"], [\"Download\", \"Download plot\", \"fa fa-floppy-o\", \"download\"]];\n",
       "\n",
       "mpl.extensions = [\"eps\", \"jpeg\", \"pgf\", \"pdf\", \"png\", \"ps\", \"raw\", \"svg\", \"tif\", \"webp\"];\n",
       "\n",
       "mpl.default_extension = \"png\";/* global mpl */\n",
       "\n",
       "var comm_websocket_adapter = function (comm) {\n",
       "    // Create a \"websocket\"-like object which calls the given IPython comm\n",
       "    // object with the appropriate methods. Currently this is a non binary\n",
       "    // socket, so there is still some room for performance tuning.\n",
       "    var ws = {};\n",
       "\n",
       "    ws.binaryType = comm.kernel.ws.binaryType;\n",
       "    ws.readyState = comm.kernel.ws.readyState;\n",
       "    function updateReadyState(_event) {\n",
       "        if (comm.kernel.ws) {\n",
       "            ws.readyState = comm.kernel.ws.readyState;\n",
       "        } else {\n",
       "            ws.readyState = 3; // Closed state.\n",
       "        }\n",
       "    }\n",
       "    comm.kernel.ws.addEventListener('open', updateReadyState);\n",
       "    comm.kernel.ws.addEventListener('close', updateReadyState);\n",
       "    comm.kernel.ws.addEventListener('error', updateReadyState);\n",
       "\n",
       "    ws.close = function () {\n",
       "        comm.close();\n",
       "    };\n",
       "    ws.send = function (m) {\n",
       "        //console.log('sending', m);\n",
       "        comm.send(m);\n",
       "    };\n",
       "    // Register the callback with on_msg.\n",
       "    comm.on_msg(function (msg) {\n",
       "        //console.log('receiving', msg['content']['data'], msg);\n",
       "        var data = msg['content']['data'];\n",
       "        if (data['blob'] !== undefined) {\n",
       "            data = {\n",
       "                data: new Blob(msg['buffers'], { type: data['blob'] }),\n",
       "            };\n",
       "        }\n",
       "        // Pass the mpl event to the overridden (by mpl) onmessage function.\n",
       "        ws.onmessage(data);\n",
       "    });\n",
       "    return ws;\n",
       "};\n",
       "\n",
       "mpl.mpl_figure_comm = function (comm, msg) {\n",
       "    // This is the function which gets called when the mpl process\n",
       "    // starts-up an IPython Comm through the \"matplotlib\" channel.\n",
       "\n",
       "    var id = msg.content.data.id;\n",
       "    // Get hold of the div created by the display call when the Comm\n",
       "    // socket was opened in Python.\n",
       "    var element = document.getElementById(id);\n",
       "    var ws_proxy = comm_websocket_adapter(comm);\n",
       "\n",
       "    function ondownload(figure, _format) {\n",
       "        window.open(figure.canvas.toDataURL());\n",
       "    }\n",
       "\n",
       "    var fig = new mpl.figure(id, ws_proxy, ondownload, element);\n",
       "\n",
       "    // Call onopen now - mpl needs it, as it is assuming we've passed it a real\n",
       "    // web socket which is closed, not our websocket->open comm proxy.\n",
       "    ws_proxy.onopen();\n",
       "\n",
       "    fig.parent_element = element;\n",
       "    fig.cell_info = mpl.find_output_cell(\"<div id='\" + id + \"'></div>\");\n",
       "    if (!fig.cell_info) {\n",
       "        console.error('Failed to find cell for figure', id, fig);\n",
       "        return;\n",
       "    }\n",
       "    fig.cell_info[0].output_area.element.on(\n",
       "        'cleared',\n",
       "        { fig: fig },\n",
       "        fig._remove_fig_handler\n",
       "    );\n",
       "};\n",
       "\n",
       "mpl.figure.prototype.handle_close = function (fig, msg) {\n",
       "    var width = fig.canvas.width / fig.ratio;\n",
       "    fig.cell_info[0].output_area.element.off(\n",
       "        'cleared',\n",
       "        fig._remove_fig_handler\n",
       "    );\n",
       "    fig.resizeObserverInstance.unobserve(fig.canvas_div);\n",
       "\n",
       "    // Update the output cell to use the data from the current canvas.\n",
       "    fig.push_to_output();\n",
       "    var dataURL = fig.canvas.toDataURL();\n",
       "    // Re-enable the keyboard manager in IPython - without this line, in FF,\n",
       "    // the notebook keyboard shortcuts fail.\n",
       "    IPython.keyboard_manager.enable();\n",
       "    fig.parent_element.innerHTML =\n",
       "        '<img src=\"' + dataURL + '\" width=\"' + width + '\">';\n",
       "    fig.close_ws(fig, msg);\n",
       "};\n",
       "\n",
       "mpl.figure.prototype.close_ws = function (fig, msg) {\n",
       "    fig.send_message('closing', msg);\n",
       "    // fig.ws.close()\n",
       "};\n",
       "\n",
       "mpl.figure.prototype.push_to_output = function (_remove_interactive) {\n",
       "    // Turn the data on the canvas into data in the output cell.\n",
       "    var width = this.canvas.width / this.ratio;\n",
       "    var dataURL = this.canvas.toDataURL();\n",
       "    this.cell_info[1]['text/html'] =\n",
       "        '<img src=\"' + dataURL + '\" width=\"' + width + '\">';\n",
       "};\n",
       "\n",
       "mpl.figure.prototype.updated_canvas_event = function () {\n",
       "    // Tell IPython that the notebook contents must change.\n",
       "    IPython.notebook.set_dirty(true);\n",
       "    this.send_message('ack', {});\n",
       "    var fig = this;\n",
       "    // Wait a second, then push the new image to the DOM so\n",
       "    // that it is saved nicely (might be nice to debounce this).\n",
       "    setTimeout(function () {\n",
       "        fig.push_to_output();\n",
       "    }, 1000);\n",
       "};\n",
       "\n",
       "mpl.figure.prototype._init_toolbar = function () {\n",
       "    var fig = this;\n",
       "\n",
       "    var toolbar = document.createElement('div');\n",
       "    toolbar.classList = 'btn-toolbar';\n",
       "    this.root.appendChild(toolbar);\n",
       "\n",
       "    function on_click_closure(name) {\n",
       "        return function (_event) {\n",
       "            return fig.toolbar_button_onclick(name);\n",
       "        };\n",
       "    }\n",
       "\n",
       "    function on_mouseover_closure(tooltip) {\n",
       "        return function (event) {\n",
       "            if (!event.currentTarget.disabled) {\n",
       "                return fig.toolbar_button_onmouseover(tooltip);\n",
       "            }\n",
       "        };\n",
       "    }\n",
       "\n",
       "    fig.buttons = {};\n",
       "    var buttonGroup = document.createElement('div');\n",
       "    buttonGroup.classList = 'btn-group';\n",
       "    var button;\n",
       "    for (var toolbar_ind in mpl.toolbar_items) {\n",
       "        var name = mpl.toolbar_items[toolbar_ind][0];\n",
       "        var tooltip = mpl.toolbar_items[toolbar_ind][1];\n",
       "        var image = mpl.toolbar_items[toolbar_ind][2];\n",
       "        var method_name = mpl.toolbar_items[toolbar_ind][3];\n",
       "\n",
       "        if (!name) {\n",
       "            /* Instead of a spacer, we start a new button group. */\n",
       "            if (buttonGroup.hasChildNodes()) {\n",
       "                toolbar.appendChild(buttonGroup);\n",
       "            }\n",
       "            buttonGroup = document.createElement('div');\n",
       "            buttonGroup.classList = 'btn-group';\n",
       "            continue;\n",
       "        }\n",
       "\n",
       "        button = fig.buttons[name] = document.createElement('button');\n",
       "        button.classList = 'btn btn-default';\n",
       "        button.href = '#';\n",
       "        button.title = name;\n",
       "        button.innerHTML = '<i class=\"fa ' + image + ' fa-lg\"></i>';\n",
       "        button.addEventListener('click', on_click_closure(method_name));\n",
       "        button.addEventListener('mouseover', on_mouseover_closure(tooltip));\n",
       "        buttonGroup.appendChild(button);\n",
       "    }\n",
       "\n",
       "    if (buttonGroup.hasChildNodes()) {\n",
       "        toolbar.appendChild(buttonGroup);\n",
       "    }\n",
       "\n",
       "    // Add the status bar.\n",
       "    var status_bar = document.createElement('span');\n",
       "    status_bar.classList = 'mpl-message pull-right';\n",
       "    toolbar.appendChild(status_bar);\n",
       "    this.message = status_bar;\n",
       "\n",
       "    // Add the close button to the window.\n",
       "    var buttongrp = document.createElement('div');\n",
       "    buttongrp.classList = 'btn-group inline pull-right';\n",
       "    button = document.createElement('button');\n",
       "    button.classList = 'btn btn-mini btn-primary';\n",
       "    button.href = '#';\n",
       "    button.title = 'Stop Interaction';\n",
       "    button.innerHTML = '<i class=\"fa fa-power-off icon-remove icon-large\"></i>';\n",
       "    button.addEventListener('click', function (_evt) {\n",
       "        fig.handle_close(fig, {});\n",
       "    });\n",
       "    button.addEventListener(\n",
       "        'mouseover',\n",
       "        on_mouseover_closure('Stop Interaction')\n",
       "    );\n",
       "    buttongrp.appendChild(button);\n",
       "    var titlebar = this.root.querySelector('.ui-dialog-titlebar');\n",
       "    titlebar.insertBefore(buttongrp, titlebar.firstChild);\n",
       "};\n",
       "\n",
       "mpl.figure.prototype._remove_fig_handler = function (event) {\n",
       "    var fig = event.data.fig;\n",
       "    if (event.target !== this) {\n",
       "        // Ignore bubbled events from children.\n",
       "        return;\n",
       "    }\n",
       "    fig.close_ws(fig, {});\n",
       "};\n",
       "\n",
       "mpl.figure.prototype._root_extra_style = function (el) {\n",
       "    el.style.boxSizing = 'content-box'; // override notebook setting of border-box.\n",
       "};\n",
       "\n",
       "mpl.figure.prototype._canvas_extra_style = function (el) {\n",
       "    // this is important to make the div 'focusable\n",
       "    el.setAttribute('tabindex', 0);\n",
       "    // reach out to IPython and tell the keyboard manager to turn it's self\n",
       "    // off when our div gets focus\n",
       "\n",
       "    // location in version 3\n",
       "    if (IPython.notebook.keyboard_manager) {\n",
       "        IPython.notebook.keyboard_manager.register_events(el);\n",
       "    } else {\n",
       "        // location in version 2\n",
       "        IPython.keyboard_manager.register_events(el);\n",
       "    }\n",
       "};\n",
       "\n",
       "mpl.figure.prototype._key_event_extra = function (event, _name) {\n",
       "    // Check for shift+enter\n",
       "    if (event.shiftKey && event.which === 13) {\n",
       "        this.canvas_div.blur();\n",
       "        // select the cell after this one\n",
       "        var index = IPython.notebook.find_cell_index(this.cell_info[0]);\n",
       "        IPython.notebook.select(index + 1);\n",
       "    }\n",
       "};\n",
       "\n",
       "mpl.figure.prototype.handle_save = function (fig, _msg) {\n",
       "    fig.ondownload(fig, null);\n",
       "};\n",
       "\n",
       "mpl.find_output_cell = function (html_output) {\n",
       "    // Return the cell and output element which can be found *uniquely* in the notebook.\n",
       "    // Note - this is a bit hacky, but it is done because the \"notebook_saving.Notebook\"\n",
       "    // IPython event is triggered only after the cells have been serialised, which for\n",
       "    // our purposes (turning an active figure into a static one), is too late.\n",
       "    var cells = IPython.notebook.get_cells();\n",
       "    var ncells = cells.length;\n",
       "    for (var i = 0; i < ncells; i++) {\n",
       "        var cell = cells[i];\n",
       "        if (cell.cell_type === 'code') {\n",
       "            for (var j = 0; j < cell.output_area.outputs.length; j++) {\n",
       "                var data = cell.output_area.outputs[j];\n",
       "                if (data.data) {\n",
       "                    // IPython >= 3 moved mimebundle to data attribute of output\n",
       "                    data = data.data;\n",
       "                }\n",
       "                if (data['text/html'] === html_output) {\n",
       "                    return [cell, data, j];\n",
       "                }\n",
       "            }\n",
       "        }\n",
       "    }\n",
       "};\n",
       "\n",
       "// Register the function which deals with the matplotlib target/channel.\n",
       "// The kernel may be null if the page has been refreshed.\n",
       "if (IPython.notebook.kernel !== null) {\n",
       "    IPython.notebook.kernel.comm_manager.register_target(\n",
       "        'matplotlib',\n",
       "        mpl.mpl_figure_comm\n",
       "    );\n",
       "}\n"
      ],
      "text/plain": [
       "<IPython.core.display.Javascript object>"
      ]
     },
     "metadata": {},
     "output_type": "display_data"
    },
    {
     "data": {
      "text/html": [
       "<img src=\"data:image/png;base64,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\" width=\"960\">"
      ],
      "text/plain": [
       "<IPython.core.display.HTML object>"
      ]
     },
     "metadata": {},
     "output_type": "display_data"
    },
    {
     "data": {
      "text/plain": [
       "<Axes: title={'center': 'March Madness KenPom Adjusted Efficiency Scatterplot'}, xlabel='Adjusted Offensive Efficiency', ylabel='Adjusted Defensive Efficiency'>"
      ]
     },
     "execution_count": 9,
     "metadata": {},
     "output_type": "execute_result"
    },
    {
     "data": {
      "text/plain": [
       "<matplotlib.collections.LineCollection at 0x26106170210>"
      ]
     },
     "execution_count": 9,
     "metadata": {},
     "output_type": "execute_result"
    },
    {
     "data": {
      "text/plain": [
       "<matplotlib.collections.LineCollection at 0x261061f62d0>"
      ]
     },
     "execution_count": 9,
     "metadata": {},
     "output_type": "execute_result"
    },
    {
     "data": {
      "text/plain": [
       "Text(0.565, 0.735, 'Avg AdjO')"
      ]
     },
     "execution_count": 9,
     "metadata": {},
     "output_type": "execute_result"
    },
    {
     "data": {
      "text/plain": [
       "Text(0.165, 0.525, 'Avg AdjD')"
      ]
     },
     "execution_count": 9,
     "metadata": {},
     "output_type": "execute_result"
    },
    {
     "data": {
      "text/plain": [
       "<matplotlib.offsetbox.AnnotationBbox at 0x26106244c10>"
      ]
     },
     "execution_count": 9,
     "metadata": {},
     "output_type": "execute_result"
    },
    {
     "data": {
      "text/plain": [
       "<matplotlib.offsetbox.AnnotationBbox at 0x26106245a10>"
      ]
     },
     "execution_count": 9,
     "metadata": {},
     "output_type": "execute_result"
    },
    {
     "data": {
      "text/plain": [
       "<matplotlib.offsetbox.AnnotationBbox at 0x261062473d0>"
      ]
     },
     "execution_count": 9,
     "metadata": {},
     "output_type": "execute_result"
    },
    {
     "data": {
      "text/plain": [
       "<matplotlib.offsetbox.AnnotationBbox at 0x26106249010>"
      ]
     },
     "execution_count": 9,
     "metadata": {},
     "output_type": "execute_result"
    },
    {
     "data": {
      "text/plain": [
       "<matplotlib.offsetbox.AnnotationBbox at 0x2610624aa10>"
      ]
     },
     "execution_count": 9,
     "metadata": {},
     "output_type": "execute_result"
    },
    {
     "data": {
      "text/plain": [
       "<matplotlib.offsetbox.AnnotationBbox at 0x2610624c450>"
      ]
     },
     "execution_count": 9,
     "metadata": {},
     "output_type": "execute_result"
    },
    {
     "data": {
      "text/plain": [
       "<matplotlib.offsetbox.AnnotationBbox at 0x2610624ddd0>"
      ]
     },
     "execution_count": 9,
     "metadata": {},
     "output_type": "execute_result"
    },
    {
     "data": {
      "text/plain": [
       "<matplotlib.offsetbox.AnnotationBbox at 0x2610624f750>"
      ]
     },
     "execution_count": 9,
     "metadata": {},
     "output_type": "execute_result"
    },
    {
     "data": {
      "text/plain": [
       "<matplotlib.offsetbox.AnnotationBbox at 0x26106261250>"
      ]
     },
     "execution_count": 9,
     "metadata": {},
     "output_type": "execute_result"
    },
    {
     "data": {
      "text/plain": [
       "<matplotlib.offsetbox.AnnotationBbox at 0x26106262d10>"
      ]
     },
     "execution_count": 9,
     "metadata": {},
     "output_type": "execute_result"
    },
    {
     "data": {
      "text/plain": [
       "<matplotlib.offsetbox.AnnotationBbox at 0x261062647d0>"
      ]
     },
     "execution_count": 9,
     "metadata": {},
     "output_type": "execute_result"
    },
    {
     "data": {
      "text/plain": [
       "<matplotlib.offsetbox.AnnotationBbox at 0x2610572e250>"
      ]
     },
     "execution_count": 9,
     "metadata": {},
     "output_type": "execute_result"
    },
    {
     "data": {
      "text/plain": [
       "<matplotlib.offsetbox.AnnotationBbox at 0x26106267dd0>"
      ]
     },
     "execution_count": 9,
     "metadata": {},
     "output_type": "execute_result"
    },
    {
     "data": {
      "text/plain": [
       "<matplotlib.offsetbox.AnnotationBbox at 0x2610627d850>"
      ]
     },
     "execution_count": 9,
     "metadata": {},
     "output_type": "execute_result"
    },
    {
     "data": {
      "text/plain": [
       "<matplotlib.offsetbox.AnnotationBbox at 0x261061f6fd0>"
      ]
     },
     "execution_count": 9,
     "metadata": {},
     "output_type": "execute_result"
    },
    {
     "data": {
      "text/plain": [
       "<matplotlib.offsetbox.AnnotationBbox at 0x261062809d0>"
      ]
     },
     "execution_count": 9,
     "metadata": {},
     "output_type": "execute_result"
    },
    {
     "data": {
      "text/plain": [
       "<matplotlib.offsetbox.AnnotationBbox at 0x261062824d0>"
      ]
     },
     "execution_count": 9,
     "metadata": {},
     "output_type": "execute_result"
    },
    {
     "data": {
      "text/plain": [
       "<matplotlib.offsetbox.AnnotationBbox at 0x26106283e10>"
      ]
     },
     "execution_count": 9,
     "metadata": {},
     "output_type": "execute_result"
    },
    {
     "data": {
      "text/plain": [
       "<matplotlib.offsetbox.AnnotationBbox at 0x261056553d0>"
      ]
     },
     "execution_count": 9,
     "metadata": {},
     "output_type": "execute_result"
    },
    {
     "data": {
      "text/plain": [
       "<matplotlib.offsetbox.AnnotationBbox at 0x261061f6d90>"
      ]
     },
     "execution_count": 9,
     "metadata": {},
     "output_type": "execute_result"
    },
    {
     "data": {
      "text/plain": [
       "<matplotlib.offsetbox.AnnotationBbox at 0x261062786d0>"
      ]
     },
     "execution_count": 9,
     "metadata": {},
     "output_type": "execute_result"
    },
    {
     "data": {
      "text/plain": [
       "<matplotlib.offsetbox.AnnotationBbox at 0x2610627a110>"
      ]
     },
     "execution_count": 9,
     "metadata": {},
     "output_type": "execute_result"
    },
    {
     "data": {
      "text/plain": [
       "<matplotlib.offsetbox.AnnotationBbox at 0x2610627bb50>"
      ]
     },
     "execution_count": 9,
     "metadata": {},
     "output_type": "execute_result"
    },
    {
     "data": {
      "text/plain": [
       "<matplotlib.offsetbox.AnnotationBbox at 0x2610629d2d0>"
      ]
     },
     "execution_count": 9,
     "metadata": {},
     "output_type": "execute_result"
    },
    {
     "data": {
      "text/plain": [
       "<matplotlib.offsetbox.AnnotationBbox at 0x2610629ec10>"
      ]
     },
     "execution_count": 9,
     "metadata": {},
     "output_type": "execute_result"
    },
    {
     "data": {
      "text/plain": [
       "<matplotlib.offsetbox.AnnotationBbox at 0x261062ac590>"
      ]
     },
     "execution_count": 9,
     "metadata": {},
     "output_type": "execute_result"
    },
    {
     "data": {
      "text/plain": [
       "<matplotlib.offsetbox.AnnotationBbox at 0x261044aa210>"
      ]
     },
     "execution_count": 9,
     "metadata": {},
     "output_type": "execute_result"
    },
    {
     "data": {
      "text/plain": [
       "<matplotlib.offsetbox.AnnotationBbox at 0x261062af850>"
      ]
     },
     "execution_count": 9,
     "metadata": {},
     "output_type": "execute_result"
    },
    {
     "data": {
      "text/plain": [
       "<matplotlib.offsetbox.AnnotationBbox at 0x261062a1190>"
      ]
     },
     "execution_count": 9,
     "metadata": {},
     "output_type": "execute_result"
    },
    {
     "data": {
      "text/plain": [
       "<matplotlib.offsetbox.AnnotationBbox at 0x261062a28d0>"
      ]
     },
     "execution_count": 9,
     "metadata": {},
     "output_type": "execute_result"
    },
    {
     "data": {
      "text/plain": [
       "<matplotlib.offsetbox.AnnotationBbox at 0x261062a8310>"
      ]
     },
     "execution_count": 9,
     "metadata": {},
     "output_type": "execute_result"
    },
    {
     "data": {
      "text/plain": [
       "<matplotlib.offsetbox.AnnotationBbox at 0x26106279bd0>"
      ]
     },
     "execution_count": 9,
     "metadata": {},
     "output_type": "execute_result"
    },
    {
     "data": {
      "text/plain": [
       "<matplotlib.offsetbox.AnnotationBbox at 0x261062ab6d0>"
      ]
     },
     "execution_count": 9,
     "metadata": {},
     "output_type": "execute_result"
    },
    {
     "data": {
      "text/plain": [
       "<matplotlib.offsetbox.AnnotationBbox at 0x261062c50d0>"
      ]
     },
     "execution_count": 9,
     "metadata": {},
     "output_type": "execute_result"
    },
    {
     "data": {
      "text/plain": [
       "<matplotlib.offsetbox.AnnotationBbox at 0x261061f6990>"
      ]
     },
     "execution_count": 9,
     "metadata": {},
     "output_type": "execute_result"
    },
    {
     "data": {
      "text/plain": [
       "<matplotlib.offsetbox.AnnotationBbox at 0x261062a82d0>"
      ]
     },
     "execution_count": 9,
     "metadata": {},
     "output_type": "execute_result"
    },
    {
     "data": {
      "text/plain": [
       "<matplotlib.offsetbox.AnnotationBbox at 0x261061d90d0>"
      ]
     },
     "execution_count": 9,
     "metadata": {},
     "output_type": "execute_result"
    },
    {
     "data": {
      "text/plain": [
       "<matplotlib.offsetbox.AnnotationBbox at 0x261062834d0>"
      ]
     },
     "execution_count": 9,
     "metadata": {},
     "output_type": "execute_result"
    },
    {
     "data": {
      "text/plain": [
       "<matplotlib.offsetbox.AnnotationBbox at 0x261062d4f10>"
      ]
     },
     "execution_count": 9,
     "metadata": {},
     "output_type": "execute_result"
    },
    {
     "data": {
      "text/plain": [
       "<matplotlib.offsetbox.AnnotationBbox at 0x261062d67d0>"
      ]
     },
     "execution_count": 9,
     "metadata": {},
     "output_type": "execute_result"
    },
    {
     "data": {
      "text/plain": [
       "<matplotlib.offsetbox.AnnotationBbox at 0x261062e0190>"
      ]
     },
     "execution_count": 9,
     "metadata": {},
     "output_type": "execute_result"
    },
    {
     "data": {
      "text/plain": [
       "<matplotlib.offsetbox.AnnotationBbox at 0x261062e1a90>"
      ]
     },
     "execution_count": 9,
     "metadata": {},
     "output_type": "execute_result"
    },
    {
     "data": {
      "text/plain": [
       "<matplotlib.offsetbox.AnnotationBbox at 0x261062e33d0>"
      ]
     },
     "execution_count": 9,
     "metadata": {},
     "output_type": "execute_result"
    },
    {
     "data": {
      "text/plain": [
       "<matplotlib.offsetbox.AnnotationBbox at 0x261062e8dd0>"
      ]
     },
     "execution_count": 9,
     "metadata": {},
     "output_type": "execute_result"
    },
    {
     "data": {
      "text/plain": [
       "<matplotlib.offsetbox.AnnotationBbox at 0x261062ea5d0>"
      ]
     },
     "execution_count": 9,
     "metadata": {},
     "output_type": "execute_result"
    },
    {
     "data": {
      "text/plain": [
       "<matplotlib.offsetbox.AnnotationBbox at 0x261062ec050>"
      ]
     },
     "execution_count": 9,
     "metadata": {},
     "output_type": "execute_result"
    },
    {
     "data": {
      "text/plain": [
       "<matplotlib.offsetbox.AnnotationBbox at 0x26106245890>"
      ]
     },
     "execution_count": 9,
     "metadata": {},
     "output_type": "execute_result"
    },
    {
     "data": {
      "text/plain": [
       "<matplotlib.offsetbox.AnnotationBbox at 0x261062ef110>"
      ]
     },
     "execution_count": 9,
     "metadata": {},
     "output_type": "execute_result"
    },
    {
     "data": {
      "text/plain": [
       "<matplotlib.offsetbox.AnnotationBbox at 0x261062f8890>"
      ]
     },
     "execution_count": 9,
     "metadata": {},
     "output_type": "execute_result"
    },
    {
     "data": {
      "text/plain": [
       "<matplotlib.offsetbox.AnnotationBbox at 0x261062fa190>"
      ]
     },
     "execution_count": 9,
     "metadata": {},
     "output_type": "execute_result"
    },
    {
     "data": {
      "text/plain": [
       "<matplotlib.offsetbox.AnnotationBbox at 0x261062fb990>"
      ]
     },
     "execution_count": 9,
     "metadata": {},
     "output_type": "execute_result"
    },
    {
     "data": {
      "text/plain": [
       "<matplotlib.offsetbox.AnnotationBbox at 0x261063052d0>"
      ]
     },
     "execution_count": 9,
     "metadata": {},
     "output_type": "execute_result"
    },
    {
     "data": {
      "text/plain": [
       "<matplotlib.offsetbox.AnnotationBbox at 0x261062c6950>"
      ]
     },
     "execution_count": 9,
     "metadata": {},
     "output_type": "execute_result"
    },
    {
     "data": {
      "text/plain": [
       "<matplotlib.offsetbox.AnnotationBbox at 0x2610630c250>"
      ]
     },
     "execution_count": 9,
     "metadata": {},
     "output_type": "execute_result"
    },
    {
     "data": {
      "text/plain": [
       "<matplotlib.offsetbox.AnnotationBbox at 0x2610630da50>"
      ]
     },
     "execution_count": 9,
     "metadata": {},
     "output_type": "execute_result"
    },
    {
     "data": {
      "text/plain": [
       "<matplotlib.offsetbox.AnnotationBbox at 0x2610630f1d0>"
      ]
     },
     "execution_count": 9,
     "metadata": {},
     "output_type": "execute_result"
    },
    {
     "data": {
      "text/plain": [
       "<matplotlib.offsetbox.AnnotationBbox at 0x26106220950>"
      ]
     },
     "execution_count": 9,
     "metadata": {},
     "output_type": "execute_result"
    },
    {
     "data": {
      "text/plain": [
       "<matplotlib.offsetbox.AnnotationBbox at 0x261062fa150>"
      ]
     },
     "execution_count": 9,
     "metadata": {},
     "output_type": "execute_result"
    },
    {
     "data": {
      "text/plain": [
       "<matplotlib.offsetbox.AnnotationBbox at 0x2610631b950>"
      ]
     },
     "execution_count": 9,
     "metadata": {},
     "output_type": "execute_result"
    },
    {
     "data": {
      "text/plain": [
       "<matplotlib.offsetbox.AnnotationBbox at 0x261061d9d50>"
      ]
     },
     "execution_count": 9,
     "metadata": {},
     "output_type": "execute_result"
    },
    {
     "data": {
      "text/plain": [
       "<matplotlib.offsetbox.AnnotationBbox at 0x26106322850>"
      ]
     },
     "execution_count": 9,
     "metadata": {},
     "output_type": "execute_result"
    },
    {
     "data": {
      "text/plain": [
       "<matplotlib.offsetbox.AnnotationBbox at 0x261062e0110>"
      ]
     },
     "execution_count": 9,
     "metadata": {},
     "output_type": "execute_result"
    },
    {
     "data": {
      "text/plain": [
       "<matplotlib.offsetbox.AnnotationBbox at 0x26106329910>"
      ]
     },
     "execution_count": 9,
     "metadata": {},
     "output_type": "execute_result"
    },
    {
     "data": {
      "text/plain": [
       "<matplotlib.offsetbox.AnnotationBbox at 0x261062cb0d0>"
      ]
     },
     "execution_count": 9,
     "metadata": {},
     "output_type": "execute_result"
    },
    {
     "data": {
      "text/plain": [
       "<matplotlib.offsetbox.AnnotationBbox at 0x261063308d0>"
      ]
     },
     "execution_count": 9,
     "metadata": {},
     "output_type": "execute_result"
    },
    {
     "data": {
      "text/plain": [
       "<matplotlib.offsetbox.AnnotationBbox at 0x26106331f90>"
      ]
     },
     "execution_count": 9,
     "metadata": {},
     "output_type": "execute_result"
    },
    {
     "data": {
      "text/plain": [
       "<matplotlib.offsetbox.AnnotationBbox at 0x26106333910>"
      ]
     },
     "execution_count": 9,
     "metadata": {},
     "output_type": "execute_result"
    },
    {
     "data": {
      "text/plain": [
       "<matplotlib.offsetbox.AnnotationBbox at 0x2610633d190>"
      ]
     },
     "execution_count": 9,
     "metadata": {},
     "output_type": "execute_result"
    }
   ],
   "source": [
    "#Original Efficiency Scatterplot with Team Logos\n",
    "fig, ax = plt.subplots(dpi=150) #dpi for higher quality logo resolution\n",
    "\n",
    "KenPom.plot.scatter(x=\"AdjO\", \n",
    "                    y=\"AdjD\", \n",
    "                    ylabel=\"Adjusted Defensive Efficiency\", \n",
    "                    xlabel=\"Adjusted Offensive Efficiency\", \n",
    "                    title=\"March Madness KenPom Adjusted Efficiency Scatterplot\",\n",
    "                    ax=ax)\n",
    "\n",
    "ax.invert_yaxis() #we want better defensive efficiency to be higher on the chart (fewer points allowed)\n",
    "\n",
    "# Add average lines\n",
    "plt.hlines(KenPom[\"AdjD\"].mean(), KenPom[\"AdjO\"].min(), KenPom[\"AdjO\"].max(), color='#c2c1c0')\n",
    "plt.vlines(KenPom[\"AdjO\"].mean(), KenPom[\"AdjD\"].min(), KenPom[\"AdjD\"].max(), color='#c2c1c0')\n",
    "\n",
    "# Average line labels\n",
    "fig.text(.565,.735,'Avg AdjO', size=7, color='#575654',rotation=90)\n",
    "fig.text(.165,.525,'Avg AdjD', size=7, color='#575654')\n",
    "\n",
    "def getImage(path, zoom = 0.1):\n",
    "    return OffsetImage(plt.imread(path), zoom=zoom)\n",
    "\n",
    "#Annotate logos on data points in scatterplot\n",
    "for x, y, path in zip(KenPom[\"AdjO\"], KenPom[\"AdjD\"], KenPom[\"New Path\"]):\n",
    "    \n",
    "    ab = AnnotationBbox(getImage(path), (x, y), frameon=False)\n",
    "    ax.add_artist(ab)\n",
    "\n",
    "#Save figures if you'd like\n",
    "#fig.savefig(\"data/NCAATournament_KenPom_2024.pdf\")"
   ]
  },
  {
   "cell_type": "code",
   "execution_count": 10,
   "id": "1307adc1",
   "metadata": {},
   "outputs": [
    {
     "data": {
      "application/vnd.jupyter.widget-view+json": {
       "model_id": "afe741130b2f462688fd924a0521a2f4",
       "version_major": 2,
       "version_minor": 0
      },
      "text/plain": [
       "interactive(children=(Dropdown(description='Conference', options=('BE', 'B12', 'B10', 'SEC', 'P12', 'ACC', 'WC…"
      ]
     },
     "metadata": {},
     "output_type": "display_data"
    }
   ],
   "source": [
    "#Interactive chart to filter original plot by conference opponents\n",
    "@interact_manual\n",
    "\n",
    "def conference_scatter(Conference = list(KenPom.Conf.unique())): #list of conferences\n",
    "    \n",
    "    data = KenPom[KenPom.Conf == Conference] #KenPom data is filtered using list input\n",
    "    \n",
    "    fig, ax = plt.subplots(dpi=150) #dpi for higher quality logo resolution\n",
    "    \n",
    "    data.plot.scatter(x=\"AdjO\",y=\"AdjD\", \n",
    "                      ylabel=\"Adjusted Defensive Efficiency\", \n",
    "                      xlabel=\"Adjusted Offensive Efficiency\",\n",
    "                      title=f\"KenPom Adjusted Efficiency Scatterplot: {Conference}\", #allow title to be changed accordingly\n",
    "                      ax=ax).invert_yaxis()\n",
    "\n",
    "    # Add average lines\n",
    "    plt.hlines(KenPom[\"AdjD\"].mean(), KenPom[\"AdjO\"].min(), KenPom[\"AdjO\"].max(), color='#c2c1c0')\n",
    "    plt.vlines(KenPom[\"AdjO\"].mean(), KenPom[\"AdjD\"].min(), KenPom[\"AdjD\"].max(), color='#c2c1c0')\n",
    "\n",
    "    # Average line labels\n",
    "    fig.text(.560,.705,'Avg AdjO', size=9, color='#575654',rotation=90)\n",
    "    fig.text(.165,.525,'Avg AdjD', size=9, color='#575654')\n",
    "    \n",
    "    #Annotate logos on data points in scatterplot\n",
    "    for x, y, path in zip(data[\"AdjO\"], data[\"AdjD\"], data[\"New Path\"]):\n",
    "    \n",
    "        ab = AnnotationBbox(getImage(path), (x, y), frameon=False)\n",
    "        ax.add_artist(ab)"
   ]
  },
  {
   "cell_type": "code",
   "execution_count": 11,
   "id": "026cb1ea",
   "metadata": {},
   "outputs": [
    {
     "data": {
      "application/vnd.jupyter.widget-view+json": {
       "model_id": "efaa9a45cf0a416ebfc49c036bc26144",
       "version_major": 2,
       "version_minor": 0
      },
      "text/plain": [
       "interactive(children=(Dropdown(description='Conference', options=('BE', 'B12', 'B10', 'SEC', 'P12', 'ACC', 'WC…"
      ]
     },
     "metadata": {},
     "output_type": "display_data"
    }
   ],
   "source": [
    "#See values at a quick glance for reference to chart above\n",
    "@interact\n",
    "def conference_select(Conference = list(KenPom.Conf.unique())):\n",
    "    return(KenPom[KenPom.Conf == Conference][[\"Team Mascot\", \"W-L\",\"AdjEM\",\"AdjO\",\"AdjD\",\"AdjTempo\",\"Luck\"]])"
   ]
  },
  {
   "cell_type": "code",
   "execution_count": 12,
   "id": "80d857f5",
   "metadata": {},
   "outputs": [
    {
     "data": {
      "application/vnd.jupyter.widget-view+json": {
       "model_id": "d5804f0f095a4866aff87e2d48c7c831",
       "version_major": 2,
       "version_minor": 0
      },
      "text/plain": [
       "interactive(children=(Dropdown(description='Efficiency', options=('AdjEM', 'AdjO', 'AdjD'), value='AdjEM'), Dr…"
      ]
     },
     "metadata": {},
     "output_type": "display_data"
    }
   ],
   "source": [
    "#Efficiency Type vs Tempo Scatterplot: Filter by Conference\n",
    "@interact_manual\n",
    "\n",
    "def tempo_conf_scatter(Efficiency = [\"AdjEM\", \"AdjO\", \"AdjD\"], \n",
    "                  Conference = list(KenPom.Conf.unique())):\n",
    "    \n",
    "    data = KenPom[KenPom.Conf == Conference]\n",
    "    \n",
    "    fig, ax = plt.subplots(dpi=150)\n",
    "    \n",
    "    if f\"{Efficiency}\" == \"AdjEM\": \n",
    "        ylabel = \"Adjusted Efficiency Margin\"\n",
    "    elif f\"{Efficiency}\" == \"AdjD\":\n",
    "        ylabel = \"Adjusted Defensive Efficiency\"\n",
    "    else:\n",
    "        ylabel = \"Adjusted Offensive Efficiency\"\n",
    "    \n",
    "    data.plot.scatter(x=\"AdjTempo\",y=f\"{Efficiency}\", \n",
    "                      ylabel= ylabel, \n",
    "                      xlabel=\"Adjusted Tempo\",\n",
    "                      title=f\"KenPom Adjusted Efficiency vs Tempo Scatterplot: {Conference}\",\n",
    "                      ax=ax)\n",
    "    \n",
    "    #Invert y-axis if defensive efficiency is selected\n",
    "    if f\"{Efficiency}\" == \"AdjD\":\n",
    "        ax.invert_yaxis()\n",
    "    else: None\n",
    "\n",
    "    for x, y, path in zip(data[\"AdjTempo\"], data[f\"{Efficiency}\"], data[\"New Path\"]):\n",
    "    \n",
    "        ab = AnnotationBbox(getImage(path), (x, y), frameon=False)\n",
    "        ax.add_artist(ab)"
   ]
  },
  {
   "cell_type": "code",
   "execution_count": 13,
   "id": "a19d5397",
   "metadata": {},
   "outputs": [
    {
     "data": {
      "application/vnd.jupyter.widget-view+json": {
       "model_id": "5a34846647664ccba061bca4a56af251",
       "version_major": 2,
       "version_minor": 0
      },
      "text/plain": [
       "interactive(children=(Dropdown(description='Seed', options=('\\xa01', '\\xa04', '\\xa02', '\\xa03', '\\xa05', '\\xa0…"
      ]
     },
     "metadata": {},
     "output_type": "display_data"
    }
   ],
   "source": [
    "#Original Scatterplot: Filter by Seed\n",
    "@interact_manual\n",
    "\n",
    "def seed_scatter(Seed = list(KenPom.Seed.unique())): #list of conferences\n",
    "    \n",
    "    data = KenPom[KenPom.Seed == Seed] #KenPom data is filtered using list input\n",
    "    \n",
    "    fig, ax = plt.subplots(dpi=150) #dpi for higher quality logo resolution\n",
    "    \n",
    "    data.plot.scatter(x=\"AdjO\",y=\"AdjD\", \n",
    "                      ylabel=\"Adjusted Defensive Efficiency\", \n",
    "                      xlabel=\"Adjusted Offensive Efficiency\",\n",
    "                      title=f\"KenPom Adjusted Efficiency Scatterplot: {Seed} Seeds\", #allow title to be changed accordingly\n",
    "                      ax=ax).invert_yaxis()\n",
    "\n",
    "    # Add average lines\n",
    "    plt.hlines(KenPom[\"AdjD\"].mean(), KenPom[\"AdjO\"].min(), KenPom[\"AdjO\"].max(), color='#c2c1c0')\n",
    "    plt.vlines(KenPom[\"AdjO\"].mean(), KenPom[\"AdjD\"].min(), KenPom[\"AdjD\"].max(), color='#c2c1c0')\n",
    "\n",
    "    # Average line labels\n",
    "    fig.text(.560,.705,'Avg AdjO', size=9, color='#575654',rotation=90)\n",
    "    fig.text(.165,.525,'Avg AdjD', size=9, color='#575654')\n",
    "    \n",
    "    #Annotate logos on data points in scatterplot\n",
    "    for x, y, path in zip(data[\"AdjO\"], data[\"AdjD\"], data[\"New Path\"]):\n",
    "    \n",
    "        ab = AnnotationBbox(getImage(path), (x, y), frameon=False)\n",
    "        ax.add_artist(ab)"
   ]
  },
  {
   "cell_type": "code",
   "execution_count": 14,
   "id": "bbdf419c",
   "metadata": {},
   "outputs": [
    {
     "data": {
      "application/vnd.jupyter.widget-view+json": {
       "model_id": "e877cbcc5b44406c80ec39aa40ce6fc5",
       "version_major": 2,
       "version_minor": 0
      },
      "text/plain": [
       "interactive(children=(Dropdown(description='Efficiency', options=('AdjEM', 'AdjO', 'AdjD'), value='AdjEM'), Dr…"
      ]
     },
     "metadata": {},
     "output_type": "display_data"
    }
   ],
   "source": [
    "#Efficiency Type vs Tempo Scatterplot: Filter by Seed\n",
    "@interact_manual\n",
    "\n",
    "def tempo_seed_scatter(Efficiency = [\"AdjEM\", \"AdjO\", \"AdjD\"], \n",
    "                  Seed = list(KenPom.Seed.unique())):\n",
    "    \n",
    "    data = KenPom[KenPom.Seed == Seed]\n",
    "    \n",
    "    fig, ax = plt.subplots(dpi=150)\n",
    "    \n",
    "    if f\"{Efficiency}\" == \"AdjEM\": \n",
    "        ylabel = \"Adjusted Efficiency Margin\"\n",
    "    elif f\"{Efficiency}\" == \"AdjD\":\n",
    "        ylabel = \"Adjusted Defensive Efficiency\"\n",
    "    else:\n",
    "        ylabel = \"Adjusted Offensive Efficiency\"\n",
    "    \n",
    "    data.plot.scatter(x=\"AdjTempo\",y=f\"{Efficiency}\", \n",
    "                      ylabel= ylabel, \n",
    "                      xlabel=\"Adjusted Tempo\",\n",
    "                      title=f\"KenPom Adjusted Efficiency vs Tempo Scatterplot: {Seed} Seeds\",\n",
    "                      ax=ax)\n",
    "    \n",
    "    #Invert y-axis if defensive efficiency is selected\n",
    "    if f\"{Efficiency}\" == \"AdjD\":\n",
    "        ax.invert_yaxis()\n",
    "    else: None\n",
    "\n",
    "    for x, y, path in zip(data[\"AdjTempo\"], data[f\"{Efficiency}\"], data[\"New Path\"]):\n",
    "    \n",
    "        ab = AnnotationBbox(getImage(path), (x, y), frameon=False)\n",
    "        ax.add_artist(ab)"
   ]
  },
  {
   "cell_type": "code",
   "execution_count": 15,
   "id": "023b3389",
   "metadata": {},
   "outputs": [
    {
     "data": {
      "application/vnd.jupyter.widget-view+json": {
       "model_id": "289c633338b047ffb183e30424c0bae3",
       "version_major": 2,
       "version_minor": 0
      },
      "text/plain": [
       "interactive(children=(Dropdown(description='Region', options=('East', 'South', 'Midwest', 'West'), value='East…"
      ]
     },
     "metadata": {},
     "output_type": "display_data"
    }
   ],
   "source": [
    "#Original Scatterplot: Filter by Bracket Region. \n",
    "#This will likely be the most helpful for picking which team will conquer each region! Awesome.\n",
    "\n",
    "@interact_manual\n",
    "\n",
    "def seed_scatter(Region = list(KenPom.Region.unique())): #list of conferences\n",
    "    \n",
    "    data = KenPom[KenPom.Region == Region] #KenPom data is filtered using list input\n",
    "    \n",
    "    fig, ax = plt.subplots(dpi=150) #dpi for higher quality logo resolution\n",
    "    \n",
    "    data.plot.scatter(x=\"AdjO\",y=\"AdjD\", \n",
    "                      ylabel=\"Adjusted Defensive Efficiency\", \n",
    "                      xlabel=\"Adjusted Offensive Efficiency\",\n",
    "                      title=f\"KenPom Adjusted Efficiency Scatterplot: {Region} Region\", #allow title to be changed accordingly\n",
    "                      ax=ax).invert_yaxis()\n",
    "\n",
    "    # Add average lines\n",
    "    plt.hlines(KenPom[\"AdjD\"].mean(), KenPom[\"AdjO\"].min(), KenPom[\"AdjO\"].max(), color='#c2c1c0')\n",
    "    plt.vlines(KenPom[\"AdjO\"].mean(), KenPom[\"AdjD\"].min(), KenPom[\"AdjD\"].max(), color='#c2c1c0')\n",
    "\n",
    "    # Average line labels\n",
    "    fig.text(.560,.705,'Avg AdjO', size=9, color='#575654',rotation=90)\n",
    "    fig.text(.165,.525,'Avg AdjD', size=9, color='#575654')\n",
    "    \n",
    "    #Annotate logos on data points in scatterplot\n",
    "    for x, y, path in zip(data[\"AdjO\"], data[\"AdjD\"], data[\"New Path\"]):\n",
    "    \n",
    "        ab = AnnotationBbox(getImage(path), (x, y), frameon=False)\n",
    "        ax.add_artist(ab)"
   ]
  },
  {
   "cell_type": "code",
   "execution_count": 17,
   "id": "b80a6049",
   "metadata": {},
   "outputs": [
    {
     "data": {
      "application/vnd.jupyter.widget-view+json": {
       "model_id": "9fd69e589618494fb5e1cda07a61657d",
       "version_major": 2,
       "version_minor": 0
      },
      "text/plain": [
       "interactive(children=(Dropdown(description='Efficiency', options=('AdjEM', 'AdjO', 'AdjD'), value='AdjEM'), Dr…"
      ]
     },
     "metadata": {},
     "output_type": "display_data"
    }
   ],
   "source": [
    "#Efficiency Type vs Tempo Scatterplot: Filter by Region\n",
    "\n",
    "@interact_manual\n",
    "def tempo_seed_scatter(Efficiency = [\"AdjEM\", \"AdjO\", \"AdjD\"], \n",
    "                  Region = list(KenPom.Region.unique())):\n",
    "    \n",
    "    data = KenPom[KenPom.Region == Region]\n",
    "    \n",
    "    fig, ax = plt.subplots(dpi=150)\n",
    "    \n",
    "    if f\"{Efficiency}\" == \"AdjEM\": \n",
    "        ylabel = \"Adjusted Efficiency Margin\"\n",
    "    elif f\"{Efficiency}\" == \"AdjD\":\n",
    "        ylabel = \"Adjusted Defensive Efficiency\"\n",
    "    else:\n",
    "        ylabel = \"Adjusted Offensive Efficiency\"\n",
    "    \n",
    "    data.plot.scatter(x=\"AdjTempo\",y=f\"{Efficiency}\", \n",
    "                      ylabel= ylabel, \n",
    "                      xlabel=\"Adjusted Tempo\",\n",
    "                      title=f\"KenPom Adjusted Efficiency vs Tempo Scatterplot: {Region} Region\",\n",
    "                      ax=ax)\n",
    "    \n",
    "    #Invert y-axis if defensive efficiency is selected\n",
    "    if f\"{Efficiency}\" == \"AdjD\":\n",
    "        ax.invert_yaxis()\n",
    "    else: None\n",
    "\n",
    "    for x, y, path in zip(data[\"AdjTempo\"], data[f\"{Efficiency}\"], data[\"New Path\"]):\n",
    "    \n",
    "        ab = AnnotationBbox(getImage(path), (x, y), frameon=False)\n",
    "        ax.add_artist(ab)"
   ]
  },
  {
   "cell_type": "code",
   "execution_count": null,
   "id": "ba624f82",
   "metadata": {},
   "outputs": [],
   "source": []
  }
 ],
 "metadata": {
  "kernelspec": {
   "display_name": "Python 3 (ipykernel)",
   "language": "python",
   "name": "python3"
  },
  "language_info": {
   "codemirror_mode": {
    "name": "ipython",
    "version": 3
   },
   "file_extension": ".py",
   "mimetype": "text/x-python",
   "name": "python",
   "nbconvert_exporter": "python",
   "pygments_lexer": "ipython3",
   "version": "3.11.5"
  }
 },
 "nbformat": 4,
 "nbformat_minor": 5
}
